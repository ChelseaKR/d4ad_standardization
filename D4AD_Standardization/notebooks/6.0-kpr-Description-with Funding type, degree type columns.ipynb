{
 "cells": [
  {
   "cell_type": "code",
   "execution_count": 1,
   "metadata": {
    "tags": []
   },
   "outputs": [
    {
     "output_type": "stream",
     "name": "stdout",
     "text": "done\n"
    }
   ],
   "source": [
    "# Importing the libraries \n",
    "import pandas as pd\n",
    "import numpy as np\n",
    "import random\n",
    "import pickle\n",
    "import re\n",
    "import regex  # for better, more capbale regex api\n",
    "import os\n",
    "import zipfile\n",
    "import more_itertools\n",
    "from itertools import chain\n",
    "import datetime\n",
    "import time\n",
    "from statsmodels.stats.proportion import proportion_confint\n",
    "# active labeler related\n",
    "from sklearn.feature_extraction.text import CountVectorizer\n",
    "from sklearn.feature_extraction.text import TfidfTransformer\n",
    "from sklearn.naive_bayes import ComplementNB  # corrects for class imbalance, SGD is pretty good too\n",
    "from sklearn.pipeline import Pipeline\n",
    "from superintendent import ClassLabeller\n",
    "from IPython.display import display, Markdown\n",
    "\n",
    "pd.set_option('display.max_colwidth', None)  # so we can peak at data and spot verify\n",
    "\n",
    "pipeline = Pipeline([\n",
    "    ('vect', CountVectorizer(analyzer='char', ngram_range=(1,2))),\n",
    "    ('tfidf', TfidfTransformer()),\n",
    "    ('clf', ComplementNB()),\n",
    "])\n",
    "print('done')"
   ]
  },
  {
   "cell_type": "code",
   "execution_count": 2,
   "metadata": {
    "tags": []
   },
   "outputs": [
    {
     "output_type": "stream",
     "name": "stdout",
     "text": "done\n"
    }
   ],
   "source": [
    "# Set up columns to keep, fields, locations for writing\n",
    "rootpath = \"/hdd/work/d4ad_standardization/\"\n",
    "processedpath = \"D4AD_Standardization/data/processed/\"\n",
    "externalpath = \"D4AD_Standardization/data/external/\"\n",
    "interimpath = \"D4AD_Standardization/data/interim/\"\n",
    "\n",
    "content_is = \"standardized_descriptions_and_degree_funding_type\"\n",
    "\n",
    "\n",
    "print('done')"
   ]
  },
  {
   "cell_type": "code",
   "execution_count": 3,
   "metadata": {
    "tags": []
   },
   "outputs": [
    {
     "output_type": "stream",
     "name": "stdout",
     "text": "done\n"
    }
   ],
   "source": [
    "\n",
    "filepath = \"standardized_name_and_name1.csv\" # builds off of notebook 5 work\n",
    "\n",
    "columns = [\n",
    "    \"STANDARDIZEDNAME_1\",\n",
    "    \"STANDARDIZEDNAME\",\n",
    "    \"DESCRIPTION\",\n",
    "    \"FEATURESDESCRIPTION\",\n",
    "    \"NAME_1\",\n",
    "    \"NAME\",\n",
    "    \"PREREQUISITES\",\n",
    "    \"STREET1\",\n",
    "    \"CITY\",\n",
    "    \"STATE\",\n",
    "    \"ZIP\",\n",
    "    \"WEBSITE\",\n",
    "    \"COUNTY\",\n",
    "    \"NONGOVAPPROVAL\",\n",
    "    \"STATECOMMENTS\",\n",
    "    \"CIPCODE\",\n",
    "    \"PROVIDERID\",\n",
    "    \"APPROVINGAGENCYID\"\n",
    "]\n",
    "\n",
    "columns_to_save = ['STANDARDIZED_DESCRIPTION', 'STANDARDIZED_FEATURESDESCRIPTION'] + columns\n",
    "\n",
    "SKIP_THIS = True # helps me be able to run all and not worry about pulling things\n",
    "# I already know I have on disk\n",
    "\n",
    "#df = pd.read_excel(rootpath + interimpath + filepath, usecols=columns)\n",
    "df = pd.read_csv(rootpath + interimpath + filepath, usecols=columns)\n",
    "print('done')"
   ]
  },
  {
   "cell_type": "code",
   "execution_count": 4,
   "metadata": {},
   "outputs": [],
   "source": [
    "pd.set_option('display.max_rows', False)\n",
    "\n",
    "the_df = df #df.sample(n=10000, random_state=42)"
   ]
  },
  {
   "cell_type": "code",
   "execution_count": 5,
   "metadata": {
    "tags": []
   },
   "outputs": [
    {
     "output_type": "stream",
     "name": "stdout",
     "text": "done1\n"
    }
   ],
   "source": [
    "# 2) Here we apply the abbreviation expansion to the\n",
    "# description columns. This code is repeated from the 5.0 notebook and should be externalized into ./src somewhere\n",
    "#\n",
    "# We first construct the abbreviation mapper\n",
    "#\n",
    "# We also store off a copy of the df for manipulation\n",
    "# this has older name fields, for informing on funding (WOIA) and degree type (?)\n",
    "# as well as the standardized fields so taht we can remove the extranous content still in it\n",
    "# Note: this is mixing responsibilites and should be seperated into a new notebook\n",
    "\n",
    "label_mapper = pd.read_csv(\n",
    "    rootpath + externalpath + \"label_mapper.csv\"\n",
    ")\n",
    "\n",
    "draft_output = the_df[['DESCRIPTION', 'FEATURESDESCRIPTION',\n",
    "                       'STANDARDIZEDNAME_1', 'STANDARDIZEDNAME',\n",
    "                       'NAME_1', 'NAME']]\n",
    "\n",
    "\n",
    "def make_term_grouped_regex(term=\"\", right_regex=\"\", left_regex=\"\"):\n",
    "    mystr = left_regex + '(' +\\\n",
    "                re.escape(term) +\\\n",
    "            ')' + right_regex\n",
    "    return mystr\n",
    "\n",
    "def make_grouped_regexes(replacement, left_regex=\"\", right_regex=\"\"):\n",
    "    return (make_term_grouped_regex(left_regex=left_regex,\n",
    "                                    term=key,\n",
    "                                    right_regex=right_regex)\\\n",
    "            for key in replacement.keys()\n",
    "    )\n",
    "\n",
    "def construct_map(label_mapper=label_mapper):\n",
    "    return {\n",
    "        **dict(zip(label_mapper.abbreviation, label_mapper.expanded))\n",
    "    }\n",
    "\n",
    "replacement_map = construct_map()\n",
    "\n",
    "abbrevation_pattern =\\\n",
    "    regex.compile(\n",
    "        \"(?p)\" +\n",
    "        \"|\".join(   # match words at start of string\n",
    "            make_grouped_regexes(replacement_map, left_regex=r'^', right_regex=r'[\\s:]')\n",
    "        ) + \"|\" +\\\n",
    "        \"|\".join(   # match words surrounded by spaces\n",
    "            make_grouped_regexes(replacement_map, left_regex=r'\\s', right_regex=r'\\s')\n",
    "        ) + \"|\" +\\\n",
    "        \"|\".join(   # match words that make up entire fields, e.g. 'Nursing'\n",
    "            make_grouped_regexes(replacement_map, left_regex=r'^', right_regex=r'$')\n",
    "        ) + \"|\" +\\\n",
    "        \"|\".join(   # match words at end of string preceded by space or slash\n",
    "            make_grouped_regexes(replacement_map, left_regex=r'[\\s/]', right_regex=r'$')\n",
    "        ) + \"|\" +\\\n",
    "        \"|\".join(   # match words within string that follow a slash, end with a space or slash\n",
    "            make_grouped_regexes(replacement_map, left_regex=r'/', right_regex=r'[\\s/]')\n",
    "        )\n",
    "    )\n",
    "\n",
    "def multiple_mapper(string):\n",
    "    return abbrevation_pattern.sub(\n",
    "        lambda x: \\\n",
    "        x.group().replace( # replace the found string\n",
    "            more_itertools.first_true(x.groups() # where the first matched group...\n",
    "        ),  replacement_map[more_itertools.first_true(x.groups())] # ... is replaced with the lookup\n",
    "    ), string)\n",
    "print('done1')"
   ]
  },
  {
   "cell_type": "code",
   "execution_count": 6,
   "metadata": {
    "tags": []
   },
   "outputs": [
    {
     "output_type": "stream",
     "name": "stdout",
     "text": "Done! That took 0:00:00.398888 time\n"
    }
   ],
   "source": [
    "# ... with the abbreviation mapper in hand we now simply apply to both description columns\n",
    "# it takes about 2.5 minutes each to run through all rows for both descriptions.\n",
    "start = datetime.datetime.now()\n",
    "\n",
    "if not SKIP_THIS:\n",
    "    draft_output['STANDARDIZED_DESCRIPTION'] =\\\n",
    "        draft_output['DESCRIPTION'].dropna().map(multiple_mapper)\n",
    "    draft_output['STANDARDIZED_FEATURESDESCRIPTION'] =\\\n",
    "        draft_output['FEATURESDESCRIPTION'].dropna().map(multiple_mapper)\n",
    "else:\n",
    "    joining_columns = ['NAME_1', 'NAME']\n",
    "    interim_csv = \"standardized_descriptions_and_degree_funding_type.csv\"\n",
    "    already_standardized_descriptions =\\\n",
    "        pd.read_csv(rootpath+interimpath+interim_csv,\n",
    "        usecols=[\n",
    "            'STANDARDIZED_DESCRIPTION', \n",
    "            'STANDARDIZED_FEATURESDESCRIPTION'] + joining_columns)\\\n",
    "                .drop_duplicates(subset=joining_columns)  # not sure how or why we have dupes\n",
    "    # see: https://stackoverflow.com/questions/22720739/pandas-left-outer-join-results-in-table-larger-than-left-table\n",
    "    \n",
    "    read_in = draft_output.merge(\n",
    "            already_standardized_descriptions,\n",
    "            how='left',\n",
    "            on=joining_columns,\n",
    "            validate=\"m:1\"\n",
    "    )\n",
    "\n",
    "    assert len(read_in) == len(draft_output), f\"read in shape {len(read_in)} does not equal draft df {len(draft_output)}!\"\n",
    "    draft_output = read_in\n",
    "    \n",
    "end = datetime.datetime.now()\n",
    "print(f\"Done! That took {(end-start)} time\")"
   ]
  },
  {
   "cell_type": "code",
   "execution_count": 9,
   "metadata": {
    "tags": []
   },
   "outputs": [
    {
     "output_type": "stream",
     "name": "stdout",
     "text": "done\n"
    }
   ],
   "source": [
    "# 3) \n",
    "# Now we have to extract course funding type from the older\n",
    "# columns. \n",
    "\n",
    "wioa_like =\\\n",
    "    regex.compile(\n",
    "        '''\n",
    "        (title\\s+[IV1234]+\\b\\s*?)           # WOIA has 4 titles of funding in law, at end of sentence or space\n",
    "        |(wioa){d<=1}                       # is called WOIA, WIA, allowed to miss a letter\n",
    "        ''',\n",
    "        flags=regex.I|regex.VERBOSE)\n",
    "\n",
    "name =\\\n",
    "    draft_output['NAME'].dropna()\\\n",
    "                        .map(wioa_like.search)\\\n",
    "                        .dropna().index\n",
    "\n",
    "name_1 =\\\n",
    "    draft_output['NAME_1'].dropna()\\\n",
    "                        .map(wioa_like.search)\\\n",
    "                        .dropna().index\n",
    "\n",
    "descriptions =\\\n",
    "    draft_output['DESCRIPTION'].dropna()\\\n",
    "                          .map(wioa_like.search)\\\n",
    "                          .dropna().index\n",
    "\n",
    "features_description =\\\n",
    "    draft_output['FEATURESDESCRIPTION'].dropna()\\\n",
    "                          .map(wioa_like.search)\\\n",
    "                          .dropna().index\n",
    "\n",
    "wioa_indices = name.union(name_1)\\\n",
    "                   .union(descriptions)\\\n",
    "                   .union(features_description)\n",
    "draft_output['IS_WIOA'] = False\n",
    "draft_output.loc[wioa_indices, 'IS_WIOA'] = True\n",
    "print('done')"
   ]
  },
  {
   "cell_type": "code",
   "execution_count": 11,
   "metadata": {
    "tags": []
   },
   "outputs": [],
   "source": [
    "# ... Finally we extact the degree type from the older columns, repeating the\n",
    "# procedure above but with slightly different regexes\n",
    "\n",
    "as_like =\\\n",
    "    regex.compile(\n",
    "        '''\n",
    "        [\\b\\s](A\\.A\\.S\\.)[\\b\\s]\n",
    "        |[\\b\\s](A\\.S\\.)[\\b\\s]\n",
    "        |[\\b\\s](AS\\sDe)                   # AS Degree\n",
    "        |[\\b\\s](AS\\sSc)                   # AS Science\n",
    "        |[\\b\\s](AAS)[\\b\\s]                 # applied associates of science\n",
    "        ''',\n",
    "        flags=regex.VERBOSE)\n",
    "\n",
    "\n",
    "name =\\\n",
    "    draft_output['NAME'].dropna()\\\n",
    "                        .map(as_like.search)\\\n",
    "                        .dropna().index\n",
    "\n",
    "name_1 =\\\n",
    "    draft_output['NAME_1'].dropna()\\\n",
    "                          .map(as_like.search)\\\n",
    "                          .dropna().index\n",
    "\n",
    "descriptions =\\\n",
    "    draft_output['DESCRIPTION'].dropna()\\\n",
    "                          .map(as_like.search)\\\n",
    "                          .dropna().index\n",
    "\n",
    "features_description =\\\n",
    "    draft_output['FEATURESDESCRIPTION'].dropna()\\\n",
    "                          .map(as_like.search)\\\n",
    "                          .dropna().index\n",
    "\n",
    "as_indices = name.union(name_1)\\\n",
    "                  .union(descriptions)\\\n",
    "                  .union(features_description)\n",
    "\n",
    "draft_output['Mentioned_Associates'] = False\n",
    "draft_output.loc[as_indices, 'Mentioned_Associates'] = True"
   ]
  },
  {
   "cell_type": "code",
   "execution_count": 12,
   "metadata": {},
   "outputs": [],
   "source": [
    "# Now we go back for mentions of certificate and assign those\n",
    "cert_like =\\\n",
    "    regex.compile(\n",
    "        '''\n",
    "        (certification)\n",
    "        |(certificate)\n",
    "        |[\\s\\b](cert)[\\s\\b]\n",
    "        ''',\n",
    "        flags=regex.I|regex.VERBOSE)\n",
    "\n",
    "name =\\\n",
    "    draft_output['NAME'].dropna()\\\n",
    "                        .map(cert_like.search)\\\n",
    "                        .dropna().index\n",
    "\n",
    "name_1 =\\\n",
    "    draft_output['NAME_1'].dropna()\\\n",
    "                          .map(cert_like.search)\\\n",
    "                          .dropna().index\n",
    "\n",
    "descriptions =\\\n",
    "    draft_output['DESCRIPTION'].dropna()\\\n",
    "                          .map(cert_like.search)\\\n",
    "                          .dropna().index\n",
    "\n",
    "features_description =\\\n",
    "    draft_output['FEATURESDESCRIPTION'].dropna()\\\n",
    "                          .map(cert_like.search)\\\n",
    "                          .dropna().index\n",
    "\n",
    "cert_indices = name.union(name_1)\\\n",
    "                   .union(descriptions)\\\n",
    "                   .union(features_description)\n",
    "draft_output['Mentioned_Certificate'] = False\n",
    "draft_output.loc[cert_indices, 'Mentioned_Certificate'] = True"
   ]
  },
  {
   "cell_type": "code",
   "execution_count": 13,
   "metadata": {},
   "outputs": [],
   "source": [
    "# 4) \n",
    "# Now we do some simple removals for known degree related mentions in the name fields\n",
    "\n",
    "degree_cert_variants =\\\n",
    "    [\"A.S.\",\n",
    "     \"AAS Degree\",\n",
    "     \"AAS -\",\n",
    "     \"A.S. Degree\",\n",
    "     \"AS Degree\",     \n",
    "     \"Degree\",\n",
    "     \"degree\",\n",
    "     \"certificate\",\n",
    "     \"Certificate\",\n",
    "     \"Associate of Applied Science\",\n",
    "     \"-[\\s\\b]Associate\",\n",
    "     \"^\\s*In\\b\"]\n",
    "\n",
    "draft_output['CLEANED_STANDARDIZED_NAME_1'] =\\\n",
    "    draft_output['STANDARDIZEDNAME_1'].replace(degree_cert_variants, \"\", regex=True)"
   ]
  },
  {
   "cell_type": "code",
   "execution_count": 12,
   "metadata": {
    "tags": []
   },
   "outputs": [
    {
     "output_type": "stream",
     "name": "stdout",
     "text": "done The stratified validation data is 20 long\n"
    }
   ],
   "source": [
    "# This is the evaluation part of the program and course name standardizations\n",
    "# along with the provider name. My goal is to have 85%+ standardized, send out\n",
    "# that 85% will come from the jefferey's interval\n",
    "\n",
    "# Evaluation Rubric:\n",
    "#   A) Here we label clearly wrong snippets, anything that is marginal we mark as\n",
    "# standardized for purposes of this evaluation because we want to err on the side\n",
    "# of giving overly specific information, which includes odd info\n",
    "#   B) We also click through quickly, not overly dwelling one any one example, the\n",
    "# goal here is to get the evaulation done quickly since it's so manual\n",
    "#   C) For now we ignore casingl there does need to be a camel casing applied to\n",
    "# all caps\n",
    "\n",
    "def stratified_sample(the_data, strata, size):\n",
    "    some_frac = size/len(the_data)\n",
    "    return \\\n",
    "        the_data.groupby(\n",
    "            strata\n",
    "        ).apply(\n",
    "            lambda g: g.sample(\n",
    "                n=size\n",
    "                #frac=1\n",
    "                )\n",
    "        )\n",
    "\n",
    "key_factors_to_consider = ['IS_WOIA'] #, 'Mentioned_Certificate']\n",
    "\n",
    "# We create a series of data to evaluate\n",
    "columns_to_check = ['CLEANED_STANDARDIZED_NAME_1', 'IS_WOIA',\n",
    "                    'Mentioned_Certificate', 'Mentioned_Associates',\n",
    "                    'STANDARDIZED_DESCRIPTION', 'STANDARDIZED_FEATURESDESCRIPTION']\n",
    "\n",
    "check_this_many = 10 #100 * len(columns_to_check) # we mark if ANY column are wrong\n",
    "# the_data = draft_output.sample(check_this_many,random_state=42)\\\n",
    "#                        .loc[:, columns_to_check]\n",
    "the_data = stratified_sample(draft_output, strata=key_factors_to_consider, size=check_this_many)\n",
    "\n",
    "# we shuffle the data to elminate any bias across/within the columns when\n",
    "# evaluting\n",
    "print('done', f'The stratified validation data is {len(the_data)} long')"
   ]
  },
  {
   "cell_type": "code",
   "execution_count": null,
   "metadata": {},
   "outputs": [],
   "source": []
  },
  {
   "cell_type": "code",
   "execution_count": 140,
   "metadata": {},
   "outputs": [
    {
     "output_type": "display_data",
     "data": {
      "text/plain": "ClassLabeller(children=(HBox(children=(HBox(children=(FloatProgress(value=0.0, description='Progress:', max=1.…",
      "application/vnd.jupyter.widget-view+json": {
       "version_major": 2,
       "version_minor": 0,
       "model_id": "bca4a194b8434fc3b2b3bbcbbb5a820c"
      }
     },
     "metadata": {}
    }
   ],
   "source": [
    "markdown = []\n",
    "\n",
    "def display_func(row):\n",
    "    \"\"\"\n",
    "    The display function gets passed your data - in the\n",
    "    case of a dataframe, it gets passed a row - and then\n",
    "    has to \"display\" your data in whatever way you want.\n",
    "\n",
    "    It doesn't need to return anything\n",
    "    \"\"\"\n",
    "\n",
    "    the_string =\\\n",
    "            \"**IS_WOIA:** \" + str(row[\"IS_WOIA\"]) +\\\n",
    "            \" **Cert:** \" + str(row[\"Mentioned_Certificate\"]) +\\\n",
    "            \" **Assoc:** \" + str(row[\"Mentioned_Associates\"]) +\\\n",
    "            \"\\n\\n**Provider:** \" + str(row[\"STANDARDIZEDNAME\"]) + \"\" +\\\n",
    "            \"\\n\\n**Course Name:** \" + str(row[\"CLEANED_STANDARDIZED_NAME_1\"]) + \"\" +\\\n",
    "            \"\\n\\n**Description:** \" + str(row[\"STANDARDIZED_DESCRIPTION\"]) + \"\" +\\\n",
    "            \"\\n\\n**Featured Description:** \" + str(row[\"STANDARDIZED_FEATURESDESCRIPTION\"]) + \"\" +\\\n",
    "            \"\\n\\n**(unstandardized):** [Name_1] \" + str(row[\"NAME_1\"]) + \" [Name] \" + str(row[\"NAME\"])\n",
    "\n",
    "\n",
    "    markdown_string =\\\n",
    "        Markdown(the_string)\n",
    "\n",
    "    display(\n",
    "        markdown_string\n",
    "    )\n",
    "    markdown.append(the_string)\n",
    "\n",
    "def preprocessor(x, y):\n",
    "    # only take standardized column, leave everything else\n",
    "    return x, y\n",
    "\n",
    "verification_widget = ClassLabeller(\n",
    "    features=the_data,\n",
    "    model=pipeline,\n",
    "    model_preprocess=preprocessor,\n",
    "    display_func=display_func,\n",
    "    options=['standardized', 'not standardized'],\n",
    "    acquisition_function='margin'\n",
    ")\n",
    "\n",
    "verification_widget"
   ]
  },
  {
   "cell_type": "code",
   "execution_count": 148,
   "metadata": {
    "tags": []
   },
   "outputs": [
    {
     "output_type": "stream",
     "name": "stdout",
     "text": "**IS_WOIA:** False **Cert:** False **Assoc:** False\n\n**Provider:** Anthem Institute\n\n**Course Name:** CECI-470-01\n\n**Description:** A brief review of the basics and begin to create complicated spreadsheets\n\n**Featured Description:** nan\n\n**(unstandardized):** [Name_1] CECI-470-01 [Name] Anthem Institute - Jersey City - PVS\n\n\n\n**IS_WOIA:** False **Cert:** False **Assoc:** False\n\n**Provider:** Career Education International Group\n\n**Course Name:** Business Administration Package\n\n**Description:** Upon completion of this package students will learn to use the Microsoft Office Pro at high level of proficiency.  Student will also learn use windows XP.  After completing this package students will be able to work in any entry/intermediate level position that requires the use of these programs.  The specific job title will be receptionist, office aid, and clerical.\n\n**Featured Description:** nan\n\n**(unstandardized):** [Name_1] Business Administration Package [Name] Career Education International Group\n\n\n\n**IS_WOIA:** False **Cert:** False **Assoc:** False\n\n**Provider:** Ocean County College\n\n**Course Name:** CEHS-279-1FA\n\n**Description:** venipuncture, electrocardiography, vital signs\n\n**Featured Description:** nan\n\n**(unstandardized):** [Name_1] CEHS-279-1FA [Name] Ocean County College - Continuing & Professional Education\n\n\n\n**IS_WOIA:** False **Cert:** False **Assoc:** False\n\n**Provider:** New Horizons of Central and Northern NJ, Inc.\n\n**Course Name:** Word 2000 Level 1\n\n**Description:** Students will learn the basic skills necessary to begin using Word 2000\n\n**Featured Description:** nan\n\n**(unstandardized):** [Name_1] Word 2000 Level 1 [Name] New Horizons of Central and Northern NJ, Inc.- Parsippany - PVS\n\n\n\n**IS_WOIA:** False **Cert:** False **Assoc:** True\n\n**Provider:** Berkeley College\n\n**Course Name:** ternational Business\n\n**Description:** Berkeley College offers two degree programs in International Business - A.S. and Associate of Applied Science Both programs explore the dynamics of multinational and multicultural business environments and prepare students to manage successfully in the large, multinational markets that are emerging in North and South America, Europe, Africa, the Pacific Rim, and elsewhere. Students who wish to develop proficiency in either Spanish or French¿two important international business languages¿should choose the A.S. program presented below, while those who prefer to focus  more intensively on business studies should choose the Associate of Applied Science degree program instead of the A.S. degree program.\n\n\n\n**Featured Description:** nan\n\n**(unstandardized):** [Name_1] International Business [Name] Berkeley College - Woodbridge\n\n\n\n**IS_WOIA:** False **Cert:** False **Assoc:** False\n\n**Provider:** Burlington County Institute of Technology\n\n**Course Name:** Fiber Optics\n\n**Description:** Will prepare the student as a fiber optics technician, fiber optic installer, fiber optic technicians for the medical field, sales rep for fiber optic cable or equipment and entry level Network Technician.\n\n**Featured Description:** nan\n\n**(unstandardized):** [Name_1] Fiber Optics [Name] Burlington County Institute of Technology - Adult Education Division\n\n\n\n**IS_WOIA:** False **Cert:** False **Assoc:** False\n\n**Provider:** Atlantic County Institute of Technology\n\n**Course Name:** Nursing \n\n**Description:** The program is divided into three trimesters (220 days in total) beginning in August. Students are taught courses including Anatomy and Physiology, Fundamentals of Nursing, Personal and Community Health, Nutrition, Working Relationships, Gerontology, Microbiology and Pharmacology. They also gain clinical experience by affiliating in area nursing homes two days a week, which enables them to practice the theories, skills and procedures they have learned in the classroom. Clinical experience increases to three full days per week at local hospitals during the final two trimesters. Courses taught during that time include: Medical/Surgical Nursing, Psychiatric Nursing, Maternity Nursing and Pediatric Nursing.\n\n**Featured Description:** ACIT offers a comprehensive practical nursing program to male and female students. The 50-week course begins in August and includes both class and clinical schedules, with 50% of the course focused on clinical expertise. The course is approved by the New Jersey Board of Nursing and the New Jersey Department of Education. Upon graduation, the student is eligible to sit for the Practical Nursing National Boards.\n\n**(unstandardized):** [Name_1] Nursing (LPN) Out of County Residents [Name] Atlantic County Institute of Technology - Adult Day Programs\n\n\n\n**IS_WOIA:** False **Cert:** False **Assoc:** False\n\n**Provider:** CDM Technical Training Institute, Inc.\n\n**Course Name:** AutoCAD Complete Series\n\n**Description:** The AutoCAD Drafting program provides in-depth and comprehensive exposure to AutoCAD.  Program also includes civil, structural, mechanical and architectural applications.  It emphasizes the most commonly used commands and features to produce typical on the job drawings.  An abundance of open lab time ensures a solid working knowledge of the software. A portion of the program is an open lab for students to further develop their skills using the software. Program is approved by the US Veterans Administration.\n\n**Featured Description:** nan\n\n**(unstandardized):** [Name_1] AutoCAD Complete Series [Name] CDM Technical Training Institute, Inc. - Toms River - PVS\n\n\n\n**IS_WOIA:** False **Cert:** False **Assoc:** False\n\n**Provider:** Impetus Systems and Careers\n\n**Course Name:** SAS-CLINICAL TRIPACKAGE PROGRAM\n\n**Description:** This Program is mainly  designed for individuals interested in building a SAS career in Pharma Industry.\n\nAlso, individuals may get  opportunities to work in Finanacial Industry\n\n**Featured Description:** The main highlight of this  program is the Real time  SAS Case studies with which the  participants will gain confidence in Pharma - Clinical Trials Phase 1,2,3,4. statistical programming.\n\n\n**(unstandardized):** [Name_1] SAS-CLINICAL TRIALS PACKAGE PROGRAM [Name] Impetus Systems and Careers - PVS\n\n\n\n**IS_WOIA:** False **Cert:** True **Assoc:** False\n\n**Provider:** Moe Shea Corporation\n\n**Course Name:** Microsoft Certified Solutions Developer VB.Net Training Track\n\n**Description:** The Training Camp provides thorough instructor-led training to ensure that you learn the fundamentals, obtain hands-on skills, and earn your certification. You will emerge able to immediately utilize your newly-obtained knowledge and skills.\nThe Training Camp has an aggressive educational schedule that thoroughly covers all essential elements necessary to become certified as a Microsoft Certified Solution Developer.\n\n\n**Featured Description:** Build real-world programming skills Developing and Implementing Windows-based Applications with Microsoft VB.Net and prepare for Microsoft Certified Professional Exams 70-306 and 70-316. Work through the lessons and hands-on exercises to learn how to develop Windows-based applications using Visual Basic .NET. Side-by-side code examples and labs show how to perform essential tasks and fully cover the objectives of the certification exam. \n\n**(unstandardized):** [Name_1] MCSD VB.Net Training Track [Name] Moe Shea Corporation - Bordentown Location - PVS\n\n\n\n**IS_WOIA:** True **Cert:** False **Assoc:** False\n\n**Provider:** Paterson Public Schools\n\n**Course Name:** English Literacy and Civics Education \n\n**Description:** This program is designed to assist students to acquire basic educational skills. Instruction focuses on reading, mathematics, language arts reading, writing and everyday like skills such as consumer education, parenting and  health care. Adult learners acquire the skills that are necessary to function effectively at High School Equivalent level classes.\nIn addition, civics education and the study for citizenship is incorporated into these classes.\nClasses are offered during morning, afternoon and evening hours. \n\n**Featured Description:** Additional months are available for those needing to further their skill sets.\n\n**(unstandardized):** [Name_1] English Literacy and Civics Education (Citizenship) [Name] Paterson Public Schools - WIA Title 2\n\n\n\n**IS_WOIA:** True **Cert:** False **Assoc:** False\n\n**Provider:** Morris County School of Technology, Adult Education\n\n**Course Name:** Cosmetology\n\n**Description:** This comprehensive 1000+ hour program completely prepares the student for the New Jersey Board of Cosmetology theory and practical exams for a New Jersey license. Lecture, demonstration and hands-on application of skills comprise this career-oriented program. Styling, hair care, perms, coloring, waxing and facials as well as nail care are all facets of the course of study. Professional toolkit and access to online exam prep is included in the tuition. Mid course, at least once a week, the classroom becomes a working salon; students become comfortable in applying their skills in this real-life environment with actual customers. \n\n**Featured Description:** The adult cosmetology program has enjoyed excellent program completion, 85 - 100% passing rate of licensure exam along with high employment/placement rates. Kit is included with tuition. Required text/work books, black scrubs, closed black shoes/sneakers, permit and licensing fees not included in tuition. Financial aid eligible program. Fees include tuition and kit only.  Required text and workbooks, scrubs, shoes, work permit, and licensing exam fees not included with the tuition. Out of county tuition is $9,998.\n\n**(unstandardized):** [Name_1] Cosmetology [Name] Morris County School of Technology, Adult Education - WIA Title 2\n\n\n\n**IS_WOIA:** True **Cert:** True **Assoc:** False\n\n**Provider:** Middlesex County College\n\n**Course Name:** Pharmacy Techician \n\n**Description:** Prepare to enter one of the most in-demand careers in today's health care market. Course content includes medical terminology for the pharmacy, dosage calculations, prescription  interpretation, product recognition, generic and brand names, drug interactions and inventory control.\n\n**Featured Description:** This program is offered by Middlesex County College's Career Training Center, a non-credit bearing career-education department with the College's Division of Corporate and Community Education. The Center offers a wide range of business education and career programs leading to job placement in computer careers in office administration and information technology. MCC's Career Training Center has a one-stop admissions intake system (call 906-4231). A qualitative Information Technology vendor testing curricula; comprehensive career development/job placement services; affordable prices (texts and materials included in price, Pell eligibility, educational loans, Partial Payment Plan); and a comprehensive counselor support and referral system (WIA, DOL-WDP, DVR, TRA, WorkFirst).\n\n**(unstandardized):** [Name_1] Pharmacy Techician Certificate [Name] Middlesex County College - Career Training Center\n\n\n\n**IS_WOIA:** True **Cert:** True **Assoc:** False\n\n**Provider:** Hunterdon County Educational Services Commission\n\n**Course Name:** ServSafe Manager Certification\n\n**Description:** This curriculum provides food safety training for food service managers as a tool to implement essential food safety practices and create a culture of food safety in the work environment. Participants will learn ways to protect customer health, improve employee performance and preserve business reputation. The ServSafe Manager Curriculum is aligned with industry food safety standards, in accordance with the latest FDA Food Code, and issued is by the National Restaurant Association.\n\n\n**Featured Description:** You can expect to complete the classroom instruction in 2-3 days.  The exam is offered online and will be given at the conclusion of the course. Individual tutoring is available.  This course is taught in English and Spanish.\n\n**(unstandardized):** [Name_1] ServSafe Manager Certification [Name] Hunterdon County Educational Services Commission - WIA Title 2\n\n\n\n**IS_WOIA:** True **Cert:** False **Assoc:** False\n\n**Provider:** Essex County College Non-Credit\n\n**Course Name:** ICD-10 Training for Healthcare Professionals, West Essex Campus\n\n**Description:** This course, participants will be exposed to human pathophysiology, ICD-9 to ICD-10 conversions, as well as the conventions and guidelines of ICD-10-CM needed to accurately code and sequence diagnoses. Plan Ahead-Register Now! 3.0 CEUs. Textbook required. Start Dates: Mon., & Wed, Jan. 27-Mar.3, 2014 .Time:6:30pm-9:30pm 10 sessions.\n\n**Featured Description:** Effective October 2014, the medical industry will implement the ICD-10 coding system. This transition will have a significant impact on healthcare providers and the reimbursement process.\n\n**(unstandardized):** [Name_1] ICD-10 Training for Healthcare Professionals, West Essex Campus [Name] Essex County College Non-Credit - WIA Title 2\n\n\n\n**IS_WOIA:** True **Cert:** True **Assoc:** False\n\n**Provider:** Rutgers University\n\n**Course Name:** Lean/Six Sigma Black Belt Certification\n\n**Description:** Not eligible for Workforce Investment Act Grants.\n\nLean/Six Sigma Black Belt Certification is a representation of an individual's ability to master the LEAN/Six Sigma tools studied in Green and Black Belt training. The Certification will validate, through both Rutgers University and Lockheed Martin, the individual's contributions to the organization through their leadership in three (3) cost saving project/events using the LEAN/Six Sigma philosophy and tools. \nFor more info, Call or e-mail us (jonlane@camden.rutgers.edu) \n\n\n\n**Featured Description:** Applicants for LEAN/Six Sigma Black Belt Certification must:  Have satisfactorily completed the Rutgers/Lockheed Black Belt Training Course within the past 18 months, from the time of application. \n\nBe employed in an organization that is currently conducting LEAN/Six Sigma projects. \n\nBe involved, in a leadership capacity, in the implementation, monitoring and measurement of an actual LEAN/Six Sigma project (past, present or future) at their place of employment with a recommended net savings of $125,000 or more, or the equivalent, over the 3 projects. \n\nOR\n\nDevelop and implement a plan, approved by Rutgers, for a Lean/Six Sigma project at a cooperating business, whether as a paid consultant or a compensated or uncompensated intern.\nIdentification of Sponsor: The applicant must identify, on the Application Form, a sponsor. The Sponsor will be an individual of higher authority who was/is either a) the supervisor of the applicant or b) the internal Six Sigma project sponsor, who can validate, based on first hand information, the applicants contribution on projects.   \n\nRole of Sponsor: In the Certification process, the sponsor must be able to verify the results of three (3) Six Sigma projects and, in phone interviews, discuss the role of the applicant on those projects.   \n\nRequired Submission Information: (typically 2-4 pages per project) \n\n\n**(unstandardized):** [Name_1] Lean/Six Sigma Black Belt Certification [Name] Rutgers University - Executive Education at the School of Business - Camden\n\n\n\n**IS_WOIA:** True **Cert:** True **Assoc:** False\n\n**Provider:** Morris County School of Technology, Adult Education\n\n**Course Name:** Patient Care Technician\n\n**Description:** Patient Care Technicians are allied health professionals who provide direct patient care, such as, obtaining patient vital signs and other data, communicating with healthcare team, patients or family members, assisting with activities of daily living (ADLs), complying with confidentiality requirements, and performing ECG's and phlebotomy tasks.\n\n**Featured Description:** Successful students must take and pass the NCCT certifying exam. If you are not a Cisco Network Associate at this time, it's recommended that you check out the Cisco Network Associate program offered at County College of Morris in Randolph. Required textbooks and certification exam fees not included with tuition.\n\n**(unstandardized):** [Name_1] Patient Care Technician [Name] Morris County School of Technology, Adult Education - WIA Title 2\n\n\n\n**IS_WOIA:** True **Cert:** True **Assoc:** False\n\n**Provider:** Brookdale Community College Business & Community Development Division\n\n**Course Name:** Alzheimer's and Dementia Care Seminar -  Program\n\n**Description:** An essential certification program for all health care providers: Home Health Aides, Nursing Assistants, LPNs, RNs, Assistant Administrators, Administrators, Executive Directors, Agency Owners, Activity & Recreational Professionals, Clergy, Volunteer Coordinators, Social Workers, PT, OT, ST, Geriatric Care Managers, Case Managers and Long Term Care Consultants.  This training was established by the National Council of Certified Dementia Practitioners (NCCDP), which exists to establish credentialing mechanisms and validating proficiency in Alzheimer¿s and Dementia `care. This is a seven hour extensive training program in the area of Alzheimer¿s and Dementia care. Modules of the program include Overview of Dementia, Diagnosis, Prognosis, Treatment, Communication, Feelings, Depression and Repetitive Behaviors, Paranoia, Hallucinations, Wandering, Hoarding, Aggressive Behavior, Intimacy and Sexuality, Personal Care, Pain, Nutrition, Activities, Environment, Staff and Family Support, Diversity and Cultural Competence. This is the required seminar for those pursuing certification and who qualify for Certified Dementia Practitioner.\nTo see if you would qualify after completing this seminar please see www.nccdp.org and download the CDP application. Note: Upon completion of the class, the student will be provided a CDP application and the student (who qualifies for certification) will submit the CDP application directly to the NCCDP. You are not certified until you have submitted your application to the NCCDP and the council has approved you for certification as a CDP.\n\n\n**Featured Description:** nan\n\n**(unstandardized):** [Name_1] Alzheimer's and Dementia Care Seminar - Certificate Program [Name] Brookdale Community College Business & Community Development Division - Title 2\n\n\n\n**IS_WOIA:** True **Cert:** False **Assoc:** False\n\n**Provider:** Target Training Center \n\n**Course Name:** JumpStart - Basic Skills Development\n\n**Description:** The program develops necessary skills of a level of high school completeion that will enable students to successfully complete the General Education Diploma test battery which includes: Writing Skills, Social Studies, Reading and Mathematics.  The program is 12 Weeks / 300 hours. The program provides computer assisted basic skills training including G.E.D. Preparation.\n\n**Featured Description:** Locally Response to Class Size\nGroup Contract. Exclusive to Workforce Investment Act eligible participants.\n\n**(unstandardized):** [Name_1] JumpStart - Basic Skills Development [Name] Target Training Center  - Jersey City/Hudson County\n\n\n\n**IS_WOIA:** True **Cert:** False **Assoc:** False\n\n**Provider:** New Brunswick Public Schools Adult Learning Center\n\n**Course Name:** Evening School for Foreign Born\n\n**Description:** FREE - Day or Evening Classes -  Periodic Registration/space available basis - Sept-June. Classes for second language students who need English skills in speaking, listening, reading and writing as well as preparation for citizenship. Course also includes English skills needed for the workplace, parenting & family activities and participation in community life. A Bilingual Counselor and secretary (Spanish) are available to assist students.\n\n**Featured Description:** FREE Day and Evening classes accommodate the complex lives of adults who are juggling work, family and personal responsibilities. Students participate in Center-wide activities: Computer lab, Health Presentations, on-site Health Fair and other special events. Career counseling, on-site employer recruitment, One-Stop Internet access to job search and an annual on-site Job Fair help students who seek employment. Free Parking & walking distance to public transportation.\n\n**(unstandardized):** [Name_1] Evening School for Foreign Born [Name] New Brunswick Public Schools Adult Learning Center - WIA Title 2\n\n\n\n"
    }
   ],
   "source": [
    "for m in markdown:\n",
    "    print(m)\n",
    "    print('\\n\\n')"
   ]
  },
  {
   "cell_type": "markdown",
   "metadata": {},
   "source": []
  },
  {
   "cell_type": "code",
   "execution_count": 126,
   "metadata": {
    "tags": []
   },
   "outputs": [
    {
     "output_type": "stream",
     "name": "stdout",
     "text": "jeffreys bionomial proportion is: [0.97, 0.97]\nWe examined 65 labels, of which 63 are correct. There are 65 labels.\n"
    }
   ],
   "source": [
    "# insert bionomial proprtion esimator here\n",
    "\n",
    "def print_CI(labels, response_is_standardized = \"standardized\", method = \"jeffreys\"):\n",
    "    successful_count = sum(\n",
    "        response_is_standardized == label for label in labels\n",
    "    )\n",
    "    not_examined_count = sum(\n",
    "        None == label for label in labels\n",
    "    )\n",
    "\n",
    "    CI = proportion_confint(\n",
    "            count= successful_count,\n",
    "            nobs= len(labels) - not_examined_count,\n",
    "            alpha = 0.95,\n",
    "            method=method\n",
    "        )\n",
    "    print(f\"{method} bionomial proportion is: [{CI[0]:.2f}, {CI[1]:.2f}]\",\n",
    ")\n",
    "    print(f\"We examined {len(labels) - not_examined_count} labels, of which {successful_count} are correct. There are {len(labels)} labels.\")\n",
    "print_CI(labels=verification_widget.new_labels)\n"
   ]
  },
  {
   "cell_type": "code",
   "execution_count": 15,
   "metadata": {
    "tags": []
   },
   "outputs": [
    {
     "output_type": "stream",
     "name": "stdout",
     "text": "We're writing ... Index(['IS_WIOA', 'Mentioned_Certificate', 'Mentioned_Associates',\n       'STANDARDIZED_DESCRIPTION', 'STANDARDIZED_FEATURESDESCRIPTION',\n       'CLEANED_STANDARDIZED_NAME_1', 'STANDARDIZEDNAME', 'STANDARDIZEDNAME_1',\n       'DESCRIPTION', 'FEATURESDESCRIPTION', 'NAME_1', 'NAME'],\n      dtype='object')\ndone\n"
    }
   ],
   "source": [
    "# 4)\n",
    "# Now we write out the verfiied results\n",
    "# ... finally we can write this out as our first complete lookup table\n",
    "# for the NAME field\n",
    "write_out = draft_output[\n",
    "    [\n",
    "        'IS_WIOA', 'Mentioned_Certificate', 'Mentioned_Associates',\n",
    "        'STANDARDIZED_DESCRIPTION', 'STANDARDIZED_FEATURESDESCRIPTION', \n",
    "        'CLEANED_STANDARDIZED_NAME_1', 'STANDARDIZEDNAME',\n",
    "        'STANDARDIZEDNAME_1', 'DESCRIPTION',\n",
    "        'FEATURESDESCRIPTION', 'NAME_1', 'NAME'\n",
    "    ]\n",
    "]\n",
    "\n",
    "print(\n",
    "    \"We're writing ...\",\n",
    "    write_out.columns\n",
    ")\n",
    "\n",
    "# shuffe the rows to better remove temporal baises\n",
    "write_out =\\\n",
    "    write_out.sample(frac=1, random_state=42, axis=0).reset_index(drop=True)\n",
    "\n",
    "write_out.to_csv(rootpath + interimpath + content_is + \".csv\",\n",
    "                index = False,\n",
    "                chunksize = 10000)\n",
    "\n",
    "write_out.to_excel(rootpath + processedpath + content_is + \".xls\",\n",
    "            sheet_name=\"Standardized Descriptions\",\n",
    "            index=False)\n",
    "print('done')"
   ]
  }
 ],
 "metadata": {
  "language_info": {
   "codemirror_mode": {
    "name": "ipython",
    "version": 3
   },
   "file_extension": ".py",
   "mimetype": "text/x-python",
   "name": "python",
   "nbconvert_exporter": "python",
   "pygments_lexer": "ipython3",
   "version": "3.7.2-final"
  },
  "orig_nbformat": 2,
  "kernelspec": {
   "name": "python37264bitd4adstandardizationpipenvcac7d9f4a0864f29b6353caf0213501a",
   "display_name": "Python 3.7.2 64-bit ('d4ad_standardization': pipenv)"
  }
 },
 "nbformat": 4,
 "nbformat_minor": 2
}