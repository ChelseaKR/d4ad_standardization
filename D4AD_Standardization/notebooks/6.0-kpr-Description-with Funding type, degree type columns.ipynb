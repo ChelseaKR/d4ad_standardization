{
 "cells": [
  {
   "cell_type": "code",
   "execution_count": 2,
   "metadata": {
    "tags": []
   },
   "outputs": [
    {
     "output_type": "stream",
     "name": "stdout",
     "text": "done\n"
    }
   ],
   "source": [
    "# Importing the libraries \n",
    "import pandas as pd\n",
    "import numpy as np\n",
    "import random\n",
    "import pickle\n",
    "import re\n",
    "import regex  # for better, more capbale regex api\n",
    "import os\n",
    "import zipfile\n",
    "import more_itertools\n",
    "from itertools import chain\n",
    "import datetime\n",
    "import time\n",
    "from statsmodels.stats.proportion import proportion_confint\n",
    "# active labeler related\n",
    "from sklearn.feature_extraction.text import CountVectorizer\n",
    "from sklearn.feature_extraction.text import TfidfTransformer\n",
    "from sklearn.naive_bayes import ComplementNB  # corrects for class imbalance, SGD is pretty good too\n",
    "from sklearn.pipeline import Pipeline\n",
    "from superintendent import ClassLabeller\n",
    "from IPython.display import display, Markdown\n",
    "\n",
    "pd.set_option('display.max_colwidth', None)  # so we can peak at data and spot verify\n",
    "\n",
    "pipeline = Pipeline([\n",
    "    ('vect', CountVectorizer(analyzer='char', ngram_range=(1,2))),\n",
    "    ('tfidf', TfidfTransformer()),\n",
    "    ('clf', ComplementNB()),\n",
    "])\n",
    "print('done')"
   ]
  },
  {
   "cell_type": "code",
   "execution_count": 3,
   "metadata": {
    "tags": []
   },
   "outputs": [
    {
     "output_type": "stream",
     "name": "stdout",
     "text": "done\n"
    }
   ],
   "source": [
    "# Set up columns to keep, fields, locations for writing\n",
    "rootpath = \"/hdd/work/d4ad_standardization/\"\n",
    "processedpath = \"D4AD_Standardization/data/processed/\"\n",
    "externalpath = \"D4AD_Standardization/data/external/\"\n",
    "interimpath = \"D4AD_Standardization/data/interim/\"\n",
    "\n",
    "content_is = \"standardized_descriptions_and_degree_funding_type\"\n",
    "\n",
    "\n",
    "print('done')"
   ]
  },
  {
   "cell_type": "code",
   "execution_count": 4,
   "metadata": {
    "tags": []
   },
   "outputs": [
    {
     "output_type": "stream",
     "name": "stdout",
     "text": "done\n"
    }
   ],
   "source": [
    "\n",
    "filepath = \"standardized_name_and_name1.csv\" # builds off of notebook 5 work\n",
    "\n",
    "columns = [\n",
    "    \"STANDARDIZEDNAME_1\",\n",
    "    \"STANDARDIZEDNAME\",\n",
    "    \"DESCRIPTION\",\n",
    "    \"FEATURESDESCRIPTION\",\n",
    "    \"NAME_1\",\n",
    "    \"NAME\",\n",
    "    \"PREREQUISITES\",\n",
    "    \"STREET1\",\n",
    "    \"CITY\",\n",
    "    \"STATE\",\n",
    "    \"ZIP\",\n",
    "    \"WEBSITE\",\n",
    "    \"COUNTY\",\n",
    "    \"NONGOVAPPROVAL\",\n",
    "    \"STATECOMMENTS\",\n",
    "    \"CIPCODE\",\n",
    "    \"PROVIDERID\",\n",
    "    \"APPROVINGAGENCYID\"\n",
    "]\n",
    "\n",
    "columns_to_save = ['STANDARDIZED_DESCRIPTION', 'STANDARDIZED_FEATURESDESCRIPTION'] + columns\n",
    "\n",
    "SKIP_THIS = True # helps me be able to run all and not worry about pulling things\n",
    "# I already know I have on disk\n",
    "\n",
    "#df = pd.read_excel(rootpath + interimpath + filepath, usecols=columns)\n",
    "df = pd.read_csv(rootpath + interimpath + filepath, usecols=columns)\n",
    "print('done')"
   ]
  },
  {
   "cell_type": "code",
   "execution_count": 5,
   "metadata": {},
   "outputs": [],
   "source": [
    "pd.set_option('display.max_rows', False)\n",
    "\n",
    "the_df = df #df.sample(n=10000, random_state=42)"
   ]
  },
  {
   "cell_type": "code",
   "execution_count": 6,
   "metadata": {
    "tags": []
   },
   "outputs": [
    {
     "output_type": "stream",
     "name": "stdout",
     "text": "done1\n"
    }
   ],
   "source": [
    "# 2) Here we apply the abbreviation expansion to the\n",
    "# description columns. This code is repeated from the 5.0 notebook and should be externalized into ./src somewhere\n",
    "#\n",
    "# We first construct the abbreviation mapper\n",
    "#\n",
    "# We also store off a copy of the df for manipulation\n",
    "# this has older name fields, for informing on funding (WOIA) and degree type (?)\n",
    "# as well as the standardized fields so taht we can remove the extranous content still in it\n",
    "# Note: this is mixing responsibilites and should be seperated into a new notebook\n",
    "\n",
    "label_mapper = pd.read_csv(\n",
    "    rootpath + externalpath + \"label_mapper.csv\"\n",
    ")\n",
    "\n",
    "draft_output = the_df[['DESCRIPTION', 'FEATURESDESCRIPTION',\n",
    "                       'STANDARDIZEDNAME_1', 'STANDARDIZEDNAME',\n",
    "                       'NAME_1', 'NAME']]\n",
    "\n",
    "\n",
    "def make_term_grouped_regex(term=\"\", right_regex=\"\", left_regex=\"\"):\n",
    "    mystr = left_regex + '(' +\\\n",
    "                re.escape(term) +\\\n",
    "            ')' + right_regex\n",
    "    return mystr\n",
    "\n",
    "def make_grouped_regexes(replacement, left_regex=\"\", right_regex=\"\"):\n",
    "    return (make_term_grouped_regex(left_regex=left_regex,\n",
    "                                    term=key,\n",
    "                                    right_regex=right_regex)\\\n",
    "            for key in replacement.keys()\n",
    "    )\n",
    "\n",
    "def construct_map(label_mapper=label_mapper):\n",
    "    return {\n",
    "        **dict(zip(label_mapper.abbreviation, label_mapper.expanded))\n",
    "    }\n",
    "\n",
    "replacement_map = construct_map()\n",
    "\n",
    "abbrevation_pattern =\\\n",
    "    regex.compile(\n",
    "        \"(?p)\" +\n",
    "        \"|\".join(   # match words at start of string\n",
    "            make_grouped_regexes(replacement_map, left_regex=r'^', right_regex=r'[\\s:]')\n",
    "        ) + \"|\" +\\\n",
    "        \"|\".join(   # match words surrounded by spaces\n",
    "            make_grouped_regexes(replacement_map, left_regex=r'\\s', right_regex=r'\\s')\n",
    "        ) + \"|\" +\\\n",
    "        \"|\".join(   # match words that make up entire fields, e.g. 'Nursing'\n",
    "            make_grouped_regexes(replacement_map, left_regex=r'^', right_regex=r'$')\n",
    "        ) + \"|\" +\\\n",
    "        \"|\".join(   # match words at end of string preceded by space or slash\n",
    "            make_grouped_regexes(replacement_map, left_regex=r'[\\s/]', right_regex=r'$')\n",
    "        ) + \"|\" +\\\n",
    "        \"|\".join(   # match words within string that follow a slash, end with a space or slash\n",
    "            make_grouped_regexes(replacement_map, left_regex=r'/', right_regex=r'[\\s/]')\n",
    "        )\n",
    "    )\n",
    "\n",
    "def multiple_mapper(string):\n",
    "    return abbrevation_pattern.sub(\n",
    "        lambda x: \\\n",
    "        x.group().replace( # replace the found string\n",
    "            more_itertools.first_true(x.groups() # where the first matched group...\n",
    "        ),  replacement_map[more_itertools.first_true(x.groups())] # ... is replaced with the lookup\n",
    "    ), string)\n",
    "print('done1')"
   ]
  },
  {
   "cell_type": "code",
   "execution_count": 22,
   "metadata": {
    "tags": []
   },
   "outputs": [
    {
     "output_type": "stream",
     "name": "stdout",
     "text": "Done! That took 0:00:00.399499 time\n"
    }
   ],
   "source": [
    "# ... with the abbreviation mapper in hand we now simply apply to both description columns\n",
    "# it takes about 2.5 minutes each to run through all rows for both descriptions.\n",
    "start = datetime.datetime.now()\n",
    "\n",
    "if not SKIP_THIS:\n",
    "    draft_output['STANDARDIZED_DESCRIPTION'] =\\\n",
    "        draft_output['DESCRIPTION'].dropna().map(multiple_mapper)\n",
    "    draft_output['STANDARDIZED_FEATURESDESCRIPTION'] =\\\n",
    "        draft_output['FEATURESDESCRIPTION'].dropna().map(multiple_mapper)\n",
    "else:\n",
    "    joining_columns = ['NAME_1', 'NAME']\n",
    "    interim_csv = \"standardized_descriptions_and_degree_funding_type.csv\"\n",
    "    already_standardized_descriptions =\\\n",
    "        pd.read_csv(rootpath+interimpath+interim_csv,\n",
    "        usecols=[\n",
    "            'STANDARDIZED_DESCRIPTION', \n",
    "            'STANDARDIZED_FEATURESDESCRIPTION'] + joining_columns)\\\n",
    "                .drop_duplicates(subset=joining_columns)  # not sure how or why we have dupes\n",
    "    # see: https://stackoverflow.com/questions/22720739/pandas-left-outer-join-results-in-table-larger-than-left-table\n",
    "    \n",
    "    read_in = draft_output.merge(\n",
    "            already_standardized_descriptions,\n",
    "            how='left',\n",
    "            on=joining_columns,\n",
    "            validate=\"m:1\"\n",
    "    )\n",
    "\n",
    "    assert len(read_in) == len(draft_output), f\"read in shape {len(read_in)} does not equal draft df {len(draft_output)}!\"\n",
    "    \n",
    "end = datetime.datetime.now()\n",
    "print(f\"Done! That took {(end-start)} time\")"
   ]
  },
  {
   "cell_type": "code",
   "execution_count": 7,
   "metadata": {
    "tags": []
   },
   "outputs": [
    {
     "output_type": "stream",
     "name": "stdout",
     "text": "done\n"
    }
   ],
   "source": [
    "# 3) \n",
    "# Now we have to extract course funding type from the older\n",
    "# columns. \n",
    "\n",
    "woia_like =\\\n",
    "    regex.compile(\n",
    "        '''\n",
    "         (title\\s+[I|II|III|IV|1|2|3]+\\s)   # WOIA has 4 titles of funding in law\n",
    "        |(woia){d<=1}                       # is called WOIA, WIA, allowed to miss a letter\n",
    "        ''',\n",
    "        flags=regex.I|regex.VERBOSE)\n",
    "\n",
    "name =\\\n",
    "    draft_output['NAME'].dropna()\\\n",
    "                        .map(woia_like.search)\\\n",
    "                        .dropna().index\n",
    "\n",
    "name_1 =\\\n",
    "    draft_output['NAME_1'].dropna()\\\n",
    "                        .map(woia_like.search)\\\n",
    "                        .dropna().index\n",
    "\n",
    "descriptions =\\\n",
    "    draft_output['DESCRIPTION'].dropna()\\\n",
    "                          .map(woia_like.search)\\\n",
    "                          .dropna().index\n",
    "\n",
    "features_description =\\\n",
    "    draft_output['FEATURESDESCRIPTION'].dropna()\\\n",
    "                          .map(woia_like.search)\\\n",
    "                          .dropna().index\n",
    "\n",
    "woia_indices = name.union(name_1)\\\n",
    "                   .union(descriptions)\\\n",
    "                   .union(features_description)\n",
    "draft_output['IS_WOIA'] = False\n",
    "draft_output.loc[woia_indices, 'IS_WOIA'] = True\n",
    "print('done')"
   ]
  },
  {
   "cell_type": "code",
   "execution_count": 33,
   "metadata": {
    "tags": []
   },
   "outputs": [
    {
     "output_type": "execute_result",
     "data": {
      "text/plain": "                                                      This workshop provides basic knowledge of laws affecting business. Business owners learn how to chose the appropriate business structure, assess business risks, provide adequate protecton and establish proper record keeping and controls.    \n9941                                                                                                                                                                                                                                                                                                                                                                                                                                                                                                                                                                                                                                                                                                                                The purpose of this training is to instruct participants in the tools and methodologies of Lean & Six Sigma improvement techniques. This training is highly interactive, and team focused.  Participants should enter training with the intent of participating in class and working with peers in a team environment.  \\nThe following course outline lists each module and provides a brief description of the module content.\\n\\nAt the conclusion of the training program the participant should be able to understand and utilize the Lean Six Sigma principles, execute tools, be knowledgeable in improvement techniques, and be able to participate in Lean & Six Sigma improvement efforts and projects.\\n   \n16052                                                                                                                                                                                                                                                                                                                                                                                                                                                                                                                                                                                                                                                                                                                                                                                                                                                                                                                                                                                                                                                                                                                                                                                                                                                                                                                                                 Work with income and expenses, the chart of accounts, track payables, receivables, and inventory.   \n\n                                                                                 NAME_1  \\\n14993                                             Patient Care Technician (PCT) Trak II   \n8026                                    CDL Class A Refresher and Passenger Endorsement   \n2688                                                                     A + Technician   \n14907                                                               Network Action Pack   \n20248                                                 Master of Business Administration   \n20143                                                             Electrical Commercial   \n18595  Certified Patient Care Specialist: a) Nurse Aide Certificate b) HHA  Certificate   \n19116                                                 Business Analyst Training Program   \n22155                                                        Clinical Medical Assistant   \n13653          Adult Basic Education and High School Equivalency Assessment Preparation   \n19480                                                         Basic Computer Skills-WLL   \n7131                                                            InDesign CS5 (CECI 574)   \n23733                                                                           Legal 1   \n9941                                                       Six Sigma Employee Awareness   \n16052                                                                       CECI-449-02   \n\n                                                                               NAME  \\\n14993                                 Raritan Valley Community College - Non Credit   \n8026                                           Ideal Driving School, Inc. - Clifton   \n2688                                               New Wave Computer Training - PVS   \n14907                                                   Access Careers - Hicksville   \n20248  William Paterson University, School of Continuing and Professional Education   \n20143                           Technical Institute of Camden County - Sicklerville   \n18595                                    Exemplary Nursing Services Training Center   \n19116                                  Platys Group \"Level Up\" Training Center - TP   \n22155                                                           Stockton University   \n13653                    Jumpstart Community Training and Services - Paterson - PCS   \n19480                Hunterdon County Educational Services Commission - WIA Title 2   \n7131                     Ocean County College - Continuing & Professional Education   \n23733                                 Raritan Valley Community College - Non Credit   \n9941          New Jersey Manufacturing Extension Program, Inc. - Customized Trainer   \n16052                    Ocean County College - Continuing & Professional Education   \n\n                                                                                                                                                                                                                                                                                                                                                                                                                                                                                                                                                                                                                                                                                                                                                                                                                                                                                        FEATURESDESCRIPTION  \n14993                                                                                                                                                                                                                                                                                                                                                                                                                                                                                                                                                                                                                                                                                                                                                             Pre-requisites include clear understanding of written and spoken English, professional liability insurance and proof of the immunization.  \n8026                                                                                                                                                                                                                                                                                                                                                                                                                                                                                                                                                                                                                                                                                                                                                                                                                                                                                                    NaN  \n2688                                                                                                                                                                                                                                                                                                                                                                                                                                                                                                                                                                                                                                                                                                                                                                                                                                                   $ 264 for 2 A+ Certification exams. $ 132 each exam.  \n14907                                                                                                                                                                                                                                                                                                                                                                                                                                                                                                                                                                                                                                                                                                                                                                                                                                                                                                   NaN  \n20248  The MBA curriculum also offers a broad range of elective courses in each of the schools¿ four departments: Accounting and Law; Economics, Finance, and Global Business; Marketing and Management Sciences, and Professional Sales. The program¿s rigorous coursework requires a familiarity with requisite quantitative and technological concepts. Upon enrollment, students are encouraged to take screening examinations in 1) quantitative analysis and 2) technology, and are advised on taking introductory courses in those areas if necessary.\\n\\nThe Christos M. Cotsakos College of Business has received accreditation from AACSB International - The Association to Advance Collegiate Schools of Business. AACSB accreditation represents the highest standard of achievement for business schools worldwide. Only about 15% Business Schools in the world are accredited by AACSB.\\n\\n  \n20143                                                                                                                                                                                                                                                                                                                                                                                                                                                                                                                                                                                                                                                                                                                                                                                                                                                                  Out of County Tuition Fee is $1,480.  \n18595                                                                                                                                                                                                                                                                                                                                                                                                                                                                                                                                                                                                                                                                                                                                                                                                               Training program is divided into two categories, namely classroom and clinical training  \n19116                                                                                                                                                                                                                                                                                                                                                                                                                                                                                       Our advance technology training program provide practical hands on training experience. In addition , we supply resume writing, interview coaching and job placement. After job/project placement, we supply additional support. The student we have access to the use of our help desk. This additional support is to be use if any student need assistance to over come any job/ project related objectives.   \n22155                                                                                                                                                                                                                                                                                                                                                                                                                                                                                                                                                                                                                                                                                                                                                                                                                  Please consult the continuing studies website at www.stockton.edu/continuingstudies   \n13653                                                                                                                                                                                                                                                                                                                                                                                                                                          The Adult Basic Education/ESL\\n\\nThe Adult Basic Education is a process:\\n1. Getting the Student prepared to learn and focus\\n2. Working with students according to their strengths and weaknesses in Math, Reading and Language Arts\\n3. Enhancing the learning ability \\n4. Assisting with bringing the test scores up to  a 3.0\\n5. Working with students using English as a second language.  We use the Adult Basic Education as a tool to teach ESL.\\n  \n19480                                                                                                                                                                                                                                                                                                                                                                                                                                                                                                                                                                                                                                                                                                                                                                                                                                                                                                   NaN  \n7131                                                                                                                                                                                                                                                                                                                                                                                                                                                                                                                                                                                                                                                                                                                                                                                                                                                                                                    NaN  \n23733                                                                                                                                                                                                                                                                                                                                                                                                                                                                                                                                                                                                                                                                                                                                                                                                                                                                                                   NaN  \n9941                                                                                                                                                                                                                                                                                                                                                                                                                                                                                                                                                                                                                                                                                                                                                                                                                                                                                                    NaN  \n16052                                                                                                                                                                                                                                                                                                                                                                                                                                                                                                                                                                                                                                                                                                                                                                                                                                                                                                   NaN  ",
      "text/html": "<div>\n<style scoped>\n    .dataframe tbody tr th:only-of-type {\n        vertical-align: middle;\n    }\n\n    .dataframe tbody tr th {\n        vertical-align: top;\n    }\n\n    .dataframe thead th {\n        text-align: right;\n    }\n</style>\n<table border=\"1\" class=\"dataframe\">\n  <thead>\n    <tr style=\"text-align: right;\">\n      <th></th>\n      <th>Degree_Type</th>\n      <th>DESCRIPTION</th>\n      <th>NAME_1</th>\n      <th>NAME</th>\n      <th>FEATURESDESCRIPTION</th>\n    </tr>\n  </thead>\n  <tbody>\n    <tr>\n      <th>14993</th>\n      <td>Certificate</td>\n      <td>If you are a certified Nurse Aide (CNA) and would like to boost your career as a Patient Care Technician this is a course for you. This 50 hours course prepares you to learn the subjects and skills you need to sit for Patient Care Technician certification exam through the National Center for Competency Testing (NCCT). Upon successful completion of this course students are eligible to sit for the American Society of Phlebotomy Technicians (ASPT) National Certification Exam, which is being held at RVCC. There is additional charge for the ASPT National exam that is not included in your tuition.</td>\n      <td>Patient Care Technician (PCT) Trak II</td>\n      <td>Raritan Valley Community College - Non Credit</td>\n      <td>Pre-requisites include clear understanding of written and spoken English, professional liability insurance and proof of the immunization.</td>\n    </tr>\n    <tr>\n      <th>8026</th>\n      <td>Associates</td>\n      <td>Hands on training give students the opportunity to develop the necessary skills to operate a tractor trailer and bus properly and safely.</td>\n      <td>CDL Class A Refresher and Passenger Endorsement</td>\n      <td>Ideal Driving School, Inc. - Clifton</td>\n      <td>NaN</td>\n    </tr>\n    <tr>\n      <th>2688</th>\n      <td>Certificate</td>\n      <td>To provide the student with skills in assembling, troubleshooting and repairing computers of various kinds. Job titles include, but are not limited to PC Technician, LAN Technician, computer service technician, help-desk services, etc.</td>\n      <td>A + Technician</td>\n      <td>New Wave Computer Training - PVS</td>\n      <td>$ 264 for 2 A+ Certification exams. $ 132 each exam.</td>\n    </tr>\n    <tr>\n      <th>14907</th>\n      <td>Certificate</td>\n      <td>A+ Technician Course, MCSE, and CCNA Certifications.</td>\n      <td>Network Action Pack</td>\n      <td>Access Careers - Hicksville</td>\n      <td>NaN</td>\n    </tr>\n    <tr>\n      <th>20248</th>\n      <td>Associates</td>\n      <td>Business Administration (M.B.A.).  The master of business administration (M.B.A.) is a 48 credit program (18 credits of the lower courses may be waived) which features a cross-functional pedagogical approach. Students have the opportunity to study in the general M.B.A. program or one of four new concentrations ¿ accounting, entrepreneurship, finance, and music management. The accounting concentration satisfies the CPA education requirements while preparing students to take the CPA exam. The entrepreneurship concentration provides the skills to start, manage, operate, grow, and sustain an entrepreneurial venture. The finance concentration prepares students to take the CFA examination. The music management concentration is one of only two programs in the U.S. and takes advantage of William Paterson¿s close proximity to New York City. The Cotsakos College of Business at William Paterson University gives future business leaders an edge through a dynamic curriculum that is designed to meet the changing demands of an internationally and technologically oriented marketplace.\\n\\nThe M.B.A. program is accredited through AACSB International - The Association to Advance Collegiate Schools of Business. AACSB accreditation represents the highest standard of achievement for business schools worldwide. Only the top 15 percent of business schools in the world are accredited by AACSB.\\n</td>\n      <td>Master of Business Administration</td>\n      <td>William Paterson University, School of Continuing and Professional Education</td>\n      <td>The MBA curriculum also offers a broad range of elective courses in each of the schools¿ four departments: Accounting and Law; Economics, Finance, and Global Business; Marketing and Management Sciences, and Professional Sales. The program¿s rigorous coursework requires a familiarity with requisite quantitative and technological concepts. Upon enrollment, students are encouraged to take screening examinations in 1) quantitative analysis and 2) technology, and are advised on taking introductory courses in those areas if necessary.\\n\\nThe Christos M. Cotsakos College of Business has received accreditation from AACSB International - The Association to Advance Collegiate Schools of Business. AACSB accreditation represents the highest standard of achievement for business schools worldwide. Only about 15% Business Schools in the world are accredited by AACSB.\\n\\n</td>\n    </tr>\n    <tr>\n      <th>20143</th>\n      <td>Associates</td>\n      <td>The program is designed for the experienced journeyman, licensed contractor, senior electrician, or electrician preparing to take the New Jersey State Licensing Exam. The course will increase the individual¿s knowledge of electrical theory, the national electrical code and trouble shooting methods. Emphasis will be on commercial wiring applications and equipment.</td>\n      <td>Electrical Commercial</td>\n      <td>Technical Institute of Camden County - Sicklerville</td>\n      <td>Out of County Tuition Fee is $1,480.</td>\n    </tr>\n    <tr>\n      <th>18595</th>\n      <td>Certificate</td>\n      <td>The Patient Care Specialist Program includes the 90 hours mandated New Jersey State Department of Health Curriculum for Ancilliary Personnel in Long Term Care Facilities and the New Jersey Board of Nursing approved 76 hours Homemaker / Home Health Aide Curriculum.  After successful completion of all components, participants will be eligible to take the New Jersey State Certification Examinations for both Certificates, Nurse's Assisant and Home Health Aides. The participants will be qualified to work in hospitals, clinics, clients homes, and nursing homes.</td>\n      <td>Certified Patient Care Specialist: a) Nurse Aide Certificate b) HHA  Certificate</td>\n      <td>Exemplary Nursing Services Training Center</td>\n      <td>Training program is divided into two categories, namely classroom and clinical training</td>\n    </tr>\n    <tr>\n      <th>19116</th>\n      <td>Associates</td>\n      <td>The main purpose behind Business Analysis is to provide management and other stakeholders with insights into ways to address business needs.  Addressing these needs often lead to an improvement in organizational structures and processes.  Platys Business Analysis course will teach students powerful quantitative methods that will have you making better, more informed effective business decisions.  The course will be taught in a classroom environment with an on hands learning experience.  The first part of the course would be training material teaching.  The second half of the course will consist of practical learning experience with real-time projects.</td>\n      <td>Business Analyst Training Program</td>\n      <td>Platys Group \"Level Up\" Training Center - TP</td>\n      <td>Our advance technology training program provide practical hands on training experience. In addition , we supply resume writing, interview coaching and job placement. After job/project placement, we supply additional support. The student we have access to the use of our help desk. This additional support is to be use if any student need assistance to over come any job/ project related objectives.</td>\n    </tr>\n    <tr>\n      <th>22155</th>\n      <td>Associates</td>\n      <td>Instruction includes among other things preparing patients for examination and treatment, routine laboratory procedures, diagnostic testing, technical aspects of phlebotomy and the cardiac life cycle.  Students will review important topics including phlebotomy, pharmacology, the proper use and administration of medications, taking and documenting vital signs, cardiology including proper lead placements, a professional workplace behavior, ethics and the legal aspects of healthcare.</td>\n      <td>Clinical Medical Assistant</td>\n      <td>Stockton University</td>\n      <td>Please consult the continuing studies website at www.stockton.edu/continuingstudies</td>\n    </tr>\n    <tr>\n      <th>13653</th>\n      <td>Associates</td>\n      <td>The Jumpstart ABE  with ESL program is designed to support students who read between 0 to 8th grade. (The TABE test score is of 3rd grade level and over). The Hispanic student with a language barrier will be taught English as a second language using the ABE curriculum while achieving their goals toward the GED test. All (Pre-GED) students will be utilizing in-class instruction and an interactive, computer-based learning tools that will address the individual educational needs of lower level students. This Pre-GED process will prepare students with the necessary skill sets to advance successfully in preparation for the GED test.\\nThe high school equivalency assessment preparation program is a comprehensive program designed to provide adult students with mastery level secondary education completion skills necessary for successful passage of a NJ approved High School Equivalency Assessment exam. In addition, workplace skills development training, and career planning workshops are offered to help individuals seeking a sustainable employment opportunity, vocational training or transition to post-secondary education. Students in our HSEAP program participate in our College Tour Program</td>\n      <td>Adult Basic Education and High School Equivalency Assessment Preparation</td>\n      <td>Jumpstart Community Training and Services - Paterson - PCS</td>\n      <td>The Adult Basic Education/ESL\\n\\nThe Adult Basic Education is a process:\\n1. Getting the Student prepared to learn and focus\\n2. Working with students according to their strengths and weaknesses in Math, Reading and Language Arts\\n3. Enhancing the learning ability \\n4. Assisting with bringing the test scores up to  a 3.0\\n5. Working with students using English as a second language.  We use the Adult Basic Education as a tool to teach ESL.\\n</td>\n    </tr>\n    <tr>\n      <th>19480</th>\n      <td>Associates</td>\n      <td>Individuals are pre and post assessed using a locally designed computer skills inventory.  The curriculum outlines instruction and activities to develop a basic knowledge and understanding of computer hardware and software, email, Microsoft Word, and internet use and safety. Skills necessary to use job search engines and to apply for and track employment inquiries are also covered.</td>\n      <td>Basic Computer Skills-WLL</td>\n      <td>Hunterdon County Educational Services Commission - WIA Title 2</td>\n      <td>NaN</td>\n    </tr>\n    <tr>\n      <th>7131</th>\n      <td>Associates</td>\n      <td>Prerequisite: Strong Windows or Mac experience\\n\\nYou will learn a wide range of techniques essential for mastering Adobe InDesign CS5 including page layout tools, snippets, and smart text reflows.  Learn to use new features including interactive document capability and animated page transitions.   Textbook required: Real World Adobe InDesign CS5.\\n</td>\n      <td>InDesign CS5 (CECI 574)</td>\n      <td>Ocean County College - Continuing &amp; Professional Education</td>\n      <td>NaN</td>\n    </tr>\n    <tr>\n      <th>23733</th>\n      <td>Associates</td>\n      <td>This workshop provides basic knowledge of laws affecting business. Business owners learn how to chose the appropriate business structure, assess business risks, provide adequate protecton and establish proper record keeping and controls.</td>\n      <td>Legal 1</td>\n      <td>Raritan Valley Community College - Non Credit</td>\n      <td>NaN</td>\n    </tr>\n    <tr>\n      <th>9941</th>\n      <td>Associates</td>\n      <td>The purpose of this training is to instruct participants in the tools and methodologies of Lean &amp; Six Sigma improvement techniques. This training is highly interactive, and team focused.  Participants should enter training with the intent of participating in class and working with peers in a team environment.  \\nThe following course outline lists each module and provides a brief description of the module content.\\n\\nAt the conclusion of the training program the participant should be able to understand and utilize the Lean Six Sigma principles, execute tools, be knowledgeable in improvement techniques, and be able to participate in Lean &amp; Six Sigma improvement efforts and projects.\\n</td>\n      <td>Six Sigma Employee Awareness</td>\n      <td>New Jersey Manufacturing Extension Program, Inc. - Customized Trainer</td>\n      <td>NaN</td>\n    </tr>\n    <tr>\n      <th>16052</th>\n      <td>Associates</td>\n      <td>Work with income and expenses, the chart of accounts, track payables, receivables, and inventory.</td>\n      <td>CECI-449-02</td>\n      <td>Ocean County College - Continuing &amp; Professional Education</td>\n      <td>NaN</td>\n    </tr>\n  </tbody>\n</table>\n</div>"
     },
     "metadata": {},
     "execution_count": 33
    }
   ],
   "source": [
    "# ... Finally we extact the degree type from the older columns, repeating the\n",
    "# procedure above but with slightly different regexes\n",
    "\n",
    "aas_like =\\\n",
    "    regex.compile(\n",
    "        '''\n",
    "        [\\b\\s](Associates)[\\b\\s]\n",
    "        |[\\b\\s](A\\.A\\.S\\.)[\\b\\s]\n",
    "        |[\\b\\s](A\\.S\\.)[\\b\\s]\n",
    "        |[\\b\\s](AS)[\\b\\s](?!A\\s)\n",
    "        |[\\b\\s](AAS)[\\b\\s]                               # applied associates of science\n",
    "        ''',\n",
    "        flags=regex.VERBOSE)\n",
    "#        |(applied.*associate.*science.*\\.)     # sentence containing applied science \n",
    "\n",
    "name =\\\n",
    "    draft_output['NAME'].dropna()\\\n",
    "                        .map(aas_like.search)\\\n",
    "                        .dropna().index\n",
    "\n",
    "name_1 =\\\n",
    "    draft_output['NAME_1'].dropna()\\\n",
    "                          .map(aas_like.search)\\\n",
    "                          .dropna().index\n",
    "\n",
    "descriptions =\\\n",
    "    draft_output['DESCRIPTION'].dropna()\\\n",
    "                          .map(aas_like.search)\\\n",
    "                          .dropna().index\n",
    "\n",
    "features_description =\\\n",
    "    draft_output['FEATURESDESCRIPTION'].dropna()\\\n",
    "                          .map(aas_like.search)\\\n",
    "                          .dropna().index\n",
    "\n",
    "aas_indices = name.union(name_1)\\\n",
    "                   .union(descriptions)\\\n",
    "                   .union(features_description)\n",
    "\n",
    "# This matchign is overly eager, remove those rows that mention\n",
    "# Program... \n",
    "                   \n",
    "draft_output.loc[aas_indices, 'Degree_Type'] = 'Associates'\n",
    "\n",
    "# draft_output.loc[aas_indices, ['Degree_Type', 'DESCRIPTION', 'NAME_1', 'NAME', 'FEATURESDESCRIPTION']].head(15)\n",
    "# Now we go back for those rows havign an empty degree type and check for\n",
    "# the word certificate and assign those\n",
    "cert_like =\\\n",
    "    regex.compile(\n",
    "        '''\n",
    "        (certification)\n",
    "        |(certificate)\n",
    "        |[\\s\\b](cert)[\\s\\b]\n",
    "        ''',\n",
    "        flags=regex.I|regex.VERBOSE)\n",
    "\n",
    "name =\\\n",
    "    draft_output['NAME'].dropna()\\\n",
    "                        .map(cert_like.search)\\\n",
    "                        .dropna().index\n",
    "\n",
    "name_1 =\\\n",
    "    draft_output['NAME_1'].dropna()\\\n",
    "                          .map(cert_like.search)\\\n",
    "                          .dropna().index\n",
    "\n",
    "descriptions =\\\n",
    "    draft_output['DESCRIPTION'].dropna()\\\n",
    "                          .map(cert_like.search)\\\n",
    "                          .dropna().index\n",
    "\n",
    "features_description =\\\n",
    "    draft_output['FEATURESDESCRIPTION'].dropna()\\\n",
    "                          .map(cert_like.search)\\\n",
    "                          .dropna().index\n",
    "\n",
    "cert_indices = name.union(name_1)\\\n",
    "                   .union(descriptions)\\\n",
    "                   .union(features_description)\n",
    "\n",
    "draft_output.loc[cert_indices, 'Degree_Type'] = 'Certificate'\n",
    "draft_output.sample(15).loc[:,['Degree_Type', 'DESCRIPTION', 'NAME_1', 'NAME', 'FEATURESDESCRIPTION']] "
   ]
  },
  {
   "cell_type": "code",
   "execution_count": 64,
   "metadata": {},
   "outputs": [],
   "source": [
    "# 4) \n",
    "# Now we do some simple replacements for known degree related mentions in the name fields\n",
    "\n",
    "degree_cert_variants =\\\n",
    "    [\"A.S.\",\n",
    "     \"AAS Degree\",\n",
    "     \"AAS -\",\n",
    "     \"A.S. Degree\",\n",
    "     \"A.A.S. Degree\",\n",
    "     \"Degree\",\n",
    "     \"degree\",\n",
    "     \"certificate\",\n",
    "     \"Certificate\",\n",
    "     \"Associate of Applied Science\"]\n",
    "\n",
    "draft_output['CLEANED_STANDARDIZED_NAME_1'] =\\\n",
    "    draft_output['STANDARDIZEDNAME_1'].replace(degree_cert_variants, \"\", regex=True)"
   ]
  },
  {
   "cell_type": "code",
   "execution_count": 88,
   "metadata": {
    "tags": []
   },
   "outputs": [
    {
     "output_type": "stream",
     "name": "stdout",
     "text": "done The data is 100 long\n"
    }
   ],
   "source": [
    "# This is the evaluation part of the program and course name standardizations\n",
    "# along with the provider name. My goal is to have 85%+ standardized, send out\n",
    "# that 85% will come from the jefferey's interval\n",
    "\n",
    "# Evaluation Rubric:\n",
    "#   A) Here we label clearly wrong snippets, anything that is marginal we mark as\n",
    "# standardized for purposes of this evaluation because we want to err on the side\n",
    "# of giving overly specific information, which includes odd info\n",
    "#   B) We also click through quickly, not overly dwelling one any one example, the\n",
    "# goal here is to get the evaulation done quickly since it's so manual\n",
    "#   C) For now we ignore casingl there does need to be a camel casing applied to\n",
    "# all caps\n",
    "\n",
    "# We create a series of data to evaluate\n",
    "columns_to_check = ['CLEANED_STANDARDIZED_NAME_1'] # we know NAME is mostly fine, 'STANDARDIZEDNAME']\n",
    "the_data =\\\n",
    "    np.concatenate(\n",
    "        (\n",
    "            draft_output[columns_to_check[0]].to_numpy(),\n",
    "            #the_df[columns_to_check[1]].to_numpy()\n",
    "        )\n",
    "    )\n",
    "    \n",
    "# we shuffle the data to elminate any bias across/within the columns when\n",
    "# evaluting\n",
    "random.Random(42).shuffle(the_data)\n",
    "print('done', f'The data is {len(the_data)} long')"
   ]
  },
  {
   "cell_type": "code",
   "execution_count": 89,
   "metadata": {},
   "outputs": [
    {
     "output_type": "display_data",
     "data": {
      "text/plain": "ClassLabeller(children=(HBox(children=(HBox(children=(FloatProgress(value=0.0, description='Progress:', max=1.…",
      "application/vnd.jupyter.widget-view+json": {
       "version_major": 2,
       "version_minor": 0,
       "model_id": "3021b56ccc224930848f7fd6c8694e28"
      }
     },
     "metadata": {}
    }
   ],
   "source": [
    "def display_func(row):\n",
    "    \"\"\"\n",
    "    The display function gets passed your data - in the\n",
    "    case of a dataframe, it gets passed a row - and then\n",
    "    has to \"display\" your data in whatever way you want.\n",
    "\n",
    "    It doesn't need to return anything\n",
    "    \"\"\"\n",
    "    display(Markdown(row))\n",
    "    #display(Markdown(\"**At:** \" + row[\"timestamp\"]))\n",
    "\n",
    "def preprocessor(x, y):\n",
    "    # only take standardized column, leave everything else\n",
    "    return x, y\n",
    "\n",
    "verification_widget = ClassLabeller(\n",
    "    features=the_data,\n",
    "    model=pipeline,\n",
    "    model_preprocess=preprocessor,\n",
    "    display_func=display_func,\n",
    "    options=['standardized', 'not standardized'],\n",
    "    acquisition_function='margin'\n",
    ")\n",
    "\n",
    "verification_widget"
   ]
  },
  {
   "cell_type": "code",
   "execution_count": 92,
   "metadata": {
    "tags": []
   },
   "outputs": [
    {
     "output_type": "stream",
     "name": "stdout",
     "text": "jeffreys bionomial proportion is: [0.95, 0.95]\nWe examined 100 labels, of which 95 are correct. There are 100 labels.\n"
    }
   ],
   "source": [
    "# insert bionomial proprtion esimator here\n",
    "\n",
    "def print_CI(labels, response_is_standardized = \"standardized\", method = \"jeffreys\"):\n",
    "    successful_count = sum(\n",
    "        response_is_standardized == label for label in labels\n",
    "    )\n",
    "    not_examined_count = sum(\n",
    "        None == label for label in labels\n",
    "    )\n",
    "\n",
    "    CI = proportion_confint(\n",
    "            count= successful_count,\n",
    "            nobs= len(labels) - not_examined_count,\n",
    "            alpha = 0.95,\n",
    "            method=method\n",
    "        )\n",
    "    print(f\"{method} bionomial proportion is: [{CI[0]:.2f}, {CI[1]:.2f}]\",\n",
    ")\n",
    "    print(f\"We examined {len(labels) - not_examined_count} labels, of which {successful_count} are correct. There are {len(labels)} labels.\")\n",
    "print_CI(labels=verification_widget.new_labels)\n"
   ]
  },
  {
   "cell_type": "code",
   "execution_count": 65,
   "metadata": {
    "tags": []
   },
   "outputs": [
    {
     "output_type": "stream",
     "name": "stdout",
     "text": "Index(['IS_WOIA', 'Degree_Type', 'STANDARDIZED_DESCRIPTION',\n       'STANDARDIZED_FEATURESDESCRIPTION', 'CLEANED_STANDARDIZED_NAME_1',\n       'STANDARDIZEDNAME', 'STANDARDIZEDNAME_1', 'DESCRIPTION',\n       'FEATURESDESCRIPTION', 'NAME_1', 'NAME'],\n      dtype='object')\ndone\n"
    }
   ],
   "source": [
    "# 4)\n",
    "# Now we write out the verfiied results\n",
    "# ... finally we can write this out as our first complete lookup table\n",
    "# for the NAME field\n",
    "write_out = draft_output[\n",
    "    [\n",
    "        'IS_WOIA', 'Degree_Type',\n",
    "        'STANDARDIZED_DESCRIPTION', 'STANDARDIZED_FEATURESDESCRIPTION', \n",
    "        'CLEANED_STANDARDIZED_NAME_1', 'STANDARDIZEDNAME',\n",
    "        'STANDARDIZEDNAME_1', 'DESCRIPTION',\n",
    "        'FEATURESDESCRIPTION', 'NAME_1', 'NAME'\n",
    "    ]\n",
    "]\n",
    "\n",
    "print(\n",
    "    \"We're writing ...\",\n",
    "    write_out.columns\n",
    ")\n",
    "\n",
    "# shuffe the rows to better remove temporal baises\n",
    "write_out =\\\n",
    "    write_out.sample(frac=1, random_state=42, axis=0).reset_index(drop=True)\n",
    "\n",
    "write_out.to_csv(rootpath + interimpath + content_is + \".csv\",\n",
    "                index = False,\n",
    "                chunksize = 10000)\n",
    "\n",
    "write_out.to_excel(rootpath + processedpath + content_is + \".xls\",\n",
    "            sheet_name=\"Standardized Descriptions\",\n",
    "            index=False)\n",
    "print('done')"
   ]
  }
 ],
 "metadata": {
  "language_info": {
   "codemirror_mode": {
    "name": "ipython",
    "version": 3
   },
   "file_extension": ".py",
   "mimetype": "text/x-python",
   "name": "python",
   "nbconvert_exporter": "python",
   "pygments_lexer": "ipython3",
   "version": "3.7.2-final"
  },
  "orig_nbformat": 2,
  "kernelspec": {
   "name": "python37264bitd4adstandardizationpipenvcac7d9f4a0864f29b6353caf0213501a",
   "display_name": "Python 3.7.2 64-bit ('d4ad_standardization': pipenv)"
  }
 },
 "nbformat": 4,
 "nbformat_minor": 2
}