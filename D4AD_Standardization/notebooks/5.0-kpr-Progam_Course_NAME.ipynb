{
 "cells": [
  {
   "cell_type": "code",
   "execution_count": 2,
   "metadata": {
    "tags": []
   },
   "outputs": [
    {
     "output_type": "stream",
     "name": "stdout",
     "text": "done\n"
    }
   ],
   "source": [
    "# Importing the libraries \n",
    "import pandas as pd\n",
    "import numpy as np\n",
    "import random\n",
    "import pickle\n",
    "import re\n",
    "import regex  # for better, more capbale regex api\n",
    "import os\n",
    "import zipfile\n",
    "import more_itertools\n",
    "from itertools import chain\n",
    "from statsmodels.stats.proportion import proportion_confint\n",
    "# active labeler related\n",
    "from sklearn.feature_extraction.text import CountVectorizer\n",
    "from sklearn.feature_extraction.text import TfidfTransformer\n",
    "from sklearn.naive_bayes import ComplementNB  # corrects for class imbalance, SGD is pretty good too\n",
    "from sklearn.pipeline import Pipeline\n",
    "from superintendent import ClassLabeller\n",
    "from IPython.display import display, Markdown\n",
    "\n",
    "pipeline = Pipeline([\n",
    "    ('vect', CountVectorizer(analyzer='char', ngram_range=(1,2))),\n",
    "    ('tfidf', TfidfTransformer()),\n",
    "    ('clf', ComplementNB()),\n",
    "])\n",
    "print('done')"
   ]
  },
  {
   "cell_type": "code",
   "execution_count": 3,
   "metadata": {
    "tags": []
   },
   "outputs": [
    {
     "output_type": "stream",
     "name": "stdout",
     "text": "done\n"
    }
   ],
   "source": [
    "# Set up columns to keep, fields, locations for writing\n",
    "rootpath = \"/hdd/work/d4ad_standardization/\"\n",
    "processedpath = \"D4AD_Standardization/data/processed/\"\n",
    "externalpath = \"D4AD_Standardization/data/external/\"\n",
    "interimpath = \"D4AD_Standardization/data/interim/\"\n",
    "\n",
    "content_is = \"standardized_name_and_name1\"\n",
    "\n",
    "\n",
    "print('done')"
   ]
  },
  {
   "cell_type": "code",
   "execution_count": 4,
   "metadata": {
    "tags": []
   },
   "outputs": [
    {
     "output_type": "stream",
     "name": "stdout",
     "text": "done\n"
    }
   ],
   "source": [
    "\n",
    "filepath = \"./D4AD_Standardization/data/raw/etpl_all_programsJune3.xls\"\n",
    "filepath = \"standardized_name.csv\" # builds off of notebook 3 work\n",
    "\n",
    "columns = [\n",
    "    \"NAME_1\",\n",
    "    \"STANDARDIZEDNAME\",\n",
    "    \"NAME\",\n",
    "    \"DESCRIPTION\",\n",
    "    \"PREREQUISITES\",\n",
    "    \"FEATURESDESCRIPTION\",\n",
    "    \"STREET1\",\n",
    "    \"CITY\",\n",
    "    \"STATE\",\n",
    "    \"ZIP\",\n",
    "    \"WEBSITE\",\n",
    "    \"COUNTY\",\n",
    "    \"NONGOVAPPROVAL\",\n",
    "    \"STATECOMMENTS\",\n",
    "    \"CIPCODE\",\n",
    "    \"PROVIDERID\",\n",
    "    \"APPROVINGAGENCYID\"\n",
    "]\n",
    "\n",
    "columns_to_save = ['STANDARDIZEDNAME_1'] + columns\n",
    "\n",
    "SKIP_THIS = True # helps me be able to run all and not worry about pulling things\n",
    "# I already know I have on disk\n",
    "\n",
    "#df = pd.read_excel(rootpath + interimpath + filepath, usecols=columns)\n",
    "df = pd.read_csv(rootpath + interimpath + filepath, usecols=columns)\n",
    "print('done')"
   ]
  },
  {
   "cell_type": "code",
   "execution_count": 5,
   "metadata": {
    "tags": []
   },
   "outputs": [
    {
     "output_type": "stream",
     "name": "stdout",
     "text": "done\n"
    }
   ],
   "source": [
    "if not SKIP_THIS:\n",
    "    ONET_TOOLS_TECH_URL_NAME = (\"https://www.onetcenter.org/dl_files/database/db_20_1_text/Tools%20and%20Technology.txt\", \"onet_tools_tech.csv\")\n",
    "    CAREERONESTOP_CERTIFICATIONS_URL_NAME = (\"https://www.careeronestop.org/TridionMultimedia/tcm24-48614_CareerOnestop_Certifications_07072020.zip\", \"career_one_stop.zip\")\n",
    "\n",
    "    filepath = rootpath + externalpath\n",
    "\n",
    "    for dataset in (ONET_TOOLS_TECH_URL_NAME, CAREERONESTOP_CERTIFICATIONS_URL_NAME):\n",
    "        url, filename = dataset\n",
    "        print(\"running ...\", f'\\nwget -O {filepath+filename} {url}')\n",
    "        os.system(f'wget -O {filepath+filename} {url}')\n",
    "        print(\"filetype is\",  filename[-3:])\n",
    "\n",
    "        if filename[-3:] == 'zip':\n",
    "            with zipfile.ZipFile(filepath+filename,\"r\") as zip_ref:\n",
    "                zipdir = filepath+filename[:-4]\n",
    "                print(\"unzipping {} to ...\".format(filename), zipdir)\n",
    "                os.mkdir(zipdir)\n",
    "                zip_ref.extractall(zipdir)\n",
    "print('done')"
   ]
  },
  {
   "cell_type": "code",
   "execution_count": 6,
   "metadata": {},
   "outputs": [],
   "source": [
    "pd.set_option('display.max_rows', False)\n",
    "\n",
    "the_df = df #df.sample(n=10000, random_state=42)"
   ]
  },
  {
   "cell_type": "code",
   "execution_count": 7,
   "metadata": {
    "tags": []
   },
   "outputs": [
    {
     "output_type": "stream",
     "name": "stdout",
     "text": "done\n"
    }
   ],
   "source": [
    "# A) \n",
    "# The program or course name can start or end with a matching parenthesis. In these cases\n",
    "# we assume that no other matching parenthesis are present and apply \n",
    "# an appropriate regex for that...\n",
    "\n",
    "# First, set up standardized column with default values\n",
    "the_df[\"STANDARDIZEDNAME_1\"] = \"\"\n",
    "\n",
    "# ... then extract names for those with opening parens\n",
    "open_parenthesis_index = the_df.NAME_1.str[0] == '('\n",
    "open_parenthesis_regex = '''\n",
    "                (?P<paren>\\(.*\\)) # get the first parathesis\n",
    "                (?P<the_name>.*)  # then get the actual name\n",
    "                '''\n",
    "\n",
    "the_df.loc[open_parenthesis_index, \"STANDARDIZEDNAME_1\"] =\\\n",
    "    the_df.loc[open_parenthesis_index, 'NAME_1']\\\n",
    "          .str\\\n",
    "          .extract(open_parenthesis_regex, flags=re.VERBOSE).the_name\n",
    "\n",
    "# ... then extract names for those with closing parens\n",
    "close_parenthesis_index = the_df.NAME_1.str[-1] == ')'\n",
    "closing_parenthesis_regex = '''\n",
    "                (?P<the_name>.*)  # get the actual name\n",
    "                (?P<paren>\\(.*\\)) # get the last parathensis                \n",
    "                '''\n",
    "the_df.loc[close_parenthesis_index, \"STANDARDIZEDNAME_1\"] =\\\n",
    "    the_df.loc[close_parenthesis_index, 'NAME_1']\\\n",
    "          .str\\\n",
    "          .extract(closing_parenthesis_regex, flags=re.VERBOSE).the_name\n",
    "\n",
    "# ... then we copy over content that has a internal parenthesis with those\n",
    "# parenthesis removed and ignore everything after, e.g. \"ABC (123) DEF\" --> \"ABC\"\n",
    "internal_parenthesis_index =\\\n",
    "    the_df['NAME_1'].str.contains('\\(|\\)', regex=True) &\\\n",
    "        ~(close_parenthesis_index|open_parenthesis_index)\n",
    "\n",
    "the_df.loc[internal_parenthesis_index, \"STANDARDIZEDNAME_1\"] =\\\n",
    "    the_df.loc[internal_parenthesis_index, 'NAME_1']\\\n",
    "          .str\\\n",
    "          .extract(closing_parenthesis_regex, flags=re.VERBOSE).the_name\n",
    "\n",
    "# ... finally, just copy over everything else\n",
    "no_parenthesis_index = ~(close_parenthesis_index |\\\n",
    "                         open_parenthesis_index  |\\\n",
    "                         internal_parenthesis_index)\n",
    "the_df.loc[no_parenthesis_index, \"STANDARDIZEDNAME_1\"] =\\\n",
    "    the_df.loc[no_parenthesis_index, 'NAME_1']\n",
    "\n",
    "print('done')"
   ]
  },
  {
   "cell_type": "code",
   "execution_count": 8,
   "metadata": {
    "tags": []
   },
   "outputs": [
    {
     "output_type": "stream",
     "name": "stdout",
     "text": "done1\n"
    }
   ],
   "source": [
    "# 2)\n",
    "# So now we have silver version data of program, course names\n",
    "# from the cell above, in STANDARDIZEDNAME_1\n",
    "#\n",
    "# To make an incrementally better version we need to expand \n",
    "# abbreviations and acroynmns.\n",
    "#\n",
    "# In a prior process (not shown here; locally in old_assorted_code.py in ../notebooks) I\n",
    "# curated a set of abbreviations to expand using a labelling process; here we just load \n",
    "# the abbreviations from ./data/external\n",
    "label_mapper = pd.read_csv(\n",
    "    rootpath + externalpath + \"label_mapper.csv\"\n",
    ")\n",
    "\n",
    "draft_output = the_df[['STANDARDIZEDNAME_1', 'NAME', 'DESCRIPTION', 'FEATURESDESCRIPTION']]\n",
    " #the_df.iloc[:1000,:][['STANDARDIZEDNAME_1', 'DESCRIPTION']]\n",
    "\n",
    "# using the wonderful regex (not re) Python library, we:\n",
    "#\n",
    "# A) Identify the multiple matches, each of which can have multiple matches themselves\n",
    "# e.g. Win 2k & Win NT --> Windows 2k & Windows NT\n",
    "#\n",
    "# B) Efficiently use .sub to do multiple multiple replacment\n",
    "\n",
    "def make_term_grouped_regex(term=\"\", right_regex=\"\", left_regex=\"\"):\n",
    "    mystr = left_regex + '(' +\\\n",
    "                re.escape(term) +\\\n",
    "            ')' + right_regex\n",
    "    return mystr\n",
    "\n",
    "def make_grouped_regexes(replacement, left_regex=\"\", right_regex=\"\"):\n",
    "    return (make_term_grouped_regex(left_regex=left_regex,\n",
    "                                    term=key,\n",
    "                                    right_regex=right_regex)\\\n",
    "            for key in replacement.keys()\n",
    "    )\n",
    "\n",
    "def construct_map(label_mapper=label_mapper):\n",
    "    return {\n",
    "        **dict(zip(label_mapper.abbreviation, label_mapper.expanded))\n",
    "    }\n",
    "\n",
    "replacement_map = construct_map()\n",
    "\n",
    "# Caveat: There can be matches that are subpatterns of each other\n",
    "# I've only really seen this with Oracle OCP and CDL XYZ but in theory\n",
    "# it could occur with another pattern so I'm hesitant to special case it\n",
    "#\n",
    "# So, I use POSIX leftmost longest matching, see: https://bitbucket.org/mrabarnett/mrab-regex/issues/150\n",
    "# to implement longest matching, with `(?p)`\n",
    "#\n",
    "# This generally will make matching take slightly longer, but it should be\n",
    "# only longer linear in the number of possible matching patterns in a given pattern\n",
    "abbrevation_pattern =\\\n",
    "    regex.compile(\n",
    "        \"(?p)\" +\n",
    "        \"|\".join(   # match words at start of string\n",
    "            make_grouped_regexes(replacement_map, left_regex=r'^', right_regex=r'[\\s:]')\n",
    "        ) + \"|\" +\\\n",
    "        \"|\".join(   # match words surrounded by spaces\n",
    "            make_grouped_regexes(replacement_map, left_regex=r'\\s', right_regex=r'\\s')\n",
    "        ) + \"|\" +\\\n",
    "        \"|\".join(   # match words that make up entire fields, e.g. 'Nursing'\n",
    "            make_grouped_regexes(replacement_map, left_regex=r'^', right_regex=r'$')\n",
    "        ) + \"|\" +\\\n",
    "        \"|\".join(   # match words at end of string preceded by space or slash\n",
    "            make_grouped_regexes(replacement_map, left_regex=r'[\\s/]', right_regex=r'$')\n",
    "        ) + \"|\" +\\\n",
    "        \"|\".join(   # match words within string that follow a slash, end with a space or slash\n",
    "            make_grouped_regexes(replacement_map, left_regex=r'/', right_regex=r'[\\s/]')\n",
    "        )\n",
    "    )\n",
    "\n",
    "def multiple_mapper(string):\n",
    "    return abbrevation_pattern.sub(\n",
    "        lambda x: \\\n",
    "        x.group().replace( # replace the found string\n",
    "            more_itertools.first_true(x.groups() # where the first matched group...\n",
    "        ),  replacement_map[more_itertools.first_true(x.groups())] # ... is replaced with the lookup\n",
    "    ), string)\n",
    "\n",
    "draft_output['MULTI_REPLACE_STANDARDIZEDNAME_1'] =\\\n",
    "    draft_output['STANDARDIZEDNAME_1'].dropna().map(multiple_mapper) # ~ 26k rows/10 seconds\n",
    "print('done1')"
   ]
  },
  {
   "cell_type": "code",
   "execution_count": 104,
   "metadata": {
    "tags": []
   },
   "outputs": [
    {
     "output_type": "execute_result",
     "data": {
      "text/plain": "18"
     },
     "metadata": {},
     "execution_count": 104
    }
   ],
   "source": [
    "# 3) \n",
    "# Then go after odd static patterns that are common \n",
    "# ... A.A., AAS,e ends-with \"/\", etc etc\n",
    "# \"Applied Certificate in...\" <--- thing is, this could really be a program\n",
    "# the_df.STANDARDIZEDNAME_1 =\\\n",
    "#     the_df.STANDARDIZEDNAME_1.str.replace(\"A.A.\",\"\", case=False)\n",
    "\n",
    "#  I think the longest matching tends to account for this when known\n",
    "# things like Oracle OCP are there"
   ]
  },
  {
   "cell_type": "code",
   "execution_count": 9,
   "metadata": {
    "tags": []
   },
   "outputs": [
    {
     "output_type": "stream",
     "name": "stdout",
     "text": "done The data is 24667 long\n"
    }
   ],
   "source": [
    "# This is the evaluation part of the program and course name standardizations\n",
    "# along with the provider name. My goal is to have 85%+ standardized, send out\n",
    "# that 85% will come from the jefferey's interval\n",
    "\n",
    "# Evaluation Rubric:\n",
    "#   A) Here we label clearly wrong snippets, anything that is marginal we mark as\n",
    "# standardized for purposes of this evaluation because we want to err on the side\n",
    "# of giving overly specific information, which includes odd info\n",
    "#   B) We also click through quickly, not overly dwelling one any one example, the\n",
    "# goal here is to get the evaulation done quickly since it's so manual\n",
    "#   C) For now we ignore casingl there does need to be a camel casing applied to\n",
    "# all caps\n",
    "\n",
    "# We create a series of data to evaluate\n",
    "columns_to_check = ['MULTI_REPLACE_STANDARDIZEDNAME_1'] # we know NAME is mostly fine, 'STANDARDIZEDNAME']\n",
    "the_data =\\\n",
    "    np.concatenate(\n",
    "        (\n",
    "            draft_output[columns_to_check[0]].to_numpy(),\n",
    "            #the_df[columns_to_check[1]].to_numpy()\n",
    "        )\n",
    "    )\n",
    "    \n",
    "# we shuffle the data to elminate any bias across/within the columns when\n",
    "# evaluting\n",
    "random.Random(42).shuffle(the_data)\n",
    "print('done', f'The data is {len(the_data)} long')"
   ]
  },
  {
   "cell_type": "code",
   "execution_count": 10,
   "metadata": {},
   "outputs": [],
   "source": [
    "def display_func(row):\n",
    "    \"\"\"\n",
    "    The display function gets passed your data - in the\n",
    "    case of a dataframe, it gets passed a row - and then\n",
    "    has to \"display\" your data in whatever way you want.\n",
    "\n",
    "    It doesn't need to return anything\n",
    "    \"\"\"\n",
    "    display(Markdown(row))\n",
    "    #display(Markdown(\"**At:** \" + row[\"timestamp\"]))\n",
    "\n",
    "def preprocessor(x, y):\n",
    "    \n",
    "    # only take standardized column, leave everything else\n",
    "    return x, y\n",
    "\n",
    "if not SKIP_THIS:\n",
    "    verification_widget = ClassLabeller(\n",
    "        features=the_data,\n",
    "        model=pipeline,\n",
    "        model_preprocess=preprocessor,\n",
    "        display_func=display_func,\n",
    "        options=['standardized', 'not standardized'],\n",
    "        acquisition_function='margin'\n",
    "    )\n",
    "\n",
    "    verification_widget"
   ]
  },
  {
   "cell_type": "code",
   "execution_count": 12,
   "metadata": {
    "tags": []
   },
   "outputs": [],
   "source": [
    "# insert bionomial proprtion esimator here\n",
    "\n",
    "if not SKIP_THIS:\n",
    "    def print_CI(labels, response_is_standardized = \"standardized\", method = \"jeffreys\"):\n",
    "        successful_count = sum(\n",
    "            response_is_standardized == label for label in labels\n",
    "        )\n",
    "        not_examined_count = sum(\n",
    "            None == label for label in labels\n",
    "        )\n",
    "\n",
    "        CI = proportion_confint(\n",
    "                count= successful_count,\n",
    "                nobs= len(labels) - not_examined_count,\n",
    "                alpha = 0.95,\n",
    "                method=method\n",
    "            )\n",
    "        print(f\"{method} bionomial proportion is: [{CI[0]:.2f}, {CI[1]:.2f}]\",\n",
    "    )\n",
    "        print(f\"We examined {len(labels) - not_examined_count} labels, of which {successful_count} are correct. There are {len(labels)} labels.\")\n",
    "    print_CI(labels=verification_widget.new_labels)\n"
   ]
  },
  {
   "cell_type": "code",
   "execution_count": 14,
   "metadata": {
    "tags": []
   },
   "outputs": [
    {
     "output_type": "stream",
     "name": "stdout",
     "text": "done\n"
    }
   ],
   "source": [
    "# 4)\n",
    "# Now we write out the verfiied results\n",
    "# ... finally we can write this out as our first complete lookup table\n",
    "# for the NAME field\n",
    "write_out = the_df\n",
    "\n",
    "write_out['STANDARDIZEDNAME_1'] =\\\n",
    "    draft_output['MULTI_REPLACE_STANDARDIZEDNAME_1']\n",
    "\n",
    "# shuffe the rows to better remove temporal baises\n",
    "# write_out =\\\n",
    "#     the_df.sample(frac=1, random_state=42, axis=0).reset_index(drop=True)\n",
    "\n",
    "write_out.to_csv(rootpath + interimpath + content_is + \".csv\",\n",
    "                index = False,\n",
    "                chunksize = 10000,\n",
    "                columns=columns_to_save)\n",
    "\n",
    "write_out.to_excel(rootpath + processedpath + content_is + \".xls\",\n",
    "            sheet_name=\"Standardized NAME and NAME_1\",\n",
    "            index=False,\n",
    "            columns=columns_to_save)\n",
    "print('done')"
   ]
  },
  {
   "cell_type": "code",
   "execution_count": 168,
   "metadata": {
    "tags": []
   },
   "outputs": [
    {
     "output_type": "execute_result",
     "data": {
      "text/plain": "ion, including...\n650    Designed to assist in supporting managers as a...\n651    Stress the importance of good telephone techni...\n652    Helps you to deal more effectively with diffic...\n653    HRDI has a variety of programs available in co...\n654    This Package includes Windows2003MCP/CCNA.\\nMi...\n655    Graduates are able to:\\n-analyze financial sta...\n656    The specialty of this program is that it teach...\n657    Hands-on experience in computer repair, networ...\n658    This program offers a combination of general e...\n659    Microsoft Excel\\nThis course introduces studen...\n660    This course includes instruction in the follow...\n661    This course is designed to introduce the alpha...\n662    Quality Commercial Cleaning is a mobile cleani...\n663    Alternatives, Inc. Employment Services assist ...\n664    This course uses interactive software to impro...\n665    Prepare for an exciting future in nail care at...\n666    Learn how to design your own Web page.  Studen...\n667    Salme Community College's Personal Computing C...\n668    New Courses Leading to certification and emplo...\n669    Become familiar with the Internet and the Worl...\n670    This course includes instruction in the follow...\n671    The Job Connection is a supported employment p...\n672    The Job Connection, Career Exploration & Inter...\n673    Office Mastery consists of 240 hours of stand ...\n674    The 600 hour, hands-on course will provide edu...\n675    This program provide participants with both cl...\n676    Students use names, work with advanced functio...\n677    You will have skills as a Painter, Taper or Pa...\n678    You will be working with a client in his/her o...\n679    Certified Nursing Assistants may be employed b...\n680    You will learn how to replace windows, doors, ...\n681    You will learn how to mix mortar, lay lines an...\n682    You will learn how to build walls and forms fo...\n683    You will learn to cut and install pipes and fi...\n684    You will learn how to use Microsoft Word for W...\n685    You will learn skills to become a billing cler...\n686    You will learn engine and mechanical theory, e...\n687    You will learn how to prepare, store and serve...\n688    You will receive a diagnostic exam with proper...\n689    You can earn an A+ Certification, Microsoft Ce...\n690    You will learn transmission diagnostics, how t...\n691    This program of study prepares the student to ...\n692    This course will cover computer hardware, A+ T...\n693    You will learn how to mix mortar, build safe s...\n694    You will learn how to cut, bend and install co...\n695    You will learn para military and physical trai...\n696    This program combines tractor trailer driving ...\n697    The program provides the education, training a...\n698    Commerical Driver's License Class A CDL traini...\n699    The program is designed for adults whose nativ...\n700    This program is designed to prepare the studen...\n701    This program of study introduces the student t...\n702    This 184 hour hands on course will cover safet...\n703    The Electrocardiogram Technician/Phlebotomy Te...\n704    The Medical Assistant program is a 650 hour pr...\n705    The Medical Billing/Medical Records Technician...\n706    Coursework in the program will be hands-on and...\n707    The goal is to produce graduates who can accur...\n708    This 150 hour Commerical Driver's License Clas...\n709    All students in this course must complete a pr...\n710    Our Computerized Accounting CERTIFICATE progra...\n711    This 600 hour program will prepare you to ente...\n712    It is with great pleasure that I introduce you...\n713    Unix Administration is one of the most used co...\n714    This program will prepare students to become a...\n715    One on one or group training for people intere...\n716    Supported employment services through NJLWD to...\n717    Students use the latest technology in AutoCAD ...\n718    This program is grant-funded (no cost to the c...\n719    This program is grant-funded (no cost to clien...\n720    This program is grant-funded (no cost to clien...\n721    Students will learn to meet American Welding S...\n722    Students will learn development of fluid power...\n723    Participants will be able to do basic pipefitt...\n724    Program teaches Safety, Small Tool Usage, Care...\n725    This Associate in Applied Science Degree progr...\n726    This Associate in Applied Science program prep...\n727    This Associate in Applied Science degree progr...\n728    This program is grant-funded (no cost to clien...\n729    Build a solid foundation of application skills...\n730    Increase knowledge of computer hardware and op...\n731    This Associate in Applied Science degree progr...\n732    Acquire skills to provide support for day-to-d...\n733    We provide job development, on the job coachin...\n734    This course is designed to improve the reading...\n735    This Associate in Applied Science Degree Progr...\n736    This Associate Degree Program in Applied Scien...\n737    This Associate in Applied Science degree progr...\n738    This Associate Degree Program in Applied Scien...\n739    This Associate in Applied Science degree progr...\n740    This certificate program will prepare the grad...\n741    This Associate in Applied Science degree progr...\n742    This 10-week comprehensive course in the growi...\n743    This program focuses on the development of spe...\n744    Provides a longer-term employment and training...\n745    An intensive service in which an employment sp...\n746    This program prepares the individual to take t...\n747    This program offers instruction in basic math,...\n748    This program teaches foreign born students to ...\n749    Medical billing and coding is one of the faste...\n750    Our Supported Employment staff will provide th...\n751    A time-limited, intensive, individualized voca...\n752    This Microsoft Certification Computer Training...\n753    This Microsoft Certification Computer Training...\n754    This Microsoft Certification Computer Training...\n755    This Microsoft Certification Computer Training...\n756    An individualized process in which the partici...\n757    Students learn the ayurvedic/holistic patholog...\n758    A service in which an Employment Specialist as...\n759    Course meets with both classroom and clinical ...\n760    In this program students will learn: medical t...\n761    College level specialized diploma. Graduates w...\n762    This course is offered to beginning and interm...\n763    BCC's non-credit Adult Basic Education classes...\n764    Why not get trained by the same company who pr...\n765    Training program has the latest Microsoft Offi...\n766    This is a Personal Computer Network Certificat...\n767    Solartech's Web Design and Administration prog...\n768    Students will learn the operation of help desk...\n769    The students will learn how to secure computer...\n770    ZOEB INSTITUTE believes that there can be no h...\n771    Students will learn to install, modify, diagno...\n772    National Training Associate's Team Building an...\n773    National Training Associate's Metrics for Impr...\n774    A two part training program; beginning with a ...\n775    The Associate of Applied Science prepares stud...\n776    This course is certified by the American ETA A...\n777    Become profiicent in performing electrocardiag...\n778    In this program the student will develop an un...\n779    This course is designed to give the student a ...\n780    Students prepare to perform tasks associated w...\n781    Students prepare to perform tasks associated w...\n782    This course is made to make you a proficient J...\n783    Paid and unpaid work experience, leadership de...\n784    The course teaches you the basic concepts of p...\n785    This course provides broad and thorough traini...\n786    Security Certified Network Professional is a v...\n787    The program assists the student in cultivating...\n788    Microsoft Certification Program.  Provide skil...\n789    Microsoft Certification Program.  Provides ski...\n790    The Medical Assistant program prepares student...\n791    This program is designed to provide the gradua...\n792    This course starts with an introduction to the...\n793    Three levels of basic skills instruction empha...\n794    In-class and behind the wheel instruction prov...\n795    Program prepares individuals, under the superv...\n796    In-class and behind the wheel instruction prov...\n797    Full-scale driving school menu of services ava...\n798    National Training Associate's Front Line Leade...\n799    National Training Associate's Project Manageme...\n800    This course provides Master Web Development sk...\n801    This is a four week group job search program f...\n802    CUSTOMIZED TRAINING FOR BUSINSESS AND INDUSTRY...\n803    Comprehensive services are provided to individ...\n804    Sociology provides an excellent foundation for...\n805    This program is the entire curriculum required...\n806    This program is geared towards the Clinical Su...\n807    Course is geared towards Masters' Level Clinic...\n808    This program has been designed to prepare indi...\n809    The theatre concentration is a two-year progra...\n810    Microsoft has named Salem Community College an...\n811    Student will become proficient in Windows 2000...\n812    This program provides knowledge, skills, and p...\n813    Learn how to prepare effective slide presentat...\n814    This proggram is designed to prepare students ...\n815    Learn how to design spreadsheets for numerical...\n816    The philosophy program grooms students for a v...\n817    This course is designed for students intereste...\n818    Learn how to create your own easy-to-learn dat...\n819    This program is designed to provide students w...\n820    The Psychology Program will allow students to ...\n821    This is a full-time day program, beginning eac...\n822    If you are a Windows 95/98 user and need to le...\n823    The students will be able to Install, Configur...\n824    The students will be trained on System Adminis...\n825    90 state required hours. Individual must have ...\n826    The General Education Diploma preparation test...\n827    We are an official Cisco Netwoking Academy. Th...\n828    Students will be trained to become Medical Ass...\n829    The Medical Technologist Program includes the ...\n830    Students will learn the internal system and op...\n831    Complete five-course sequence to earn a CERTIF...\n832    No computer experience necessary!  Learn the b...\n833    Learn Microsoft Windows  - the efficient way t...\n834    The students will learn how to program in Visu...\n835    The Bioinformatics program include six courses...\n836    The objective of the Medical Billing and Codin...\n837    The students will learn how to program in Visu...\n838    Students will be trained to become Medical Off...\n839    NETWORKING PROFESSIONAL \\n12 WEEKS\\n336 HRS\\n8...\n840    This introductory course is designed to give s...\n841    This program is designed to prepare the indivi...\n842    This course provides the student with a basic ...\n843    *Local Public Contracts Law - Highlights of th...\n844    *Internal Revenue Service Review of Compliance...\n845    Our training center offers this program to any...\n846    This program is recommended for those looking ...\n847    The objetive of this program is to prepare the...\n848    Employment Skills Training (EST) provides comp...\n849    Definitive college-level program of study that...\n850    Definitive entry-level program of study that i...\n851    This course teaches the basics of computer key...\n852    This seminar is a preparation class for the IN...\n853    Commerical Driver's License is part of the tec...\n854    This program is intended to prepare individual...\n855    Students acquire a background in business & ge...\n856    Students develop the technical skills many emp...\n857    Cartoon Graphics 1 is the beginning step in th...\n858    This program is specifically designed for Engl...\n859    This program combines classroom instruction wi...\n860    Home-based medical transcription program for t...\n861    This program is designed for the student who w...\n862    This program prepares a student for a career a...\n863    This program is designed to provide students w...\n864    This program is designed for students who inte...\n865    The 30 credit certificate program is designed ...\n866    Students will be trained to become Medical Bil...\n867    Students will be trained to become Dental Assi...\n868    Students will be trained to become Dental Offi...\n869    The program is designed to provide customized ...\n870    This course provides training in basic and int...\n871    Patient Care Specialist program includes 90 ho...\n872    We train the student in the basic mechanics of...\n873    CUSTOMIZED TRAINING FOR BUSINSESS AND INDUSTRY...\n874    CUSTOMIZED TRAINING FOR BUSINSESS AND INDUSTRY...\n875    This course series is designed to provide the ...\n876    Students will learn and understand power suppl...\n877    The Academy for Myofascial Trigger Point Thera...\n878    SE1/Help Desk Starter Track: This computer-tra...\n879    Will prepare the reasonable diligent student f...\n880    The Desktop Publishing & Digital Prepress prog...\n881    This program is designed to prepare the studen...\n882    Students will explore different fields of empl...\n883    This course is designed to assist individuals ...\n884    Will prepare the reasonably diligent student f...\n885    This program has been designed for the individ...\n886    This program has been designed for the individ...\n887    This program has been designed for the individ...\n888    The purpose of this program is to train indivi...\n889    CUSTOMIZED TRAINING FOR BUSINESSESS AND INDUST...\n890    CUSTOMIZED TRAINING FOR BUSINSESS AND INDUSTRY...\n891    CUSTOMIZED TRAINING FOR BUSINSESS AND INDUSTRY...\n892    CUSTOMIZED TRAINING FOR BUSINSESS AND INDUSTRY...\n893    CUSTOMIZED TRAINING FOR BUSINSESS AND INDUSTRY...\n894    Students will learn to format documents, inser...\n895    Learn how to communicate effectively with mana...\n896    Students will learn advanced formatting, funct...\n897    This program is designed to parallel the first...\n898    PCDI provides staff inservice and professional...\n899    Network course serves as an introduction to lo...\n900    CUSTOMIZED TRAINING FOR BUSINSESS AND INDUSTRY...\n901    HTI+ certification demonstrates knowledge and ...\n902    This 40-hour course teaches the basics of the ...\n903    Lecture and clinical experiences to care for s...\n904    Prepares students for the A+ Certification Exa...\n905    This 40-hour course teaches the basics of Micr...\n906    This English as a Second Language (ESL) progra...\n907    This is a preparation course intended for Span...\n908    National certification program offers instruct...\n909    This is a preparation course for Spanish-domin...\n910    This course is designed to introduce the adult...\n911    LVA-SC provides one-to-one and small group tut...\n912    The program covers basic security concepts.  S...\n913    The Arc of Union County offers time-limited jo...\n914    The Arc of Union County offers comprehensive v...\n915    The Work Adjustment training program assists p...\n916    This course is designed to introduce students ...\n917    Coordinated with the National Restaurant Assoc...\n918    This course is a 320 hour, eight-week curricul...\n919    The Professional Massage Therapy Program is a ...\n920    The Clinical Massage Therapy Program is a 12 m...\n921    This program is designed for the student who w...\n922    This Curriculum, characterized by considerable...\n923    First year of a four year apprentice program d...\n924    Second year of a four year apprentice program....\n925    Third year of a four year apprenticeship progr...\n926    Final year of a four year apprenticeship progr...\n927    This program prepares students for entry-level...\n928    This program prepares students for entry-level...\n929    The Security Officer  Career Cert. is designed...\n930    The Retail Sales Career certificate prepares s...\n931    Thorough and intensive study of the National E...\n932    This program was designed in cooperation with ...\n933    The Microcmputer Support career cert. prepares...\n934    Provides students with a background in compute...\n935    Combines performing arts and science in a fiel...\n936    The Office Administration Government Office Ac...\n937    The Health Service Administration Academic Cer...\n938    Indepth study of electrical motor transformers...\n939    Focuses on residential wiring including safety...\n940    Focuses on commercial and indistrial wiring.  ...\n941    Consists of 8 courses, including integrated la...\n942    Prepares students for entry-level business man...\n943    Consists of 12 courses:  Prep Math, Intro to P...\n944    250-hour job skills program contains four unit...\n945    This program prepares students to obtain graph...\n946    This program provides the basic courses needed...\n947    Acquire skills and knowledge required for the ...\n948    Consists of 10 courses: Prep Math, Intro to PC...\n949    This program is designed to prepare students f...\n950    Fundamentals of outboard marine engines includ...\n951    Instruction will include aids to navigation, e...\n952    This Adult Basic Education program is a combin...\n953    Principles of thyristor devices, dynamic chara...\n954    A Clinical Research Associate, also known as a...\n955    This course is designed for those who are inte...\n956    Instruction includes welding safety practics, ...\n957    This 20 month, 2 1/2 hours a day, 12 hours a w...\n958    This course will cover many of the functions o...\n959    Designed for the student with little or no exp...\n960    This program provides the student with the kno...\n961    Consists of 16 courses, including integrated l...\n962    Instruction includes human anatomy, exercise p...\n963    Instructional program that prepares individual...\n964                           Time limited job coaching.\n965    This is a 96-hour course that prepares student...\n966    Second year of a four year apprenticeship prog...\n967    Full year - one night per week designed to tra...\n968    This program prepares students for employment ...\n969    The purpose of the Entrepreneurship curriculum...\n970    The purpose of the Entrepreneurship curriculum...\n971    This course is designed to assist you with sec...\n972    This program is designed for the student who w...\n973    The Associate of Applied Science degree in Fas...\n974    The Associate of Science program in Music is d...\n975    This program is designed to assist participant...\n976    Conducted as the last three days of the radon ...\n977    Develop the skills in the operation of a varie...\n978    Emphasizes skills in landscaping related to co...\n979    Skills for drafting and designing architecture...\n980    Curriculum includes hair styling, coloring, ba...\n981    Experience hands-on practical applications of ...\n982    Introduces students to the fields of fitness, ...\n983    Admission  $25.00\\nEvaluation 25 days $45.00 p...\n984    This is a 16-week course for English as a Seco...\n985                                         $28.00 / day\n986    The Massage Therapy Program includes Medical s...\n987    Provides experience in preparation, service, a...\n988    Develop skills in retail sales, customer servi...\n989    Hands-on computer experience with word procesi...\n990    Oriented toward supervised shop work including...\n991    Basic course in theory, service, and repair fo...\n992    Includes turf management, agronomy, seed and s...\n993    This course will introduce students to Adobe P...\n994    This is 20-month program that meets for 2 1/2 ...\n995    Explores basic principles and practices of mas...\n996    Curriculum includes hairstyling, coloring, bar...\n997    Learn to create, edit, print, view, and manipu...\n998    Basic instruction to create an effecitve web p...\n999    Intruction includes use of palettes, drop down...\nName: DESCRIPTION, dtype: object"
     },
     "metadata": {},
     "execution_count": 168
    }
   ],
   "source": [
    "# this belongs in another notebook but let's run over one of the description fields\n",
    "# so we can close out my NJ todo list for today\n",
    "\n",
    "#draft_output['MULTI_REPLACE_STANDARDIZEDNAME_1'] =\\\n",
    "#    draft_output['STANDARDIZEDNAME_1'].dropna().map(multiple_mapper)\n",
    "#print(draft_output['MULTI_REPLACE_STANDARDIZEDNAME_1'])\n",
    "#draft_output['DESCRIPTION'].dropna().map(multiple_mapper)\n",
    "# okay so thi sruns (w 1000), takes longer but that's to be expected\n",
    "#   should be in a new notebook, should be "
   ]
  }
 ],
 "metadata": {
  "language_info": {
   "codemirror_mode": {
    "name": "ipython",
    "version": 3
   },
   "file_extension": ".py",
   "mimetype": "text/x-python",
   "name": "python",
   "nbconvert_exporter": "python",
   "pygments_lexer": "ipython3",
   "version": "3.7.2-final"
  },
  "orig_nbformat": 2,
  "kernelspec": {
   "name": "python37264bitd4adstandardizationpipenvcac7d9f4a0864f29b6353caf0213501a",
   "display_name": "Python 3.7.2 64-bit ('d4ad_standardization': pipenv)"
  }
 },
 "nbformat": 4,
 "nbformat_minor": 2
}