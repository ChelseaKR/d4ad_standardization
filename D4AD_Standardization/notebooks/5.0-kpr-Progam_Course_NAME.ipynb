{
 "cells": [
  {
   "cell_type": "code",
   "execution_count": 12,
   "metadata": {},
   "outputs": [],
   "source": [
    "# Importing the libraries \n",
    "import pandas as pd\n",
    "import numpy as np\n",
    "import re\n",
    "import os\n",
    "import zipfile\n",
    "from statsmodels.stats.proportion import proportion_confint"
   ]
  },
  {
   "cell_type": "code",
   "execution_count": 2,
   "metadata": {
    "tags": []
   },
   "outputs": [
    {
     "output_type": "stream",
     "name": "stdout",
     "text": "done\n"
    }
   ],
   "source": [
    "rootpath = \"/hdd/work/d4ad_standardization/\"\n",
    "filepath = \"./D4AD_Standardization/data/raw/etpl_all_programsJune3.xls\"\n",
    "\n",
    "columns = [\n",
    "    \"NAME\",\n",
    "    \"NAME_1\",\n",
    "    \"DESCRIPTION\",\n",
    "    \"PREREQUISITES\",\n",
    "    \"FEATURESDESCRIPTION\",\n",
    "    \"STREET1\",\n",
    "    \"CITY\",\n",
    "    \"STATE\",\n",
    "    \"ZIP\",\n",
    "    \"WEBSITE\",\n",
    "    \"COUNTY\",\n",
    "    \"NONGOVAPPROVAL\",\n",
    "    \"STATECOMMENTS\",\n",
    "    \"CIPCODE\",\n",
    "    \"PROVIDERID\",\n",
    "    \"APPROVINGAGENCYID\"\n",
    "]\n",
    "\n",
    "df = pd.read_excel(rootpath + filepath, usecols=columns)\n",
    "print('done')"
   ]
  },
  {
   "cell_type": "code",
   "execution_count": 8,
   "metadata": {
    "tags": []
   },
   "outputs": [
    {
     "output_type": "stream",
     "name": "stdout",
     "text": "done\n"
    }
   ],
   "source": [
    "# Set up columns to keep, fields, locations for writing\n",
    "processedpath = \"D4AD_Standardization/data/processed/\"\n",
    "externalpath = \"D4AD_Standardization/data/external/\"\n",
    "\n",
    "content_is = \"NAME_1_lookup.csv\"\n",
    "\n",
    "the_df = df.sample(n=100, random_state=42)\n",
    "\n",
    "columns_to_save = ['STANDARDIZEDNAME1', 'NAME_1', 'PROVIDERID',\n",
    "                    'APPROVINGAGENCYID', 'CIPCODE']\n",
    "print('done')"
   ]
  },
  {
   "cell_type": "code",
   "execution_count": 10,
   "metadata": {
    "tags": []
   },
   "outputs": [
    {
     "output_type": "error",
     "ename": "KeyboardInterrupt",
     "evalue": "",
     "traceback": [
      "\u001b[0;31m---------------------------------------------------------------------------\u001b[0m",
      "\u001b[0;31mKeyboardInterrupt\u001b[0m                         Traceback (most recent call last)",
      "\u001b[0;32m<ipython-input-10-8847553b674d>\u001b[0m in \u001b[0;36m<module>\u001b[0;34m\u001b[0m\n\u001b[1;32m      6\u001b[0m \u001b[0;31m# see: https://www.careeronestop.org/Developers/Data/data-downloads.aspx\u001b[0m\u001b[0;34m\u001b[0m\u001b[0;34m\u001b[0m\u001b[0;34m\u001b[0m\u001b[0m\n\u001b[1;32m      7\u001b[0m \u001b[0;31m# need to stand up or use a db connector to import it, though\u001b[0m\u001b[0;34m\u001b[0m\u001b[0;34m\u001b[0m\u001b[0;34m\u001b[0m\u001b[0m\n\u001b[0;32m----> 8\u001b[0;31m \u001b[0mONET_TOOLS_TECH_URL_NAME\u001b[0m \u001b[0;34m=\u001b[0m \u001b[0;34m(\u001b[0m\u001b[0;34m\"https://www.onetcenter.org/dl_files/database/db_20_1_text/Tools%20and%20Technology.txt\"\u001b[0m\u001b[0;34m,\u001b[0m \u001b[0;34m\"onet_tools_tech.csv\"\u001b[0m\u001b[0;34m)\u001b[0m\u001b[0;34m\u001b[0m\u001b[0;34m\u001b[0m\u001b[0m\n\u001b[0m\u001b[1;32m      9\u001b[0m \u001b[0mCAREERONESTOP_CERTIFICATIONS_URL_NAME\u001b[0m \u001b[0;34m=\u001b[0m \u001b[0;34m(\u001b[0m\u001b[0;34m\"https://www.careeronestop.org/TridionMultimedia/tcm24-48614_CareerOnestop_Certifications_07072020.zip\"\u001b[0m\u001b[0;34m,\u001b[0m \u001b[0;34m\"career_one_stop.zip\"\u001b[0m\u001b[0;34m)\u001b[0m\u001b[0;34m\u001b[0m\u001b[0;34m\u001b[0m\u001b[0m\n\u001b[1;32m     10\u001b[0m \u001b[0;34m\u001b[0m\u001b[0m\n",
      "\u001b[0;32m<ipython-input-10-8847553b674d>\u001b[0m in \u001b[0;36m<module>\u001b[0;34m\u001b[0m\n\u001b[1;32m      6\u001b[0m \u001b[0;31m# see: https://www.careeronestop.org/Developers/Data/data-downloads.aspx\u001b[0m\u001b[0;34m\u001b[0m\u001b[0;34m\u001b[0m\u001b[0;34m\u001b[0m\u001b[0m\n\u001b[1;32m      7\u001b[0m \u001b[0;31m# need to stand up or use a db connector to import it, though\u001b[0m\u001b[0;34m\u001b[0m\u001b[0;34m\u001b[0m\u001b[0;34m\u001b[0m\u001b[0m\n\u001b[0;32m----> 8\u001b[0;31m \u001b[0mONET_TOOLS_TECH_URL_NAME\u001b[0m \u001b[0;34m=\u001b[0m \u001b[0;34m(\u001b[0m\u001b[0;34m\"https://www.onetcenter.org/dl_files/database/db_20_1_text/Tools%20and%20Technology.txt\"\u001b[0m\u001b[0;34m,\u001b[0m \u001b[0;34m\"onet_tools_tech.csv\"\u001b[0m\u001b[0;34m)\u001b[0m\u001b[0;34m\u001b[0m\u001b[0;34m\u001b[0m\u001b[0m\n\u001b[0m\u001b[1;32m      9\u001b[0m \u001b[0mCAREERONESTOP_CERTIFICATIONS_URL_NAME\u001b[0m \u001b[0;34m=\u001b[0m \u001b[0;34m(\u001b[0m\u001b[0;34m\"https://www.careeronestop.org/TridionMultimedia/tcm24-48614_CareerOnestop_Certifications_07072020.zip\"\u001b[0m\u001b[0;34m,\u001b[0m \u001b[0;34m\"career_one_stop.zip\"\u001b[0m\u001b[0;34m)\u001b[0m\u001b[0;34m\u001b[0m\u001b[0;34m\u001b[0m\u001b[0m\n\u001b[1;32m     10\u001b[0m \u001b[0;34m\u001b[0m\u001b[0m\n",
      "\u001b[0;32m_pydevd_bundle/pydevd_cython.pyx\u001b[0m in \u001b[0;36m_pydevd_bundle.pydevd_cython.SafeCallWrapper.__call__\u001b[0;34m()\u001b[0m\n",
      "\u001b[0;32m_pydevd_bundle/pydevd_cython.pyx\u001b[0m in \u001b[0;36m_pydevd_bundle.pydevd_cython.PyDBFrame.trace_dispatch\u001b[0;34m()\u001b[0m\n",
      "\u001b[0;32m_pydevd_bundle/pydevd_cython.pyx\u001b[0m in \u001b[0;36m_pydevd_bundle.pydevd_cython.PyDBFrame.trace_dispatch\u001b[0;34m()\u001b[0m\n",
      "\u001b[0;32m_pydevd_bundle/pydevd_cython.pyx\u001b[0m in \u001b[0;36m_pydevd_bundle.pydevd_cython.PyDBFrame.trace_dispatch\u001b[0;34m()\u001b[0m\n",
      "\u001b[0;32m_pydevd_bundle/pydevd_cython.pyx\u001b[0m in \u001b[0;36m_pydevd_bundle.pydevd_cython.PyDBFrame.do_wait_suspend\u001b[0;34m()\u001b[0m\n",
      "\u001b[0;32m~/.vscode-server/extensions/ms-python.python-2020.8.103604/pythonFiles/lib/python/debugpy/_vendored/pydevd/pydevd.py\u001b[0m in \u001b[0;36mdo_wait_suspend\u001b[0;34m(self, thread, frame, event, arg, is_unhandled_exception)\u001b[0m\n\u001b[1;32m   1844\u001b[0m \u001b[0;34m\u001b[0m\u001b[0m\n\u001b[1;32m   1845\u001b[0m             \u001b[0;32mwith\u001b[0m \u001b[0mself\u001b[0m\u001b[0;34m.\u001b[0m\u001b[0m_threads_suspended_single_notification\u001b[0m\u001b[0;34m.\u001b[0m\u001b[0mnotify_thread_suspended\u001b[0m\u001b[0;34m(\u001b[0m\u001b[0mthread_id\u001b[0m\u001b[0;34m,\u001b[0m \u001b[0mstop_reason\u001b[0m\u001b[0;34m)\u001b[0m\u001b[0;34m:\u001b[0m\u001b[0;34m\u001b[0m\u001b[0;34m\u001b[0m\u001b[0m\n\u001b[0;32m-> 1846\u001b[0;31m                 \u001b[0mkeep_suspended\u001b[0m \u001b[0;34m=\u001b[0m \u001b[0mself\u001b[0m\u001b[0;34m.\u001b[0m\u001b[0m_do_wait_suspend\u001b[0m\u001b[0;34m(\u001b[0m\u001b[0mthread\u001b[0m\u001b[0;34m,\u001b[0m \u001b[0mframe\u001b[0m\u001b[0;34m,\u001b[0m \u001b[0mevent\u001b[0m\u001b[0;34m,\u001b[0m \u001b[0marg\u001b[0m\u001b[0;34m,\u001b[0m \u001b[0msuspend_type\u001b[0m\u001b[0;34m,\u001b[0m \u001b[0mfrom_this_thread\u001b[0m\u001b[0;34m,\u001b[0m \u001b[0mframes_tracker\u001b[0m\u001b[0;34m)\u001b[0m\u001b[0;34m\u001b[0m\u001b[0;34m\u001b[0m\u001b[0m\n\u001b[0m\u001b[1;32m   1847\u001b[0m \u001b[0;34m\u001b[0m\u001b[0m\n\u001b[1;32m   1848\u001b[0m         \u001b[0mframes_list\u001b[0m \u001b[0;34m=\u001b[0m \u001b[0;32mNone\u001b[0m\u001b[0;34m\u001b[0m\u001b[0;34m\u001b[0m\u001b[0m\n",
      "\u001b[0;32m~/.vscode-server/extensions/ms-python.python-2020.8.103604/pythonFiles/lib/python/debugpy/_vendored/pydevd/pydevd.py\u001b[0m in \u001b[0;36m_do_wait_suspend\u001b[0;34m(self, thread, frame, event, arg, suspend_type, from_this_thread, frames_tracker)\u001b[0m\n\u001b[1;32m   1879\u001b[0m \u001b[0;34m\u001b[0m\u001b[0m\n\u001b[1;32m   1880\u001b[0m             \u001b[0mself\u001b[0m\u001b[0;34m.\u001b[0m\u001b[0mprocess_internal_commands\u001b[0m\u001b[0;34m(\u001b[0m\u001b[0;34m)\u001b[0m\u001b[0;34m\u001b[0m\u001b[0;34m\u001b[0m\u001b[0m\n\u001b[0;32m-> 1881\u001b[0;31m             \u001b[0mtime\u001b[0m\u001b[0;34m.\u001b[0m\u001b[0msleep\u001b[0m\u001b[0;34m(\u001b[0m\u001b[0;36m0.01\u001b[0m\u001b[0;34m)\u001b[0m\u001b[0;34m\u001b[0m\u001b[0;34m\u001b[0m\u001b[0m\n\u001b[0m\u001b[1;32m   1882\u001b[0m \u001b[0;34m\u001b[0m\u001b[0m\n\u001b[1;32m   1883\u001b[0m         \u001b[0mself\u001b[0m\u001b[0;34m.\u001b[0m\u001b[0mcancel_async_evaluation\u001b[0m\u001b[0;34m(\u001b[0m\u001b[0mget_current_thread_id\u001b[0m\u001b[0;34m(\u001b[0m\u001b[0mthread\u001b[0m\u001b[0;34m)\u001b[0m\u001b[0;34m,\u001b[0m \u001b[0mstr\u001b[0m\u001b[0;34m(\u001b[0m\u001b[0mid\u001b[0m\u001b[0;34m(\u001b[0m\u001b[0mframe\u001b[0m\u001b[0;34m)\u001b[0m\u001b[0;34m)\u001b[0m\u001b[0;34m)\u001b[0m\u001b[0;34m\u001b[0m\u001b[0;34m\u001b[0m\u001b[0m\n",
      "\u001b[0;31mKeyboardInterrupt\u001b[0m: "
     ]
    }
   ],
   "source": [
    "# This should probably be put in a seperate file but the Tools and Technology of\n",
    "# ONET should basically cover every possible tool/tech and \n",
    "\n",
    "# Yeah, and then Career One Stop has a giant list of certs, occupational licenses\n",
    "# see: https://www.careeronestop.org/Developers/Data/data-downloads.aspx\n",
    "# need to stand up or use a db connector to import it, though\n",
    "ONET_TOOLS_TECH_URL_NAME = (\"https://www.onetcenter.org/dl_files/database/db_20_1_text/Tools%20and%20Technology.txt\", \"onet_tools_tech.csv\")\n",
    "CAREERONESTOP_CERTIFICATIONS_URL_NAME = (\"https://www.careeronestop.org/TridionMultimedia/tcm24-48614_CareerOnestop_Certifications_07072020.zip\", \"career_one_stop.zip\")\n",
    "\n",
    "filepath = rootpath + externalpath\n",
    "\n",
    "for dataset in (ONET_TOOLS_TECH_URL_NAME, CAREERONESTOP_CERTIFICATIONS_URL_NAME):\n",
    "    url, filename = dataset\n",
    "    print(\"running ...\", f'\\nwget -O {filepath+filename} {url}')\n",
    "    os.system(f'wget -O {filepath+filename} {url}')\n",
    "    print(\"filetype is\",  filename[-3:])\n",
    "\n",
    "    if filename[-3:] == 'zip':\n",
    "        with zipfile.ZipFile(filepath+filename,\"r\") as zip_ref:\n",
    "            zipdir = filepath+filename[:-4]\n",
    "            print(\"unzipping {} to ...\".format(filename), zipdir)\n",
    "            os.mkdir(zipdir)\n",
    "            zip_ref.extractall(zipdir)\n",
    "\n",
    "# todo: d/l giant list of acronyms off of wikipedia\n",
    "# here: https://en.wikipedia.org/wiki/Lists_of_abbreviations\n",
    "# todo: figure out a standardization/needs-standardization logic\n",
    "#       the needs logic should basically look up into abbreviations or the certification\n",
    "#           and replace, remove or annotate (like see description, place a star)"
   ]
  },
  {
   "cell_type": "code",
   "execution_count": 4,
   "metadata": {},
   "outputs": [
    {
     "output_type": "execute_result",
     "data": {
      "text/plain": "'\\nCXA-300-1I Advanced Administration for Citrix ...\\t\\nLEED AP Exam\\nAccounting Applications I/\\nCompTIA i-Net+ Certification\\n(EHR125D) Electronic Health Records Specialist\\nPatient Care Technician (PCT)\\nCELW-109-01\\n\\nA.A.Degree: Liberal Arts/Ele-Sec Educ\\n(10 months) Some Course\\nWindows2000\\n\\nElectrical/Electronic Control System & Transpo...\\nPowerPoint Level 1\\n'"
     },
     "metadata": {},
     "execution_count": 4
    }
   ],
   "source": [
    "pd.set_option('display.max_rows', None)\n",
    "\n",
    "# anomalous cases to test against\n",
    "\"\"\"\n",
    "CXA-300-1I Advanced Administration for Citrix ...\t\n",
    "LEED AP Exam\n",
    "Accounting Applications I/\n",
    "CompTIA i-Net+ Certification\n",
    "(EHR125D) Electronic Health Records Specialist\n",
    "Patient Care Technician (PCT)\n",
    "CELW-109-01\n",
    "\n",
    "A.A.Degree: Liberal Arts/Ele-Sec Educ\n",
    "(10 months) Some Course\n",
    "Windows2000\n",
    "\n",
    "Electrical/Electronic Control System & Transpo...\n",
    "PowerPoint Level 1\n",
    "\"\"\"\n",
    "# Can throw into https://regex101.com/ and cook up a regex that gets them all\n",
    "\n",
    "\n",
    "# quick notes:\n",
    "# * so everything in parathensis can be removed and, actually, is valuable abbreviation data\n",
    "# * the description is interesting, it often has some location info that isn't needed. THis might benefit from a NER type approach where we label tokens that should be removed. But that's not here nor there.\n",
    "# * trailing non-alphanumerics should be removed (like \"...tions I/\")\n",
    "# * Somethings, \"CEBC-211-01\" are too abbreviated (e.g. all caps, )\n",
    "# * I could run the abbreviation extractor on this but I'm kinda hestitant to mess \n",
    "# with another vauge program, however, it might really simplify some of this\n",
    "# * There are degree, time realated things that don't belong, \"A.A.Degree: Liberal Arts/Ele-Sec Educ\" or \"10-MOS\" (10 months), or Paralegal certificate\n",
    "# * Saw one mashed together thing, Windows2000\n",
    "\n",
    "# * loaded a giant list of certifications to ./data/external/career_one_stop, it includes canonical names, some abbreviations (and we can generate abbrevations from the canonical name)\n",
    "# * yeah that list of cert names will be useful, so it looks like typically the course name describes a single thing, we don't list multiple certifications, programs, etc. This enables me to chunk up the ... thign is there aresome liek CEWL that don't show up at all"
   ]
  },
  {
   "cell_type": "code",
   "execution_count": 5,
   "metadata": {
    "tags": []
   },
   "outputs": [
    {
     "output_type": "execute_result",
     "data": {
      "text/plain": "                                                  NAME_1  \\\n3494                     Specialized Clinical Technician   \n14560  CXA-300-1I Advanced Administration for Citrix ...   \n5535                          Accounting Applications I/   \n20964                                 Project Management   \n17769                                       LEED AP Exam   \n22724            Medical Allied Health Office Assistant    \n4720                             Word Processing Program   \n12570                         Certified Home Health Aide   \n4186             Personal Trainer National Certification   \n2270                        English as a Second Language   \n16161  Microsoft Office Visio Professional 2007: Level 1   \n4043                        CompTIA i-Net+ Certification   \n23850                           Automotive Technology II   \n23293                   User Experience Design Intensive   \n16700     (EHR125D) Electronic Health Records Specialist   \n17700             NYS 16 Hour On-The-Job Training Course   \n2174                              Gerontology Activities   \n7901                            Medical Billing & Coding   \n13522                                  Real Estate Sales   \n17735                    English as a Second Language II   \n4844                              Graphic Design Program   \n3350                                         Cosmetology   \n15460                          Water Operations Advanced   \n14962      Advanced Solar Technician - Financial Analyst   \n640               A.A.Degree: Liberal Arts/Ele-Sec Educ.   \n6649                Call Center Customer Service Level I   \n20894                                  Best Foot Forward   \n7551                                    Criminal Justice   \n11193                                 PowerPoint Level 1   \n7185                   CISCO Networking Associate (CCNA)   \n536                                Oracle & Visual Basic   \n8351                            Introduction to Flash MX   \n18679         Certified Home Health Aide Training Course   \n2266                                        Food Service   \n11961                                        CELW-109-01   \n19985                               Adult Basic Literacy   \n19748               MCITP: Enterprise Administrator 2008   \n24175  Digital Graphic Design with Project Management...   \n1056                            Dental Assistant Program   \n3643                           Medical Office Specialist   \n6293                                           LAN Admin   \n10984                      Patient Care Technician (PCT)   \n15551                      Paralegal Certificate Program   \n23367                            Patient Care Technician   \n23663                 Network Systems Administration AAS   \n12037                                        CEBC-211-01   \n21864                        Web Application Development   \n4235                                                 ESL   \n23975               Electronic Health Records Management   \n5516                 Intro. to Frontpage 2002 (CECI 416)   \n13476                    MCITP: Enterprise Administrator   \n6405                                    Network Security   \n15075                                    Film Processing   \n17729  Regulatory Affairs- Biologics, Pharmaceuticals...   \n20339                     Adobe Photoshop CS6 (CECI 625)   \n6225                     Computer and Data Entry Support   \n4574                     Visio Professional 2002 Level 2   \n2346                 AAS, Micro Comp Tech Support Option   \n21363                                    Word Processing   \n11428            Advanced Tractor Trailer & Bus Training   \n24338  OMCA Conversion Optimization Associate (vouche...   \n14980                        Massage Therapy & Body Work   \n12263                    Project Management Fundamentals   \n15168                              Network+ Prep Course    \n16485                       Child Development Specialist   \n12195         Applied Certificate in Business Management   \n17944                           Clinical Data Management   \n11784                                 Records Management   \n1087               Computerized Office Adm.-Exec. Option   \n20376                          Automotive Enginer Repair   \n12717                            Equipped for the Future   \n3919                        Computer Software Specialist   \n17754                            Solar Energy Technician   \n428                             A+ Certification Program   \n8398                       Insurance Industry Regulation   \n1675                         Bilingual Office Specialist   \n5260              MCSE2000 & Checkpoint Firewall Certif.   \n18190                              Phlebotomy Technician   \n19163             Professional Credentialed Infant Nanny   \n283                                        Oracle  8 DBA   \n6202          Life and Health Insurance Licensing Course   \n15975                                   Master Porcelain   \n14431                  Radio and Television Broadcasting   \n9642                                      Visual Basic I   \n12826                      CDL Class A (Tractor Trailer)   \n21227                Medical Assistant Part Time Program   \n21287                                 Career Development   \n9040                  Business Office Support Specialist   \n22032                     Writing Basics For Supervisors   \n24480                 Software Development Certification   \n21571            Quickbooks Certified User with MS Excel   \n21106  (10-MOS) Microsoft Office 2010 Specialist w/Ce...   \n15863            Project Management Master Certification   \n14934  MS 10135 Configuring, Managing, and Troublesho...   \n10322  Essential Preparation for High School Equivalency   \n14546                             Solar Thermal Bootcamp   \n8231   Electrical/Electronic Control System & Transpo...   \n17598                           Captivate 5 Master Class   \n13871           Criminal Justice - Paralegal Certificate   \n2714                        English as a Second Language   \n\n                                      STANDARDIZEDNAME_1  \n3494                     Specialized Clinical Technician  \n14560  CXA-300-1I Advanced Administration for Citrix ...  \n5535                          Accounting Applications I/  \n20964                                 Project Management  \n17769                                       LEED AP Exam  \n22724            Medical Allied Health Office Assistant   \n4720                             Word Processing Program  \n12570                         Certified Home Health Aide  \n4186             Personal Trainer National Certification  \n2270                        English as a Second Language  \n16161  Microsoft Office Visio Professional 2007: Level 1  \n4043                        CompTIA i-Net+ Certification  \n23850                           Automotive Technology II  \n23293                   User Experience Design Intensive  \n16700               Electronic Health Records Specialist  \n17700             NYS 16 Hour On-The-Job Training Course  \n2174                              Gerontology Activities  \n7901                            Medical Billing & Coding  \n13522                                  Real Estate Sales  \n17735                    English as a Second Language II  \n4844                              Graphic Design Program  \n3350                                         Cosmetology  \n15460                          Water Operations Advanced  \n14962      Advanced Solar Technician - Financial Analyst  \n640               A.A.Degree: Liberal Arts/Ele-Sec Educ.  \n6649                Call Center Customer Service Level I  \n20894                                  Best Foot Forward  \n7551                                    Criminal Justice  \n11193                                 PowerPoint Level 1  \n7185                         CISCO Networking Associate   \n536                                Oracle & Visual Basic  \n8351                            Introduction to Flash MX  \n18679         Certified Home Health Aide Training Course  \n2266                                        Food Service  \n11961                                        CELW-109-01  \n19985                               Adult Basic Literacy  \n19748               MCITP: Enterprise Administrator 2008  \n24175  Digital Graphic Design with Project Management...  \n1056                            Dental Assistant Program  \n3643                           Medical Office Specialist  \n6293                                           LAN Admin  \n10984                           Patient Care Technician   \n15551                      Paralegal Certificate Program  \n23367                            Patient Care Technician  \n23663                 Network Systems Administration AAS  \n12037                                        CEBC-211-01  \n21864                        Web Application Development  \n4235                                                 ESL  \n23975               Electronic Health Records Management  \n5516                           Intro. to Frontpage 2002   \n13476                    MCITP: Enterprise Administrator  \n6405                                    Network Security  \n15075                                    Film Processing  \n17729  Regulatory Affairs- Biologics, Pharmaceuticals...  \n20339                               Adobe Photoshop CS6   \n6225                     Computer and Data Entry Support  \n4574                     Visio Professional 2002 Level 2  \n2346                 AAS, Micro Comp Tech Support Option  \n21363                                    Word Processing  \n11428            Advanced Tractor Trailer & Bus Training  \n24338            OMCA Conversion Optimization Associate   \n14980                        Massage Therapy & Body Work  \n12263                    Project Management Fundamentals  \n15168                              Network+ Prep Course   \n16485                       Child Development Specialist  \n12195         Applied Certificate in Business Management  \n17944                           Clinical Data Management  \n11784                                 Records Management  \n1087               Computerized Office Adm.-Exec. Option  \n20376                          Automotive Enginer Repair  \n12717                            Equipped for the Future  \n3919                        Computer Software Specialist  \n17754                            Solar Energy Technician  \n428                             A+ Certification Program  \n8398                       Insurance Industry Regulation  \n1675                         Bilingual Office Specialist  \n5260              MCSE2000 & Checkpoint Firewall Certif.  \n18190                              Phlebotomy Technician  \n19163             Professional Credentialed Infant Nanny  \n283                                        Oracle  8 DBA  \n6202          Life and Health Insurance Licensing Course  \n15975                                   Master Porcelain  \n14431                  Radio and Television Broadcasting  \n9642                                      Visual Basic I  \n12826                                       CDL Class A   \n21227                Medical Assistant Part Time Program  \n21287                                 Career Development  \n9040                  Business Office Support Specialist  \n22032                     Writing Basics For Supervisors  \n24480                 Software Development Certification  \n21571            Quickbooks Certified User with MS Excel  \n21106   Microsoft Office 2010 Specialist w/Certificat...  \n15863            Project Management Master Certification  \n14934  MS 10135 Configuring, Managing, and Troublesho...  \n10322  Essential Preparation for High School Equivalency  \n14546                             Solar Thermal Bootcamp  \n8231   Electrical/Electronic Control System & Transpo...  \n17598                           Captivate 5 Master Class  \n13871           Criminal Justice - Paralegal Certificate  \n2714                        English as a Second Language  ",
      "text/html": "<div>\n<style scoped>\n    .dataframe tbody tr th:only-of-type {\n        vertical-align: middle;\n    }\n\n    .dataframe tbody tr th {\n        vertical-align: top;\n    }\n\n    .dataframe thead th {\n        text-align: right;\n    }\n</style>\n<table border=\"1\" class=\"dataframe\">\n  <thead>\n    <tr style=\"text-align: right;\">\n      <th></th>\n      <th>NAME_1</th>\n      <th>STANDARDIZEDNAME_1</th>\n    </tr>\n  </thead>\n  <tbody>\n    <tr>\n      <th>3494</th>\n      <td>Specialized Clinical Technician</td>\n      <td>Specialized Clinical Technician</td>\n    </tr>\n    <tr>\n      <th>14560</th>\n      <td>CXA-300-1I Advanced Administration for Citrix ...</td>\n      <td>CXA-300-1I Advanced Administration for Citrix ...</td>\n    </tr>\n    <tr>\n      <th>5535</th>\n      <td>Accounting Applications I/</td>\n      <td>Accounting Applications I/</td>\n    </tr>\n    <tr>\n      <th>20964</th>\n      <td>Project Management</td>\n      <td>Project Management</td>\n    </tr>\n    <tr>\n      <th>17769</th>\n      <td>LEED AP Exam</td>\n      <td>LEED AP Exam</td>\n    </tr>\n    <tr>\n      <th>22724</th>\n      <td>Medical Allied Health Office Assistant</td>\n      <td>Medical Allied Health Office Assistant</td>\n    </tr>\n    <tr>\n      <th>4720</th>\n      <td>Word Processing Program</td>\n      <td>Word Processing Program</td>\n    </tr>\n    <tr>\n      <th>12570</th>\n      <td>Certified Home Health Aide</td>\n      <td>Certified Home Health Aide</td>\n    </tr>\n    <tr>\n      <th>4186</th>\n      <td>Personal Trainer National Certification</td>\n      <td>Personal Trainer National Certification</td>\n    </tr>\n    <tr>\n      <th>2270</th>\n      <td>English as a Second Language</td>\n      <td>English as a Second Language</td>\n    </tr>\n    <tr>\n      <th>16161</th>\n      <td>Microsoft Office Visio Professional 2007: Level 1</td>\n      <td>Microsoft Office Visio Professional 2007: Level 1</td>\n    </tr>\n    <tr>\n      <th>4043</th>\n      <td>CompTIA i-Net+ Certification</td>\n      <td>CompTIA i-Net+ Certification</td>\n    </tr>\n    <tr>\n      <th>23850</th>\n      <td>Automotive Technology II</td>\n      <td>Automotive Technology II</td>\n    </tr>\n    <tr>\n      <th>23293</th>\n      <td>User Experience Design Intensive</td>\n      <td>User Experience Design Intensive</td>\n    </tr>\n    <tr>\n      <th>16700</th>\n      <td>(EHR125D) Electronic Health Records Specialist</td>\n      <td>Electronic Health Records Specialist</td>\n    </tr>\n    <tr>\n      <th>17700</th>\n      <td>NYS 16 Hour On-The-Job Training Course</td>\n      <td>NYS 16 Hour On-The-Job Training Course</td>\n    </tr>\n    <tr>\n      <th>2174</th>\n      <td>Gerontology Activities</td>\n      <td>Gerontology Activities</td>\n    </tr>\n    <tr>\n      <th>7901</th>\n      <td>Medical Billing &amp; Coding</td>\n      <td>Medical Billing &amp; Coding</td>\n    </tr>\n    <tr>\n      <th>13522</th>\n      <td>Real Estate Sales</td>\n      <td>Real Estate Sales</td>\n    </tr>\n    <tr>\n      <th>17735</th>\n      <td>English as a Second Language II</td>\n      <td>English as a Second Language II</td>\n    </tr>\n    <tr>\n      <th>4844</th>\n      <td>Graphic Design Program</td>\n      <td>Graphic Design Program</td>\n    </tr>\n    <tr>\n      <th>3350</th>\n      <td>Cosmetology</td>\n      <td>Cosmetology</td>\n    </tr>\n    <tr>\n      <th>15460</th>\n      <td>Water Operations Advanced</td>\n      <td>Water Operations Advanced</td>\n    </tr>\n    <tr>\n      <th>14962</th>\n      <td>Advanced Solar Technician - Financial Analyst</td>\n      <td>Advanced Solar Technician - Financial Analyst</td>\n    </tr>\n    <tr>\n      <th>640</th>\n      <td>A.A.Degree: Liberal Arts/Ele-Sec Educ.</td>\n      <td>A.A.Degree: Liberal Arts/Ele-Sec Educ.</td>\n    </tr>\n    <tr>\n      <th>6649</th>\n      <td>Call Center Customer Service Level I</td>\n      <td>Call Center Customer Service Level I</td>\n    </tr>\n    <tr>\n      <th>20894</th>\n      <td>Best Foot Forward</td>\n      <td>Best Foot Forward</td>\n    </tr>\n    <tr>\n      <th>7551</th>\n      <td>Criminal Justice</td>\n      <td>Criminal Justice</td>\n    </tr>\n    <tr>\n      <th>11193</th>\n      <td>PowerPoint Level 1</td>\n      <td>PowerPoint Level 1</td>\n    </tr>\n    <tr>\n      <th>7185</th>\n      <td>CISCO Networking Associate (CCNA)</td>\n      <td>CISCO Networking Associate</td>\n    </tr>\n    <tr>\n      <th>536</th>\n      <td>Oracle &amp; Visual Basic</td>\n      <td>Oracle &amp; Visual Basic</td>\n    </tr>\n    <tr>\n      <th>8351</th>\n      <td>Introduction to Flash MX</td>\n      <td>Introduction to Flash MX</td>\n    </tr>\n    <tr>\n      <th>18679</th>\n      <td>Certified Home Health Aide Training Course</td>\n      <td>Certified Home Health Aide Training Course</td>\n    </tr>\n    <tr>\n      <th>2266</th>\n      <td>Food Service</td>\n      <td>Food Service</td>\n    </tr>\n    <tr>\n      <th>11961</th>\n      <td>CELW-109-01</td>\n      <td>CELW-109-01</td>\n    </tr>\n    <tr>\n      <th>19985</th>\n      <td>Adult Basic Literacy</td>\n      <td>Adult Basic Literacy</td>\n    </tr>\n    <tr>\n      <th>19748</th>\n      <td>MCITP: Enterprise Administrator 2008</td>\n      <td>MCITP: Enterprise Administrator 2008</td>\n    </tr>\n    <tr>\n      <th>24175</th>\n      <td>Digital Graphic Design with Project Management...</td>\n      <td>Digital Graphic Design with Project Management...</td>\n    </tr>\n    <tr>\n      <th>1056</th>\n      <td>Dental Assistant Program</td>\n      <td>Dental Assistant Program</td>\n    </tr>\n    <tr>\n      <th>3643</th>\n      <td>Medical Office Specialist</td>\n      <td>Medical Office Specialist</td>\n    </tr>\n    <tr>\n      <th>6293</th>\n      <td>LAN Admin</td>\n      <td>LAN Admin</td>\n    </tr>\n    <tr>\n      <th>10984</th>\n      <td>Patient Care Technician (PCT)</td>\n      <td>Patient Care Technician</td>\n    </tr>\n    <tr>\n      <th>15551</th>\n      <td>Paralegal Certificate Program</td>\n      <td>Paralegal Certificate Program</td>\n    </tr>\n    <tr>\n      <th>23367</th>\n      <td>Patient Care Technician</td>\n      <td>Patient Care Technician</td>\n    </tr>\n    <tr>\n      <th>23663</th>\n      <td>Network Systems Administration AAS</td>\n      <td>Network Systems Administration AAS</td>\n    </tr>\n    <tr>\n      <th>12037</th>\n      <td>CEBC-211-01</td>\n      <td>CEBC-211-01</td>\n    </tr>\n    <tr>\n      <th>21864</th>\n      <td>Web Application Development</td>\n      <td>Web Application Development</td>\n    </tr>\n    <tr>\n      <th>4235</th>\n      <td>ESL</td>\n      <td>ESL</td>\n    </tr>\n    <tr>\n      <th>23975</th>\n      <td>Electronic Health Records Management</td>\n      <td>Electronic Health Records Management</td>\n    </tr>\n    <tr>\n      <th>5516</th>\n      <td>Intro. to Frontpage 2002 (CECI 416)</td>\n      <td>Intro. to Frontpage 2002</td>\n    </tr>\n    <tr>\n      <th>13476</th>\n      <td>MCITP: Enterprise Administrator</td>\n      <td>MCITP: Enterprise Administrator</td>\n    </tr>\n    <tr>\n      <th>6405</th>\n      <td>Network Security</td>\n      <td>Network Security</td>\n    </tr>\n    <tr>\n      <th>15075</th>\n      <td>Film Processing</td>\n      <td>Film Processing</td>\n    </tr>\n    <tr>\n      <th>17729</th>\n      <td>Regulatory Affairs- Biologics, Pharmaceuticals...</td>\n      <td>Regulatory Affairs- Biologics, Pharmaceuticals...</td>\n    </tr>\n    <tr>\n      <th>20339</th>\n      <td>Adobe Photoshop CS6 (CECI 625)</td>\n      <td>Adobe Photoshop CS6</td>\n    </tr>\n    <tr>\n      <th>6225</th>\n      <td>Computer and Data Entry Support</td>\n      <td>Computer and Data Entry Support</td>\n    </tr>\n    <tr>\n      <th>4574</th>\n      <td>Visio Professional 2002 Level 2</td>\n      <td>Visio Professional 2002 Level 2</td>\n    </tr>\n    <tr>\n      <th>2346</th>\n      <td>AAS, Micro Comp Tech Support Option</td>\n      <td>AAS, Micro Comp Tech Support Option</td>\n    </tr>\n    <tr>\n      <th>21363</th>\n      <td>Word Processing</td>\n      <td>Word Processing</td>\n    </tr>\n    <tr>\n      <th>11428</th>\n      <td>Advanced Tractor Trailer &amp; Bus Training</td>\n      <td>Advanced Tractor Trailer &amp; Bus Training</td>\n    </tr>\n    <tr>\n      <th>24338</th>\n      <td>OMCA Conversion Optimization Associate (vouche...</td>\n      <td>OMCA Conversion Optimization Associate</td>\n    </tr>\n    <tr>\n      <th>14980</th>\n      <td>Massage Therapy &amp; Body Work</td>\n      <td>Massage Therapy &amp; Body Work</td>\n    </tr>\n    <tr>\n      <th>12263</th>\n      <td>Project Management Fundamentals</td>\n      <td>Project Management Fundamentals</td>\n    </tr>\n    <tr>\n      <th>15168</th>\n      <td>Network+ Prep Course</td>\n      <td>Network+ Prep Course</td>\n    </tr>\n    <tr>\n      <th>16485</th>\n      <td>Child Development Specialist</td>\n      <td>Child Development Specialist</td>\n    </tr>\n    <tr>\n      <th>12195</th>\n      <td>Applied Certificate in Business Management</td>\n      <td>Applied Certificate in Business Management</td>\n    </tr>\n    <tr>\n      <th>17944</th>\n      <td>Clinical Data Management</td>\n      <td>Clinical Data Management</td>\n    </tr>\n    <tr>\n      <th>11784</th>\n      <td>Records Management</td>\n      <td>Records Management</td>\n    </tr>\n    <tr>\n      <th>1087</th>\n      <td>Computerized Office Adm.-Exec. Option</td>\n      <td>Computerized Office Adm.-Exec. Option</td>\n    </tr>\n    <tr>\n      <th>20376</th>\n      <td>Automotive Enginer Repair</td>\n      <td>Automotive Enginer Repair</td>\n    </tr>\n    <tr>\n      <th>12717</th>\n      <td>Equipped for the Future</td>\n      <td>Equipped for the Future</td>\n    </tr>\n    <tr>\n      <th>3919</th>\n      <td>Computer Software Specialist</td>\n      <td>Computer Software Specialist</td>\n    </tr>\n    <tr>\n      <th>17754</th>\n      <td>Solar Energy Technician</td>\n      <td>Solar Energy Technician</td>\n    </tr>\n    <tr>\n      <th>428</th>\n      <td>A+ Certification Program</td>\n      <td>A+ Certification Program</td>\n    </tr>\n    <tr>\n      <th>8398</th>\n      <td>Insurance Industry Regulation</td>\n      <td>Insurance Industry Regulation</td>\n    </tr>\n    <tr>\n      <th>1675</th>\n      <td>Bilingual Office Specialist</td>\n      <td>Bilingual Office Specialist</td>\n    </tr>\n    <tr>\n      <th>5260</th>\n      <td>MCSE2000 &amp; Checkpoint Firewall Certif.</td>\n      <td>MCSE2000 &amp; Checkpoint Firewall Certif.</td>\n    </tr>\n    <tr>\n      <th>18190</th>\n      <td>Phlebotomy Technician</td>\n      <td>Phlebotomy Technician</td>\n    </tr>\n    <tr>\n      <th>19163</th>\n      <td>Professional Credentialed Infant Nanny</td>\n      <td>Professional Credentialed Infant Nanny</td>\n    </tr>\n    <tr>\n      <th>283</th>\n      <td>Oracle  8 DBA</td>\n      <td>Oracle  8 DBA</td>\n    </tr>\n    <tr>\n      <th>6202</th>\n      <td>Life and Health Insurance Licensing Course</td>\n      <td>Life and Health Insurance Licensing Course</td>\n    </tr>\n    <tr>\n      <th>15975</th>\n      <td>Master Porcelain</td>\n      <td>Master Porcelain</td>\n    </tr>\n    <tr>\n      <th>14431</th>\n      <td>Radio and Television Broadcasting</td>\n      <td>Radio and Television Broadcasting</td>\n    </tr>\n    <tr>\n      <th>9642</th>\n      <td>Visual Basic I</td>\n      <td>Visual Basic I</td>\n    </tr>\n    <tr>\n      <th>12826</th>\n      <td>CDL Class A (Tractor Trailer)</td>\n      <td>CDL Class A</td>\n    </tr>\n    <tr>\n      <th>21227</th>\n      <td>Medical Assistant Part Time Program</td>\n      <td>Medical Assistant Part Time Program</td>\n    </tr>\n    <tr>\n      <th>21287</th>\n      <td>Career Development</td>\n      <td>Career Development</td>\n    </tr>\n    <tr>\n      <th>9040</th>\n      <td>Business Office Support Specialist</td>\n      <td>Business Office Support Specialist</td>\n    </tr>\n    <tr>\n      <th>22032</th>\n      <td>Writing Basics For Supervisors</td>\n      <td>Writing Basics For Supervisors</td>\n    </tr>\n    <tr>\n      <th>24480</th>\n      <td>Software Development Certification</td>\n      <td>Software Development Certification</td>\n    </tr>\n    <tr>\n      <th>21571</th>\n      <td>Quickbooks Certified User with MS Excel</td>\n      <td>Quickbooks Certified User with MS Excel</td>\n    </tr>\n    <tr>\n      <th>21106</th>\n      <td>(10-MOS) Microsoft Office 2010 Specialist w/Ce...</td>\n      <td>Microsoft Office 2010 Specialist w/Certificat...</td>\n    </tr>\n    <tr>\n      <th>15863</th>\n      <td>Project Management Master Certification</td>\n      <td>Project Management Master Certification</td>\n    </tr>\n    <tr>\n      <th>14934</th>\n      <td>MS 10135 Configuring, Managing, and Troublesho...</td>\n      <td>MS 10135 Configuring, Managing, and Troublesho...</td>\n    </tr>\n    <tr>\n      <th>10322</th>\n      <td>Essential Preparation for High School Equivalency</td>\n      <td>Essential Preparation for High School Equivalency</td>\n    </tr>\n    <tr>\n      <th>14546</th>\n      <td>Solar Thermal Bootcamp</td>\n      <td>Solar Thermal Bootcamp</td>\n    </tr>\n    <tr>\n      <th>8231</th>\n      <td>Electrical/Electronic Control System &amp; Transpo...</td>\n      <td>Electrical/Electronic Control System &amp; Transpo...</td>\n    </tr>\n    <tr>\n      <th>17598</th>\n      <td>Captivate 5 Master Class</td>\n      <td>Captivate 5 Master Class</td>\n    </tr>\n    <tr>\n      <th>13871</th>\n      <td>Criminal Justice - Paralegal Certificate</td>\n      <td>Criminal Justice - Paralegal Certificate</td>\n    </tr>\n    <tr>\n      <th>2714</th>\n      <td>English as a Second Language</td>\n      <td>English as a Second Language</td>\n    </tr>\n  </tbody>\n</table>\n</div>"
     },
     "metadata": {},
     "execution_count": 5
    }
   ],
   "source": [
    "# A) \n",
    "# The program or course name can start or end with a matching parenthesis. In these cases\n",
    "# we assume that no other matching parenthesis are present and apply an appropriate\n",
    "# regex for that...\n",
    "\n",
    "# First, set up standardized column with default values\n",
    "the_df[\"STANDARDIZEDNAME_1\"] = \"\"\n",
    "\n",
    "# ... then extract names for those with opening parens\n",
    "open_parenthesis_index = the_df.NAME_1.str[0] == '('\n",
    "open_parenthesis_regex = '''\n",
    "                (?P<paren>\\(.*\\)) # get the first parathesis\n",
    "                (?P<the_name>.*)  # then get the actual name\n",
    "                '''\n",
    "\n",
    "the_df.loc[open_parenthesis_index, \"STANDARDIZEDNAME_1\"] =\\\n",
    "    the_df.loc[open_parenthesis_index, 'NAME_1']\\\n",
    "          .str\\\n",
    "          .extract(open_parenthesis_regex, flags=re.VERBOSE).the_name\n",
    "\n",
    "# ... then extract names for those with closing parens\n",
    "close_parenthesis_index = the_df.NAME_1.str[-1] == ')'\n",
    "closing_parenthesis_regex = '''\n",
    "                (?P<the_name>.*)  # get the actual name\n",
    "                (?P<paren>\\(.*\\)) # get the last parathensis                \n",
    "                '''\n",
    "the_df.loc[close_parenthesis_index, \"STANDARDIZEDNAME_1\"] =\\\n",
    "    the_df.loc[close_parenthesis_index, 'NAME_1']\\\n",
    "          .str\\\n",
    "          .extract(closing_parenthesis_regex, flags=re.VERBOSE).the_name\n",
    "\n",
    "# ... then we copy over content that has a internal parenthesis with those\n",
    "# parenthesis removed and ignore everything after, e.g. \"ABC (123) DEF\" --> \"ABC\"\n",
    "internal_parenthesis_index =\\\n",
    "    the_df['NAME_1'].str.contains('\\(|\\)', regex=True) &\\\n",
    "        ~(close_parenthesis_index|open_parenthesis_index)\n",
    "\n",
    "the_df.loc[internal_parenthesis_index, \"STANDARDIZEDNAME_1\"] =\\\n",
    "    the_df.loc[internal_parenthesis_index, 'NAME_1']\\\n",
    "          .str\\\n",
    "          .extract(closing_parenthesis_regex, flags=re.VERBOSE).the_name\n",
    "\n",
    "# ... finally, just copy over everything else\n",
    "no_parenthesis_index = ~(close_parenthesis_index |\\\n",
    "                         open_parenthesis_index  |\\\n",
    "                         internal_parenthesis_index)\n",
    "the_df.loc[no_parenthesis_index, \"STANDARDIZEDNAME_1\"] =\\\n",
    "    the_df.loc[no_parenthesis_index, 'NAME_1']\n",
    "\n",
    "the_df[['NAME_1', 'STANDARDIZEDNAME_1']]\n",
    "\n",
    "# 2)\n",
    "# So now we have silver version data that has a lot of abbreviations, acroynmns\n",
    "# that need to be spelled out. We do this with bulk match and replace.\n",
    "\n",
    "# acroynmns can be done with the career one stop credentials list\n",
    "# abbreviatins are harder. Let's start on acroynmns first.\n",
    "\n",
    "# 3) \n",
    "# Then go after odd static patterns that are common \n",
    "# ... A.A., AAS,e ends-with \"/\", etc etc\n",
    "# \"Applied Certificate in...\" <--- thing is, this could really be a program\n",
    "# the_df.STANDARDIZEDNAME_1 =\\\n",
    "#     the_df.STANDARDIZEDNAME_1.str.replace(\"A.A.\",\"\", case=False)\n",
    "\n"
   ]
  },
  {
   "cell_type": "code",
   "execution_count": 18,
   "metadata": {
    "tags": []
   },
   "outputs": [
    {
     "output_type": "stream",
     "name": "stdout",
     "text": "done\n"
    }
   ],
   "source": [
    "my_string =\\\n",
    "    \"\"\"\n",
    "CREATE TABLE CERTIFICATIONS\n",
    "(\n",
    "  CERT_ID           VARCHAR2(5 BYTE) CONSTRAINT CERT_ID_NN NOT NULL,\n",
    "  CERT_NAME         VARCHAR2(200 BYTE) CONSTRAINT CERT_NAME_NN NOT NULL,\n",
    "  ORG_ID            CHAR(4 BYTE),\n",
    "  TRAINING          NUMBER(1),\n",
    "  EXPERIENCE        NUMBER(1),\n",
    "  EITHER            NUMBER(1),\n",
    "  EXAM              NUMBER(1),\n",
    "  RENEWAL           CHAR(2 BYTE),\n",
    "  CEU               NUMBER(1),\n",
    "  REEXAM            NUMBER(1),\n",
    "  CPD               NUMBER(1),\n",
    "  CERT_ANY          NUMBER(1),\n",
    "  URL               VARCHAR2(254 BYTE),\n",
    "  ACRONYM           VARCHAR2(16 BYTE),\n",
    "  NSSB_URL          VARCHAR2(254 BYTE),\n",
    "  CERT_URL          VARCHAR2(254 BYTE),\n",
    "  CERT_LAST_UPDATE  DATE,\n",
    "  KEYWORD1          VARCHAR2(64 BYTE),\n",
    "  KEYWORD2          VARCHAR2(64 BYTE),\n",
    "  KEYWORD3          VARCHAR2(64 BYTE),\n",
    "  SUPPRESS          VARCHAR2(1 BYTE),\n",
    "  DATEADDED         DATE                        DEFAULT SYSDATE,\n",
    "  COMMENTS          VARCHAR2(1000 BYTE),\n",
    "  VERIFIED          VARCHAR2(1 BYTE),\n",
    "  UPDATEDBY         VARCHAR2(2 BYTE),\n",
    "  CERT_DESCRIPTION  VARCHAR2(2000 BYTE),\n",
    "  DELETED           NUMBER(1)                   DEFAULT 0,\n",
    "  EXAM_DETAILS      VARCHAR2(2000 BYTE)\n",
    ");\n",
    "\n",
    "CREATE UNIQUE INDEX CERT_ID_PK ON CERTIFICATIONS\n",
    "(CERT_ID);\n",
    "\n",
    "ALTER TABLE CERTIFICATIONS ADD (\n",
    "  CONSTRAINT CERT_ID_PK\n",
    "  PRIMARY KEY\n",
    "  (CERT_ID)\n",
    "  USING INDEX CERT_ID_PK\n",
    "  ENABLE VALIDATE);\n",
    "\n",
    "ALTER TABLE CERTIFICATIONS ADD (\n",
    "  CONSTRAINT CERTIFICATIONS_ORG_ID_FK \n",
    "  FOREIGN KEY (ORG_ID) \n",
    "  REFERENCES CERT_ORGS (ORG_ID)\n",
    "  ENABLE VALIDATE);\n",
    "\n",
    "SET DEFINE OFF;\n",
    "Insert into CERTIFICATIONS\n",
    "   (CERT_ID, CERT_NAME, ORG_ID, TRAINING, EXPERIENCE, \n",
    "    EITHER, EXAM, RENEWAL, CEU, REEXAM, \n",
    "    CPD, CERT_ANY, URL, ACRONYM, NSSB_URL, \n",
    "    CERT_URL, CERT_LAST_UPDATE, KEYWORD1, KEYWORD2, KEYWORD3, \n",
    "    SUPPRESS, DATEADDED, COMMENTS, VERIFIED, UPDATEDBY, \n",
    "    CERT_DESCRIPTION, DELETED, EXAM_DETAILS)\n",
    " Values\n",
    "   ('10249', 'SAP Certified Technology Associate - System Administration (Max DB) with SAP NetWeaver 7.4', '0106', NULL, NULL, \n",
    "    NULL, 1, '  ', NULL, NULL, \n",
    "    NULL, NULL, 'https://training.sap.com/certification/c_tadm50_74-sap-certified-technology-associate---system-administration-max-db-with-sap-netweaver-74-g/', NULL, NULL, \n",
    "    NULL, TO_DATE('01/28/2019 00:00:00', 'MM/DD/YYYY HH24:MI:SS'), NULL, NULL, NULL, \n",
    "    '1', TO_DATE('01/21/2015 16:31:10', 'MM/DD/YYYY HH24:MI:SS'), NULL, '0', '28', \n",
    "    'This certification path will validate your capability as a well-trained technologist prepared to help your client or partner manage SAP systems based on IBM DB2 database. Armed with an understanding of SAP system administration, you can implement this knowledge for your projects as a technology consultant', 1, NULL);\n",
    "Insert into CERTIFICATIONS\n",
    "   (CERT_ID, CERT_NAME, ORG_ID, TRAINING, EXPERIENCE, \n",
    "    EITHER, EXAM, RENEWAL, CEU, REEXAM, \n",
    "    CPD, CERT_ANY, URL, ACRONYM, NSSB_URL, \n",
    "    CERT_URL, CERT_LAST_UPDATE, KEYWORD1, KEYWORD2, KEYWORD3, \n",
    "    SUPPRESS, DATEADDED, COMMENTS, VERIFIED, UPDATEDBY, \n",
    "    CERT_DESCRIPTION, DELETED, EXAM_DETAILS)\n",
    " Values\n",
    "   ('10052', 'IBM Certified BPM Developer - WebSphere Lombardi Edition V7.2', '0814', 1, 1, \n",
    "    NULL, 1, '  ', NULL, NULL, \n",
    "    NULL, NULL, 'http://www-03.ibm.com/certify/certs/15010502.shtml', NULL, NULL, \n",
    "    NULL, TO_DATE('07/06/2017 00:00:00', 'MM/DD/YYYY HH24:MI:SS'), 'Business process', NULL, NULL, \n",
    "    '1', TO_DATE('10/21/2014 10:43:08', 'MM/DD/YYYY HH24:MI:SS'), NULL, '0', '28', \n",
    "    'This intermediate level certification is intended for BPM application developers who contribute to the delivery of complex level process applications, and provide supervision and guidance to entry level developers.', 1, NULL);\n",
    "Insert into CERTIFICATIONS\n",
    "   (CERT_ID, CERT_NAME, ORG_ID, TRAINING, EXPERIENCE, \n",
    "    EITHER, EXAM, RENEWAL, CEU, REEXAM, \n",
    "    CPD, CERT_ANY, URL, ACRONYM, NSSB_URL, \n",
    "    CERT_URL, CERT_LAST_UPDATE, KEYWORD1, KEYWORD2, KEYWORD3, \n",
    "    SUPPRESS, DATEADDED, COMMENTS, VERIFIED, UPDATEDBY, \n",
    "    CERT_DESCRIPTION, DELETED, EXAM_DETAILS)\n",
    " Values\n",
    "   ('10096', 'IBM Certified Specialist - Systems Networking Sales V1', '0814', 0, 0, \n",
    "    NULL, 1, '  ', NULL, NULL, \n",
    "    NULL, NULL, 'http://www-03.ibm.com/certify/certs/57000201.shtml', NULL, NULL, \n",
    "    NULL, TO_DATE('03/20/2015 00:00:00', 'MM/DD/YYYY HH24:MI:SS'), NULL, NULL, NULL, \n",
    "    '1', TO_DATE('10/24/2014 14:24:09', 'MM/DD/YYYY HH24:MI:SS'), NULL, '0', '28', \n",
    "    'The IBM Certified Specialist - System Networking Sales V1 engages prospective customers and evaluates the IT infrastructure and understands the customer''s business environment in order to ensure the design and implementation of appropriate networking solutions. This individual performs requirements analysis, systems architecture/design, and planning/installation. Additionally, they provide ongoing support to ensure the customer is operational and that technical requirements are continually addressed.', 1, NULL);    \n",
    "    \"\"\"\n",
    "print('done')"
   ]
  },
  {
   "cell_type": "code",
   "execution_count": 31,
   "metadata": {
    "tags": []
   },
   "outputs": [
    {
     "output_type": "execute_result",
     "data": {
      "text/plain": "  CERT_ID                                          CERT_NAME ORG_ID  TRAINING  \\\n0   10249  SAP Certified Technology Associate - System Ad...   0106       NaN   \n1   10052  IBM Certified BPM Developer - WebSphere Lombar...   0814       1.0   \n2   10096  IBM Certified Specialist - Systems Networking ...   0814       0.0   \n\n   EXPERIENCE EITHER  EXAM RENEWAL   CEU REEXAM  ... KEYWORD2 KEYWORD3  \\\n0         NaN   None     1          None   None  ...     None     None   \n1         1.0   None     1          None   None  ...     None     None   \n2         0.0   None     1          None   None  ...     None     None   \n\n  SUPPRESS            DATEADDED COMMENTS VERIFIED UPDATEDBY  \\\n0        1  01/21/2015 16:31:10     None        0        28   \n1        1  10/21/2014 10:43:08     None        0        28   \n2        1  10/24/2014 14:24:09     None        0        28   \n\n                                    CERT_DESCRIPTION DELETED EXAM_DETAILS  \n0  This certification path will validate your cap...       1         None  \n1  This intermediate level certification is inten...       1         None  \n2  The IBM Certified Specialist - System Networki...       1         None  \n\n[3 rows x 28 columns]",
      "text/html": "<div>\n<style scoped>\n    .dataframe tbody tr th:only-of-type {\n        vertical-align: middle;\n    }\n\n    .dataframe tbody tr th {\n        vertical-align: top;\n    }\n\n    .dataframe thead th {\n        text-align: right;\n    }\n</style>\n<table border=\"1\" class=\"dataframe\">\n  <thead>\n    <tr style=\"text-align: right;\">\n      <th></th>\n      <th>CERT_ID</th>\n      <th>CERT_NAME</th>\n      <th>ORG_ID</th>\n      <th>TRAINING</th>\n      <th>EXPERIENCE</th>\n      <th>EITHER</th>\n      <th>EXAM</th>\n      <th>RENEWAL</th>\n      <th>CEU</th>\n      <th>REEXAM</th>\n      <th>...</th>\n      <th>KEYWORD2</th>\n      <th>KEYWORD3</th>\n      <th>SUPPRESS</th>\n      <th>DATEADDED</th>\n      <th>COMMENTS</th>\n      <th>VERIFIED</th>\n      <th>UPDATEDBY</th>\n      <th>CERT_DESCRIPTION</th>\n      <th>DELETED</th>\n      <th>EXAM_DETAILS</th>\n    </tr>\n  </thead>\n  <tbody>\n    <tr>\n      <th>0</th>\n      <td>10249</td>\n      <td>SAP Certified Technology Associate - System Ad...</td>\n      <td>0106</td>\n      <td>NaN</td>\n      <td>NaN</td>\n      <td>None</td>\n      <td>1</td>\n      <td></td>\n      <td>None</td>\n      <td>None</td>\n      <td>...</td>\n      <td>None</td>\n      <td>None</td>\n      <td>1</td>\n      <td>01/21/2015 16:31:10</td>\n      <td>None</td>\n      <td>0</td>\n      <td>28</td>\n      <td>This certification path will validate your cap...</td>\n      <td>1</td>\n      <td>None</td>\n    </tr>\n    <tr>\n      <th>1</th>\n      <td>10052</td>\n      <td>IBM Certified BPM Developer - WebSphere Lombar...</td>\n      <td>0814</td>\n      <td>1.0</td>\n      <td>1.0</td>\n      <td>None</td>\n      <td>1</td>\n      <td></td>\n      <td>None</td>\n      <td>None</td>\n      <td>...</td>\n      <td>None</td>\n      <td>None</td>\n      <td>1</td>\n      <td>10/21/2014 10:43:08</td>\n      <td>None</td>\n      <td>0</td>\n      <td>28</td>\n      <td>This intermediate level certification is inten...</td>\n      <td>1</td>\n      <td>None</td>\n    </tr>\n    <tr>\n      <th>2</th>\n      <td>10096</td>\n      <td>IBM Certified Specialist - Systems Networking ...</td>\n      <td>0814</td>\n      <td>0.0</td>\n      <td>0.0</td>\n      <td>None</td>\n      <td>1</td>\n      <td></td>\n      <td>None</td>\n      <td>None</td>\n      <td>...</td>\n      <td>None</td>\n      <td>None</td>\n      <td>1</td>\n      <td>10/24/2014 14:24:09</td>\n      <td>None</td>\n      <td>0</td>\n      <td>28</td>\n      <td>The IBM Certified Specialist - System Networki...</td>\n      <td>1</td>\n      <td>None</td>\n    </tr>\n  </tbody>\n</table>\n<p>3 rows × 28 columns</p>\n</div>"
     },
     "metadata": {},
     "execution_count": 31
    }
   ],
   "source": [
    "# Read in the acorynym list\n",
    "# credential_lookup \n",
    "path = rootpath + externalpath + 'career_one_stop/'\n",
    "credential_sql = 'TEST-2-CERTIFICATIONS.sql' # '2-CERTIFICATIONS.sql'\n",
    "\n",
    "with open(path + credential_sql) as sql:\n",
    "    my_string = sql.read()\n",
    "\n",
    "header_names =\\\n",
    "    (\n",
    "        'CERT_ID', 'CERT_NAME', 'ORG_ID', 'TRAINING', 'EXPERIENCE', \n",
    "        'EITHER', 'EXAM', 'RENEWAL', 'CEU', 'REEXAM', \n",
    "        'CPD', 'CERT_ANY', 'URL', 'ACRONYM', 'NSSB_URL', \n",
    "        'CERT_URL', 'CERT_LAST_UPDATE', 'KEYWORD1', 'KEYWORD2', 'KEYWORD3', \n",
    "        'SUPPRESS', 'DATEADDED', 'COMMENTS', 'VERIFIED', 'UPDATEDBY', \n",
    "        'CERT_DESCRIPTION', 'DELETED', 'EXAM_DETAILS'\n",
    "    )\n",
    "\n",
    "# Pandas assumes atomic python types when reading from records,\n",
    "# See: https://github.com/pandas-dev/pandas/issues/9381, so we need to use\n",
    "# Python types here\n",
    "dtypes =\\\n",
    "    np.dtype(\n",
    "        \"str, str, float, float,\"\n",
    "        \"float, float, float, str,\"\n",
    "        \"float, float, float, float,\"\n",
    "        \"str, str, str, str,\"\n",
    "        \"str, str, str, str,\"\n",
    "        \"str, str, str, str,\" \n",
    "        \"str, str, float, str\"\n",
    "    )\n",
    "\n",
    "flags = re.MULTILINE | re.DOTALL | re.VERBOSE\n",
    "the_fields_regex =\\\n",
    "    \"\"\"\n",
    "    (?P<values>Values\\n\\s+\\()  # Start with the word Value <newline> (\n",
    "        (?P<fields>.*?)        #    Grab all the field content\n",
    "    (?P<end>\\);)               # ... which stops at the terminating paren, ;\n",
    "    \"\"\"\n",
    "\n",
    "the_fields = re.compile(the_fields_regex, flags=flags)\n",
    "\n",
    "a_field_regex =\\\n",
    "    \"\"\"\n",
    "    '(?P<string>.*?)'[,)]           # get a quoted string ending at comma or paran or\n",
    "    |(?P<date_time>TO_DATE\\(.*?\\))  # get the TO_DATE, parse out actual date later or\n",
    "    |(?P<num>\\d),                   # get numeric or\n",
    "    |(?P<null>NULL)                 # get NULL\n",
    "    \"\"\"\n",
    "\n",
    "a_field = re.compile(a_field_regex, flags=flags)\n",
    "\n",
    "def yield_certification_records(sql_file=my_string, require_field_numbers=[1]):\n",
    "    # do we skip those w/o certain fields, like acronymns\n",
    "    temp_data = [0]*28\n",
    "    for match in the_fields.finditer(sql_file):\n",
    "        break_match = False\n",
    "\n",
    "        for index, field in enumerate(a_field.finditer( match.group('fields') )):\n",
    "            grp = None\n",
    "            for grp, value in field.groupdict().items():\n",
    "                if value:\n",
    "                    # then we transform the string value into the appropriate type, given the group name\n",
    "                    if grp == 'date_time':\n",
    "                        #  There is a difference between https://regex101.com/r/yphUXY/1/\n",
    "                        # and what I see Python do here; if I don't capture the entire thing\n",
    "                        # it gets re-raised as another potential match, even if I use ?:, etc.\n",
    "                        value = value[9:28] # todo: convert to datetime\n",
    "                    if grp == 'null':\n",
    "                        value = None\n",
    "                        if index in require_field_numbers:\n",
    "                            break_match = True\n",
    "\n",
    "                    if grp == 'num':\n",
    "                        value = int(value)\n",
    "\n",
    "                    temp_data[index] = value\n",
    "                    break # only one possible match value\n",
    "            if break_match: # and don't look at other fields\n",
    "                break\n",
    "\n",
    "        if not break_match:\n",
    "            yield tuple(value for value in temp_data)\n",
    "        \n",
    "        break_match = False\n",
    "\n",
    "df =\\\n",
    "    pd.DataFrame.from_records(\n",
    "        yield_certification_records(),\n",
    "        columns=header_names)\n",
    "df"
   ]
  },
  {
   "cell_type": "code",
   "execution_count": 151,
   "metadata": {
    "tags": []
   },
   "outputs": [
    {
     "output_type": "stream",
     "name": "stdout",
     "text": "f0 f1   f2  f3\n1  10249  4  3.2   5 <-- record\n[('f0', 'S5'), ('f1', 'S200'), ('f2', 'u1'), ('f3', 'u1'), ('f4', 'u1'), ('f5', 'u1'), ('f6', 'u1'), ('f7', 'S2'), ('f8', 'u1'), ('f9', 'u1'), ('f10', 'u1'), ('f11', 'u1'), ('f12', 'S254'), ('f13', 'S216'), ('f14', 'S254'), ('f15', 'S254'), ('f16', 'S25'), ('f17', 'S64'), ('f18', 'S64'), ('f19', 'S64'), ('f20', 'S1'), ('f21', 'S25'), ('f22', 'S1000'), ('f23', 'S1'), ('f24', 'S2'), ('f25', 'S2000'), ('f26', 'u1'), ('f27', 'S2000')]\n[('f0', 'O'), ('f1', '<U10'), ('f2', '<f4'), ('f3', '<i4')]\n"
    },
    {
     "output_type": "error",
     "ename": "TypeError",
     "evalue": "'numpy.dtype' object is not iterable",
     "traceback": [
      "\u001b[0;31m---------------------------------------------------------------------------\u001b[0m",
      "\u001b[0;31mTypeError\u001b[0m                                 Traceback (most recent call last)",
      "\u001b[0;32m<ipython-input-151-5ccdb80e44dd>\u001b[0m in \u001b[0;36m<module>\u001b[0;34m\u001b[0m\n\u001b[1;32m     12\u001b[0m ])\n\u001b[1;32m     13\u001b[0m \u001b[0;34m\u001b[0m\u001b[0m\n\u001b[0;32m---> 14\u001b[0;31m \u001b[0mpd\u001b[0m\u001b[0;34m.\u001b[0m\u001b[0mDataFrame\u001b[0m\u001b[0;34m.\u001b[0m\u001b[0mfrom_records\u001b[0m\u001b[0;34m(\u001b[0m\u001b[0mlist\u001b[0m\u001b[0;34m(\u001b[0m\u001b[0mdt\u001b[0m\u001b[0;34m)\u001b[0m\u001b[0;34m,\u001b[0m \u001b[0mcolumns\u001b[0m\u001b[0;34m=\u001b[0m\u001b[0mdt\u001b[0m\u001b[0;34m.\u001b[0m\u001b[0mdtype\u001b[0m\u001b[0;34m.\u001b[0m\u001b[0mnames\u001b[0m\u001b[0;34m)\u001b[0m\u001b[0;34m\u001b[0m\u001b[0;34m\u001b[0m\u001b[0m\n\u001b[0m",
      "\u001b[0;31mTypeError\u001b[0m: 'numpy.dtype' object is not iterable"
     ]
    }
   ],
   "source": [
    "#the_record = np.empty((28,), dtype = dtypes)\n",
    "dt=np.dtype('O,U10,f,i')\n",
    "the_record = np.empty((1,), dtype=dt)\n",
    "the_record[0] =tuple(e for e in ['10249',4, 3.2, 5])\n",
    "print(pd.DataFrame.from_records(the_record, index=[1]),\"<-- record\")\n",
    "print(dtypes)\n",
    "print(dt)\n",
    "\n",
    "dt_type = np.dtype([\n",
    "    ('k', 'i4'),\n",
    "    ('v', 'i4', 2)\n",
    "])\n",
    "\n",
    "pd.DataFrame.from_records(list(dt), columns=dt.dtype.names)\n"
   ]
  },
  {
   "cell_type": "code",
   "execution_count": 73,
   "metadata": {
    "tags": []
   },
   "outputs": [
    {
     "output_type": "execute_result",
     "data": {
      "text/plain": "[('CERT_ID', dtype('S5')),\n ('CERT_NAME', dtype('S200')),\n ('ORG_ID', dtype('uint8')),\n ('TRAINING', dtype('uint8')),\n ('EXPERIENCE', dtype('uint8')),\n ('EITHER', dtype('uint8')),\n ('EXAM', dtype('uint8')),\n ('RENEWAL', dtype('S2')),\n ('CEU', dtype('uint8')),\n ('REEXAM', dtype('uint8')),\n ('CPD', dtype('uint8')),\n ('CERT_ANY', dtype('uint8')),\n ('URL', dtype('S254')),\n ('ACRONYM', dtype('S216')),\n ('NSSB_URL', dtype('S254')),\n ('CERT_URL', dtype('S254')),\n ('CERT_LAST_UPDATE', <function numpy.datetime_as_string>),\n ('KEYWORD1', dtype('S64')),\n ('KEYWORD2', dtype('S64')),\n ('KEYWORD3', dtype('S64')),\n ('SUPPRESS', dtype('S1')),\n ('DATEADDED', <function numpy.datetime_as_string>),\n ('COMMENTS', dtype('S1000')),\n ('VERIFIED', dtype('S1')),\n ('UPDATEDBY', dtype('S2')),\n ('CERT_DESCRIPTION', dtype('S2000')),\n ('DELETED', dtype('uint8')),\n ('EXAM_DETAILS', dtype('S2000'))]"
     },
     "metadata": {},
     "execution_count": 73
    }
   ],
   "source": [
    "list(record_dtypes)"
   ]
  },
  {
   "cell_type": "code",
   "execution_count": null,
   "metadata": {},
   "outputs": [],
   "source": []
  },
  {
   "cell_type": "code",
   "execution_count": null,
   "metadata": {},
   "outputs": [],
   "source": [
    "#  now with the transformed data we \n",
    "# a) launch an active label checker, that looks for program/course names that are standardized or not standardized\n",
    "# b) periodically run the cell below that calcualtes the bionomial proportion of standardized to unstandardized; ideally we want 95% - 100%"
   ]
  },
  {
   "cell_type": "code",
   "execution_count": 6,
   "metadata": {},
   "outputs": [
    {
     "output_type": "display_data",
     "data": {
      "text/plain": "ClassLabeller(children=(HBox(children=(HBox(children=(FloatProgress(value=0.0, description='Progress:', max=1.…",
      "application/vnd.jupyter.widget-view+json": {
       "version_major": 2,
       "version_minor": 0,
       "model_id": "ee49f7f4c4664a47a659912addc7119e"
      }
     },
     "metadata": {}
    }
   ],
   "source": [
    "# insert active labeler here\n",
    "# this is crude but first we set up the pipeline, following\n",
    "# https://superintendent.readthedocs.io/en/latest/examples/preprocessing-data.html\n",
    "from sklearn.feature_extraction.text import CountVectorizer\n",
    "from sklearn.feature_extraction.text import TfidfTransformer\n",
    "from sklearn.naive_bayes import ComplementNB  # corrects for class imbalance, SGD is pretty good too\n",
    "from sklearn.pipeline import Pipeline\n",
    "\n",
    "from superintendent import ClassLabeller\n",
    "from IPython.display import display, Markdown\n",
    "\n",
    "pipeline = Pipeline([\n",
    "    ('vect', CountVectorizer(analyzer='char', ngram_range=(1,2))),\n",
    "    ('tfidf', TfidfTransformer()),\n",
    "    ('clf', ComplementNB()),\n",
    "])\n",
    "\n",
    "def display_func(row):\n",
    "    \"\"\"\n",
    "    The display function gets passed your data - in the\n",
    "    case of a dataframe, it gets passed a row - and then\n",
    "    has to \"display\" your data in whatever way you want.\n",
    "\n",
    "    It doesn't need to return anything\n",
    "    \"\"\"\n",
    "    display(Markdown(row[\"STANDARDIZEDNAME_1\"]))\n",
    "    #display(Markdown(\"**At:** \" + row[\"timestamp\"]))\n",
    "\n",
    "def preprocessor(x, y):\n",
    "    # only take standardized column, leave everything else\n",
    "    return x[\"STANDARDIZEDNAME_1\"], y\n",
    "\n",
    "labelling_widget = ClassLabeller(\n",
    "    features=the_df,\n",
    "    model=pipeline,\n",
    "    model_preprocess=preprocessor,\n",
    "    display_func=display_func,\n",
    "    options=['standardized', 'not standardized'],\n",
    "    acquisition_function='margin'\n",
    ")\n",
    "\n",
    "labelling_widget"
   ]
  },
  {
   "cell_type": "code",
   "execution_count": 26,
   "metadata": {
    "tags": []
   },
   "outputs": [
    {
     "output_type": "stream",
     "name": "stdout",
     "text": "jeffreys bionomial proportion is: [0.88, 0.88]\n"
    }
   ],
   "source": [
    "# insert bionomial proprtion esimator here\n",
    "\n",
    "def print_CI(labels, response_is_standardized = \"standardized\", method = \"jeffreys\"):\n",
    "    successful_count = sum(\n",
    "        response_is_standardized == label for label in labels\n",
    "    )\n",
    "    not_examined_count = sum(\n",
    "        None == label for label in labels\n",
    "    )\n",
    "\n",
    "    CI = proportion_confint(\n",
    "            count= successful_count,\n",
    "            nobs= len(labels) - not_examined_count,\n",
    "            alpha = 0.95,\n",
    "            method=method\n",
    "        )\n",
    "    print(f\"{method} bionomial proportion is: [{CI[0]:.2f}, {CI[1]:.2f}]\",\n",
    ")\n",
    "print_CI(labels=labelling_widget.new_labels)"
   ]
  },
  {
   "cell_type": "code",
   "execution_count": 142,
   "metadata": {},
   "outputs": [],
   "source": [
    "# ... finally we can write this out as our first complete lookup table\n",
    "# for the NAME field\n",
    "the_df.to_csv(rootpath + processedpath + \"{}\".format(content_is),\n",
    "              index = False,\n",
    "              chunksize = 10000,\n",
    "              columns=columns_to_save)"
   ]
  }
 ],
 "metadata": {
  "language_info": {
   "codemirror_mode": {
    "name": "ipython",
    "version": 3
   },
   "file_extension": ".py",
   "mimetype": "text/x-python",
   "name": "python",
   "nbconvert_exporter": "python",
   "pygments_lexer": "ipython3",
   "version": "3.7.2-final"
  },
  "orig_nbformat": 2,
  "kernelspec": {
   "name": "python37264bitd4adstandardizationpipenvcac7d9f4a0864f29b6353caf0213501a",
   "display_name": "Python 3.7.2 64-bit ('d4ad_standardization': pipenv)"
  }
 },
 "nbformat": 4,
 "nbformat_minor": 2
}