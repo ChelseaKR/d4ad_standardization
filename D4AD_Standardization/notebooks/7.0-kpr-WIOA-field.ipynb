{
 "cells": [
  {
   "cell_type": "code",
   "execution_count": 3,
   "metadata": {
    "tags": []
   },
   "outputs": [
    {
     "output_type": "stream",
     "name": "stdout",
     "text": "done\n"
    }
   ],
   "source": [
    "# Importing the libraries \n",
    "import pandas as pd\n",
    "import numpy as np\n",
    "import random\n",
    "import pickle\n",
    "import re\n",
    "import regex  # for better, more capbale regex api\n",
    "import os\n",
    "import zipfile\n",
    "import more_itertools\n",
    "from itertools import chain\n",
    "import datetime\n",
    "import time\n",
    "from statsmodels.stats.proportion import proportion_confint\n",
    "# active labeler related\n",
    "from sklearn.feature_extraction.text import CountVectorizer\n",
    "from sklearn.feature_extraction.text import TfidfTransformer\n",
    "from sklearn.naive_bayes import ComplementNB  # corrects for class imbalance, SGD is pretty good too\n",
    "from sklearn.pipeline import Pipeline\n",
    "from superintendent import ClassLabeller\n",
    "from IPython.display import display, Markdown\n",
    "\n",
    "pd.set_option('display.max_colwidth', None)  # so we can peak at data and spot verify\n",
    "\n",
    "pipeline = Pipeline([\n",
    "    ('vect', CountVectorizer(analyzer='char', ngram_range=(1,2))),\n",
    "    \n",
    "    ('tfidf', TfidfTransformer()),\n",
    "    ('clf', ComplementNB()),\n",
    "])\n",
    "print('done')"
   ]
  },
  {
   "cell_type": "code",
   "execution_count": 4,
   "metadata": {
    "tags": []
   },
   "outputs": [
    {
     "output_type": "stream",
     "name": "stdout",
     "text": "done\n"
    }
   ],
   "source": [
    "# Set up columns to keep, fields, locations for writing\n",
    "rootpath = \"/hdd/work/d4ad_standardization/\"\n",
    "processedpath = \"D4AD_Standardization/data/processed/\"\n",
    "externalpath = \"D4AD_Standardization/data/external/\"\n",
    "interimpath = \"D4AD_Standardization/data/interim/\"\n",
    "\n",
    "content_is = \"standardized_descriptions_and_degree_funding_type\"\n",
    "\n",
    "print('done')"
   ]
  },
  {
   "cell_type": "code",
   "execution_count": 5,
   "metadata": {
    "tags": []
   },
   "outputs": [
    {
     "output_type": "stream",
     "name": "stdout",
     "text": "done2\n"
    }
   ],
   "source": [
    "\n",
    "filepath = content_is + \".csv\" # builds off of notebook 6.0 work\n",
    "\n",
    "SKIP_THIS = True # helps me be able to run all and not worry about pulling things\n",
    "# I already know I have on disk\n",
    "\n",
    "df = pd.read_csv(rootpath + interimpath + filepath)\n",
    "print('done2')"
   ]
  },
  {
   "cell_type": "code",
   "execution_count": 6,
   "metadata": {},
   "outputs": [],
   "source": [
    "pd.set_option('display.max_rows', False)\n",
    "\n",
    "the_df = df #df.sample(n=10000, random_state=42)"
   ]
  },
  {
   "cell_type": "code",
   "execution_count": 18,
   "metadata": {
    "tags": []
   },
   "outputs": [
    {
     "output_type": "stream",
     "name": "stdout",
     "text": "\n    ((\\w+\\W+){0,8}        # first 8 or so words before\n     (?P<job_search>job[\\.].*?search|assist[\\w\\\\.].*?employ\\w*) # help w/ job search\n     (\\W+\\w+){0,8})       # and last 8 or so word after\n    \n"
    },
    {
     "output_type": "execute_result",
     "data": {
      "text/plain": "                                                                 internet use and safety. Skills necessary to use job search engines and to apply for and track employment   \n3587  0                                                                                                                                                                                                                Four week job search and job readiness assistance means the act of   \n5992  0                                                                                                                                                                 spend another three hours per day on individual job search.   Classes will focus on enhancing students job skills   \n6025  0                                                                                                                                                                                                                Four week job search and job readiness assistance means the act of   \n7463  0                                                                                                                                                                                                 Structured job search and post-job search Work First New Jersey core and non-core   \n9800  0                                                                                                                                                              and evaluation.\\nIndividual and/or group sessions on job search, resume writing and interviewing skills.\\nJVS is non   \n9998  0                                                                                                                                                                     service and an office simulation experience.  During the Job Search phase, students learn how to get and keep   \n      1                                                                        a job while preparing applications, resumes, cover and thank you letters.  Interviewing strategies will be covered as students begin supported job search where obtaining full-time employment is the goal   \n...                                                                                                                                                                                                                                                                                   ...   \n19534 0                                                                                                                             Skill Training, Adult Mentoring, Leadership Development, Occupational Training, Job Search Skill Training and Job Development and Supportive Services   \n20566 0                                                                                      personal and professional development, lab study/application time, job simlulation/internship, getting and keeping a job, and job search skills.  Students have the opportunity to earn nine   \n20600 0                                                                                                                                                              assist the participants with the development of basic job search techniques and acquisition of soft skills needed to   \n      1      and secure employment. The Program will going to job interview and coaching will concentrate on common barriers to employment, such as work readiness/social adjustment skills, transportation problems, job search, and maintenance skills. Our computer labs are connected   \n      2                          Internet to enable clients to access America¿s Job Bank, WNPIN, etc.  The Program will deliver forty hours of programming over a four-week period, including computer literacy instruction, job search and readiness training, and life skills workshops   \n21178 0                                                                                                                                                                                                  students for certification exams.\\n\\nPractical assistance provided in job search   \n21235 0                                                                                                                           on Call, LLC will provide a 4-week job readiness training which explores career development, educational exploration, life skills and employment search   \n23043 0                                                                                                                                comfortable setting.  Testing determines the level of instruction. Job search assistance and information about secondary and occupational training   \n23304 0                                                                                         personal and professional development, lab study/application time, job simulation/internship, getting and keeping a job, and job search skills.  Students have the opportunity to earn up   \n\n                         1  \\\n      match                  \n589   0             time,    \n2743  0               use    \n3587  0              week    \n5992  0        individual    \n6025  0              week    \n7463  0              post-   \n9800  0                on    \n9998  0               the    \n      1                 a    \n...                    ...   \n19534 0         Training,    \n20566 0             time,    \n20600 0             basic    \n      1                to    \n      2                 s    \n21178 0                in    \n21235 0              week    \n23043 0      instruction.    \n23304 0             time,    \n\n                                                                                                                                                                     job_search  \\\n      match                                                                                                                                                                       \n589   0                                                                                                                                                              job search   \n2743  0                                                                                                                                                              job search   \n3587  0                                                                                                                                                              job search   \n5992  0                                                                                                                                                              job search   \n6025  0                                                                                                                                                              job search   \n7463  0                                                                                                                                                              job search   \n9800  0                                                                                                                                                              job search   \n9998  0                                                                                                                                                              Job Search   \n      1                 job while preparing applications, resumes, cover and thank you letters.  Interviewing strategies will be covered as students begin supported job search   \n...                                                                                                                                                                         ...   \n19534 0                                                                                                                                                              Job Search   \n20566 0                                                                                                   job simlulation/internship, getting and keeping a job, and job search   \n20600 0                                                                                                                                                              job search   \n      1      job interview and coaching will concentrate on common barriers to employment, such as work readiness/social adjustment skills, transportation problems, job search   \n      2                 Job Bank, WNPIN, etc.  The Program will deliver forty hours of programming over a four-week period, including computer literacy instruction, job search   \n21178 0                                                                                                                                                              job search   \n21235 0                                                    job readiness training which explores career development, educational exploration, life skills and employment search   \n23043 0                                                                                                                                                              Job search   \n23304 0                                                                                                    job simulation/internship, getting and keeping a job, and job search   \n\n                       3  \n      match               \n589   0               up  \n2743  0       employment  \n3587  0               of  \n5992  0           skills  \n6025  0               of  \n7463  0            -core  \n9800  0              non  \n9998  0             keep  \n      1             goal  \n...                  ...  \n19534 0         Services  \n20566 0             nine  \n20600 0               to  \n      1        connected  \n      2        workshops  \n21178 0              NaN  \n21235 0              NaN  \n23043 0         training  \n23304 0               up  \n\n[33 rows x 4 columns]",
      "text/html": "<div>\n<style scoped>\n    .dataframe tbody tr th:only-of-type {\n        vertical-align: middle;\n    }\n\n    .dataframe tbody tr th {\n        vertical-align: top;\n    }\n\n    .dataframe thead th {\n        text-align: right;\n    }\n</style>\n<table border=\"1\" class=\"dataframe\">\n  <thead>\n    <tr style=\"text-align: right;\">\n      <th></th>\n      <th></th>\n      <th>0</th>\n      <th>1</th>\n      <th>job_search</th>\n      <th>3</th>\n    </tr>\n    <tr>\n      <th></th>\n      <th>match</th>\n      <th></th>\n      <th></th>\n      <th></th>\n      <th></th>\n    </tr>\n  </thead>\n  <tbody>\n    <tr>\n      <th>589</th>\n      <th>0</th>\n      <td>personal and professional development, lab study/application time, job search skills. Students have the opportunity to earn up</td>\n      <td>time,</td>\n      <td>job search</td>\n      <td>up</td>\n    </tr>\n    <tr>\n      <th>2743</th>\n      <th>0</th>\n      <td>internet use and safety. Skills necessary to use job search engines and to apply for and track employment</td>\n      <td>use</td>\n      <td>job search</td>\n      <td>employment</td>\n    </tr>\n    <tr>\n      <th>3587</th>\n      <th>0</th>\n      <td>Four week job search and job readiness assistance means the act of</td>\n      <td>week</td>\n      <td>job search</td>\n      <td>of</td>\n    </tr>\n    <tr>\n      <th>5992</th>\n      <th>0</th>\n      <td>spend another three hours per day on individual job search.   Classes will focus on enhancing students job skills</td>\n      <td>individual</td>\n      <td>job search</td>\n      <td>skills</td>\n    </tr>\n    <tr>\n      <th>6025</th>\n      <th>0</th>\n      <td>Four week job search and job readiness assistance means the act of</td>\n      <td>week</td>\n      <td>job search</td>\n      <td>of</td>\n    </tr>\n    <tr>\n      <th>7463</th>\n      <th>0</th>\n      <td>Structured job search and post-job search Work First New Jersey core and non-core</td>\n      <td>post-</td>\n      <td>job search</td>\n      <td>-core</td>\n    </tr>\n    <tr>\n      <th>9800</th>\n      <th>0</th>\n      <td>and evaluation.\\nIndividual and/or group sessions on job search, resume writing and interviewing skills.\\nJVS is non</td>\n      <td>on</td>\n      <td>job search</td>\n      <td>non</td>\n    </tr>\n    <tr>\n      <th rowspan=\"2\" valign=\"top\">9998</th>\n      <th>0</th>\n      <td>service and an office simulation experience.  During the Job Search phase, students learn how to get and keep</td>\n      <td>the</td>\n      <td>Job Search</td>\n      <td>keep</td>\n    </tr>\n    <tr>\n      <th>1</th>\n      <td>a job while preparing applications, resumes, cover and thank you letters.  Interviewing strategies will be covered as students begin supported job search where obtaining full-time employment is the goal</td>\n      <td>a</td>\n      <td>job while preparing applications, resumes, cover and thank you letters.  Interviewing strategies will be covered as students begin supported job search</td>\n      <td>goal</td>\n    </tr>\n    <tr>\n      <th>...</th>\n      <th>...</th>\n      <td>...</td>\n      <td>...</td>\n      <td>...</td>\n      <td>...</td>\n    </tr>\n    <tr>\n      <th>19534</th>\n      <th>0</th>\n      <td>Skill Training, Adult Mentoring, Leadership Development, Occupational Training, Job Search Skill Training and Job Development and Supportive Services</td>\n      <td>Training,</td>\n      <td>Job Search</td>\n      <td>Services</td>\n    </tr>\n    <tr>\n      <th>20566</th>\n      <th>0</th>\n      <td>personal and professional development, lab study/application time, job simlulation/internship, getting and keeping a job, and job search skills.  Students have the opportunity to earn nine</td>\n      <td>time,</td>\n      <td>job simlulation/internship, getting and keeping a job, and job search</td>\n      <td>nine</td>\n    </tr>\n    <tr>\n      <th rowspan=\"3\" valign=\"top\">20600</th>\n      <th>0</th>\n      <td>assist the participants with the development of basic job search techniques and acquisition of soft skills needed to</td>\n      <td>basic</td>\n      <td>job search</td>\n      <td>to</td>\n    </tr>\n    <tr>\n      <th>1</th>\n      <td>and secure employment. The Program will going to job interview and coaching will concentrate on common barriers to employment, such as work readiness/social adjustment skills, transportation problems, job search, and maintenance skills. Our computer labs are connected</td>\n      <td>to</td>\n      <td>job interview and coaching will concentrate on common barriers to employment, such as work readiness/social adjustment skills, transportation problems, job search</td>\n      <td>connected</td>\n    </tr>\n    <tr>\n      <th>2</th>\n      <td>Internet to enable clients to access America¿s Job Bank, WNPIN, etc.  The Program will deliver forty hours of programming over a four-week period, including computer literacy instruction, job search and readiness training, and life skills workshops</td>\n      <td>s</td>\n      <td>Job Bank, WNPIN, etc.  The Program will deliver forty hours of programming over a four-week period, including computer literacy instruction, job search</td>\n      <td>workshops</td>\n    </tr>\n    <tr>\n      <th>21178</th>\n      <th>0</th>\n      <td>students for certification exams.\\n\\nPractical assistance provided in job search</td>\n      <td>in</td>\n      <td>job search</td>\n      <td>NaN</td>\n    </tr>\n    <tr>\n      <th>21235</th>\n      <th>0</th>\n      <td>on Call, LLC will provide a 4-week job readiness training which explores career development, educational exploration, life skills and employment search</td>\n      <td>week</td>\n      <td>job readiness training which explores career development, educational exploration, life skills and employment search</td>\n      <td>NaN</td>\n    </tr>\n    <tr>\n      <th>23043</th>\n      <th>0</th>\n      <td>comfortable setting.  Testing determines the level of instruction. Job search assistance and information about secondary and occupational training</td>\n      <td>instruction.</td>\n      <td>Job search</td>\n      <td>training</td>\n    </tr>\n    <tr>\n      <th>23304</th>\n      <th>0</th>\n      <td>personal and professional development, lab study/application time, job simulation/internship, getting and keeping a job, and job search skills.  Students have the opportunity to earn up</td>\n      <td>time,</td>\n      <td>job simulation/internship, getting and keeping a job, and job search</td>\n      <td>up</td>\n    </tr>\n  </tbody>\n</table>\n<p>33 rows × 4 columns</p>\n</div>"
     },
     "metadata": {},
     "execution_count": 18
    }
   ],
   "source": [
    "training_context_regex =\\\n",
    "    \"\"\"\n",
    "    (job[\\s\\b.].*?search                # job search, mentioned in an order\n",
    "     |assist[\\w\\s\\b\\.].*?employ         # or assitance gaining employment\n",
    "     |employ[\\w\\s\\b\\.].*?assist)        # or employment assistance :)\n",
    "    \"\"\"\n",
    "\n",
    "\n",
    "training_context_regex =\\\n",
    "    \"\"\"\n",
    "    ((\\w+\\W+){0,8}        # first 8 or so words before\n",
    "     (?P<job_search>job[\\s\\b.].*?search|assist[\\w\\s\\b\\.].*?employ\\w*?\\b) # help w/ job search\n",
    "     (\\W+\\w+){0,8})       # and last 8 or so word after\n",
    "    \"\"\"\n",
    "\n",
    "wioa_indices = the_df['IS_WIOA'] == True\n",
    "the_df['minimum_six_months_search'] =\\\n",
    "    False\n",
    "the_df.loc[wioa_indices, 'minimum_six_months_search'] =\\\n",
    "    True\n",
    "\n",
    "# Extract any possible nearby time, date information and see if\n",
    "# numbers, units of time are mentioned (e.g. four months)\n",
    "print(training_context_regex)\n",
    "job_search_length_mention =\\\n",
    "    the_df.loc[wioa_indices, 'DESCRIPTION']\\\n",
    "          .str\\\n",
    "          .extractall(pat=training_context_regex, flags=re.I|re.VERBOSE)\n",
    "\n",
    "the_df['additional_search_mention'] =\\\n",
    "    None\n",
    "\n",
    "job_search_length_mention # wow there's only 33 mentions in all 24k rows\n",
    "# this might have been a waste of time?"
   ]
  },
  {
   "cell_type": "code",
   "execution_count": null,
   "metadata": {},
   "outputs": [],
   "source": []
  },
  {
   "cell_type": "code",
   "execution_count": 18,
   "metadata": {
    "tags": []
   },
   "outputs": [
    {
     "output_type": "stream",
     "name": "stdout",
     "text": "We're writing ... Index(['IS_WOIA', 'Mentioned_Certificate', 'Mentioned_Associates',\n       'STANDARDIZED_DESCRIPTION', 'STANDARDIZED_FEATURESDESCRIPTION',\n       'CLEANED_STANDARDIZED_NAME_1', 'STANDARDIZEDNAME', 'STANDARDIZEDNAME_1',\n       'DESCRIPTION', 'FEATURESDESCRIPTION', 'NAME_1', 'NAME'],\n      dtype='object')\ndone\n"
    }
   ],
   "source": [
    "# 4)\n",
    "# Now we write out the verfiied results\n",
    "# ... finally we can write this out as our first complete lookup table\n",
    "# for the NAME field\n",
    "write_out = draft_output\n",
    "\n",
    "print(\n",
    "    \"We're writing ...\",\n",
    "    write_out.columns\n",
    ")\n",
    "\n",
    "content_is = \"with_job_search_durations\"\n",
    "\n",
    "# shuffe the rows to better remove temporal baises\n",
    "write_out =\\\n",
    "    write_out.sample(frac=1, random_state=42, axis=0).reset_index(drop=True)\n",
    "\n",
    "write_out.to_csv(rootpath + interimpath + content_is + \".csv\",\n",
    "                index = False,\n",
    "                chunksize = 10000)\n",
    "\n",
    "write_out.to_excel(rootpath + processedpath + content_is + \".xls\",\n",
    "            sheet_name=\"Standardized Descriptions\",\n",
    "            index=False)\n",
    "print('done')"
   ]
  }
 ],
 "metadata": {
  "language_info": {
   "codemirror_mode": {
    "name": "ipython",
    "version": 3
   },
   "file_extension": ".py",
   "mimetype": "text/x-python",
   "name": "python",
   "nbconvert_exporter": "python",
   "pygments_lexer": "ipython3",
   "version": "3.7.2-final"
  },
  "orig_nbformat": 2,
  "kernelspec": {
   "name": "python37264bitd4adstandardizationpipenvcac7d9f4a0864f29b6353caf0213501a",
   "display_name": "Python 3.7.2 64-bit ('d4ad_standardization': pipenv)"
  }
 },
 "nbformat": 4,
 "nbformat_minor": 2
}