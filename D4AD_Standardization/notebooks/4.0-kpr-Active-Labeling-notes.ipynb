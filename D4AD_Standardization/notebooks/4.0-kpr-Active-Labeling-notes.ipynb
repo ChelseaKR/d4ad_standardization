{
 "cells": [
  {
   "cell_type": "markdown",
   "metadata": {},
   "source": [
    "### Active labeling\n",
    "\n",
    "Here I'm going to document, lightly, my approach to getting active labeling stood up. The D4AD case, with ongoing variation in abbreviation usage, skills, tools, prereqs, is a good case for active labeling where the number of classes grows and robustness \"guarantees\" are desired.\n",
    "\n",
    "This captures a first approach. I suspect, for the backend, the best approach is to incorporate Vowpal Wabbit with Superintendent, within a Python notebook and captured in a simple docker-compose file that includes model reloading and saving. That's a bit.\n",
    "\n",
    "Given the time constraints I will try only Superintendent and save out labeled cases to disk as a lookup table. The models will be saved, handled manually.\n"
   ]
  },
  {
   "cell_type": "markdown",
   "metadata": {},
   "source": [
    "Superintendent needs: \n",
    "\n",
    "`jupyter nbextension enable --py --sys-prefix ipyeventsjupyter nbextension enable --py --sys-prefix ipyevents`\n",
    "\n",
    "for keybindings (not sure how this is going to work in my visual code window). This is needed for every labelling run.\n",
    "\n",
    "I think it also needs a database but wecan use the defualt SQL that it launches for now.\n",
    "See this for distributed labeling, using docker-compose, See: https://superintendent.readthedocs.io/en/latest/examples/docker-compose/index.html"
   ]
  },
  {
   "cell_type": "code",
   "execution_count": 4,
   "metadata": {},
   "outputs": [
    {
     "output_type": "display_data",
     "data": {
      "text/plain": "ClassLabeller(children=(HBox(children=(FloatProgress(value=0.0, description='Progress:', max=1.0),)), Box(chil…",
      "application/vnd.jupyter.widget-view+json": {
       "version_major": 2,
       "version_minor": 0,
       "model_id": "b6d97dc93d2c43e09b1cb955fe0d242d"
      }
     },
     "metadata": {}
    }
   ],
   "source": [
    "from superintendent import ClassLabeller\n",
    "\n",
    "widget = ClassLabeller(\n",
    "    features=[\n",
    "        \"First datapoint\",\n",
    "        \"Second datapoint\",\n",
    "        \"Third datapoint\",\n",
    "    ],\n",
    "    options=[\n",
    "        \"First option\",\n",
    "        \"Second option\",\n",
    "    ]\n",
    ")\n",
    "widget\n",
    "\n",
    "# I think i need to be in the juypter notebook to see this"
   ]
  },
  {
   "cell_type": "code",
   "execution_count": 5,
   "metadata": {},
   "outputs": [
    {
     "output_type": "execute_result",
     "data": {
      "text/plain": "['Second option', 'First option', 'Second option']"
     },
     "metadata": {},
     "execution_count": 5
    }
   ],
   "source": [
    "widget.new_labels"
   ]
  },
  {
   "cell_type": "code",
   "execution_count": 7,
   "metadata": {},
   "outputs": [
    {
     "output_type": "display_data",
     "data": {
      "text/plain": "ClassLabeller(children=(HBox(children=(HBox(children=(FloatProgress(value=0.0, description='Progress:', max=1.…",
      "application/vnd.jupyter.widget-view+json": {
       "version_major": 2,
       "version_minor": 0,
       "model_id": "6ea99ec3246e4e27b1e43fe01ae5c3b0"
      }
     },
     "metadata": {}
    }
   ],
   "source": [
    "# let's try the stock example from https://superintendent.readthedocs.io/en/latest/examples/labelling-images-actively.html\n",
    "\n",
    "from sklearn.linear_model import LogisticRegression\n",
    "from sklearn.datasets import load_digits\n",
    "from superintendent import ClassLabeller\n",
    "\n",
    "digits = load_digits()\n",
    "\n",
    "data_labeller = ClassLabeller.from_images(\n",
    "    canvas_size=(200, 200),\n",
    "    features=digits.data[:500, :],\n",
    "    model=LogisticRegression(solver=\"lbfgs\", multi_class=\"multinomial\", max_iter=5000),\n",
    "    options=range(10),\n",
    "    acquisition_function='entropy',\n",
    "    display_preprocess=lambda x: x.reshape(8, 8)\n",
    ")\n",
    "\n",
    "data_labeller"
   ]
  },
  {
   "cell_type": "markdown",
   "metadata": {},
   "source": [
    "Okay so the labeller works in that it does what it says and it does capture data. The score went up a bit and then dropped quite a bit as labeling continued but, also, the examples began to get crazy ambigious.\n",
    "\n",
    "Even in the Juypter notebook the hotkeys didn't work when I tried them, although I might have done it for thie visual code environment instead of the Juypter server environment. Either way it would probably work in teh docker-compose environment."
   ]
  },
  {
   "cell_type": "code",
   "execution_count": 15,
   "metadata": {},
   "outputs": [],
   "source": [
    "import pandas as pd \n",
    "\n",
    "# Do a quick test run on prereqs\n",
    "rootpath = \"/hdd/work/d4ad_standardization/\"\n",
    "interimpath = \"D4AD_Standardization/data/interim/\"\n",
    "filepath = \"0_prereqs.csv\"\n",
    "\n",
    "df = pd.read_csv(rootpath+interimpath+filepath)"
   ]
  },
  {
   "cell_type": "code",
   "execution_count": 31,
   "metadata": {},
   "outputs": [],
   "source": [
    "small_df = df.sample(n=100, random_state=42)\n",
    "small_df.dropna(subset=[\"content\"], inplace=True) # there are NA/NaN floats in the data"
   ]
  },
  {
   "cell_type": "code",
   "execution_count": 32,
   "metadata": {},
   "outputs": [],
   "source": [
    "# this is crude but first we set up the pipeline, following\n",
    "# https://superintendent.readthedocs.io/en/latest/examples/preprocessing-data.html\n",
    "import pandas as pd\n",
    "from sklearn.linear_model import LogisticRegression\n",
    "from sklearn.naive_bayes import MultinomialNB\n",
    "from sklearn.linear_model import SGDClassifier\n",
    "from sklearn.pipeline import Pipeline\n",
    "from sklearn.feature_extraction.text import CountVectorizer\n",
    "from sklearn.feature_extraction.text import TfidfTransformer\n",
    "from superintendent import ClassLabeller\n",
    "from IPython.display import display, Markdown\n",
    "\n",
    "pipeline = Pipeline([\n",
    "    ('vect', CountVectorizer(analyzer='char', ngram_range=(1,2))),\n",
    "    ('tfidf', TfidfTransformer()),\n",
    "    ('clf', SGDClassifier()),\n",
    "])\n"
   ]
  },
  {
   "cell_type": "code",
   "execution_count": 34,
   "metadata": {},
   "outputs": [
    {
     "output_type": "display_data",
     "data": {
      "text/plain": "ClassLabeller(children=(HBox(children=(HBox(children=(FloatProgress(value=0.0, description='Progress:', max=1.…",
      "application/vnd.jupyter.widget-view+json": {
       "version_major": 2,
       "version_minor": 0,
       "model_id": "d55b86b73b3d41f5acb2d3a96d80876a"
      }
     },
     "metadata": {}
    }
   ],
   "source": [
    "# ... Then we set up a preprocessor for text display for the model\n",
    "# ... and a display function so we know\n",
    "# ... and let the transformation be in the pipeline\n",
    "\n",
    "def display_func(row):\n",
    "    \"\"\"\n",
    "    The display function gets passed your data - in the\n",
    "    case of a dataframe, it gets passed a row - and then\n",
    "    has to \"display\" your data in whatever way you want.\n",
    "\n",
    "    It doesn't need to return anything\n",
    "    \"\"\"\n",
    "    display(Markdown(row[\"content\"]))\n",
    "    #display(Markdown(\"**At:** \" + row[\"timestamp\"]))\n",
    "\n",
    "def preprocessor(x, y):\n",
    "    # only take Email column, leave everything else\n",
    "    return x[\"content\"], y\n",
    "\n",
    "\n",
    "labelling_widget = ClassLabeller(\n",
    "    features=small_df,\n",
    "    model=pipeline,\n",
    "    model_preprocess=preprocessor,\n",
    "    display_func=display_func,\n",
    "    options=['professional', 'not professional'],\n",
    "    acquisition_function='margin'\n",
    ")\n",
    "\n",
    "labelling_widget"
   ]
  },
  {
   "cell_type": "code",
   "execution_count": 38,
   "metadata": {},
   "outputs": [
    {
     "output_type": "execute_result",
     "data": {
      "text/plain": "['not professional',\n 'professional',\n 'not professional',\n 'professional',\n 'not professional',\n 'not professional',\n 'not professional',\n 'not professional',\n 'not professional',\n 'not professional',\n 'not professional',\n 'not professional',\n 'not professional',\n 'not professional',\n 'not professional',\n 'not professional',\n 'not professional',\n 'not professional',\n 'not professional',\n 'not professional',\n None,\n 'not professional',\n 'not professional',\n 'not professional',\n 'professional',\n 'professional',\n 'professional',\n 'professional',\n 'professional',\n 'GED',\n 'Writing',\n 'High School',\n None,\n 'Driving',\n 'High School',\n 'Ability to Benefit',\n 'GED',\n None,\n 'GED',\n None,\n None,\n 'Middle School',\n 'High School',\n 'Vaccinate',\n 'GED',\n 'Some College',\n 'None',\n 'Adult age',\n 'None',\n 'Familar with mathematics',\n 'None',\n 'High School',\n 'High School',\n 'Familar with mathematics',\n 'GED',\n None,\n 'High School',\n 'GED',\n 'GED',\n 'GED',\n 'Submit.',\n 'High School',\n 'GED',\n 'Submit.',\n 'High School',\n 'Submit.',\n 'None',\n None,\n 'None',\n 'Submit.',\n 'Submit.',\n 'Submit.',\n 'Vocational License',\n 'Some College',\n None,\n 'Submit.',\n 'High School',\n 'Submit.',\n 'High School',\n 'High School',\n 'None',\n 'GED',\n 'Adult age',\n 'High School',\n 'GED',\n 'Adult age',\n 'High School',\n 'High School',\n 'High School',\n 'None',\n None,\n 'No healthcare background',\n None,\n 'None']"
     },
     "metadata": {},
     "execution_count": 38
    }
   ],
   "source": [
    "labelling_widget.new_labels"
   ]
  }
 ],
 "metadata": {
  "language_info": {
   "codemirror_mode": {
    "name": "ipython",
    "version": 3
   },
   "file_extension": ".py",
   "mimetype": "text/x-python",
   "name": "python",
   "nbconvert_exporter": "python",
   "pygments_lexer": "ipython3",
   "version": "3.7.2-final"
  },
  "orig_nbformat": 2,
  "kernelspec": {
   "name": "python37264bitd4adstandardizationpipenvcac7d9f4a0864f29b6353caf0213501a",
   "display_name": "Python 3.7.2 64-bit ('d4ad_standardization': pipenv)"
  }
 },
 "nbformat": 4,
 "nbformat_minor": 2
}