{
 "cells": [
  {
   "cell_type": "code",
   "execution_count": 1,
   "metadata": {},
   "outputs": [],
   "source": [
    "# Importing the libraries \n",
    "import pandas as pd"
   ]
  },
  {
   "cell_type": "code",
   "execution_count": 2,
   "metadata": {
    "tags": []
   },
   "outputs": [
    {
     "output_type": "stream",
     "name": "stdout",
     "text": "done\n"
    }
   ],
   "source": [
    "rootpath = \"/hdd/work/d4ad_standardization/\"\n",
    "filepath = \"./D4AD_Standardization/data/raw/etpl_all_programsJune3.xls\"\n",
    "\n",
    "columns = [\n",
    "    \"NAME\",\n",
    "    \"NAME_1\",\n",
    "    \"DESCRIPTION\",\n",
    "    \"PREREQUISITES\",\n",
    "    \"FEATURESDESCRIPTION\",\n",
    "    \"STREET1\",\n",
    "    \"CITY\",\n",
    "    \"STATE\",\n",
    "    \"ZIP\",\n",
    "    \"WEBSITE\",\n",
    "    \"COUNTY\",\n",
    "    \"NONGOVAPPROVAL\",\n",
    "    \"STATECOMMENTS\",\n",
    "    \"CIPCODE\",\n",
    "    \"PROVIDERID\",\n",
    "    \"APPROVINGAGENCYID\"\n",
    "]\n",
    "\n",
    "df = pd.read_excel(rootpath + filepath, usecols=columns)\n",
    "print('done')"
   ]
  },
  {
   "cell_type": "code",
   "execution_count": 81,
   "metadata": {
    "tags": []
   },
   "outputs": [
    {
     "output_type": "stream",
     "name": "stdout",
     "text": "done\n"
    }
   ],
   "source": [
    "processedpath = \"./D4AD_Standardization/data/processed/\"\n",
    "\n",
    "content_is = \"NAME_lookup.csv\"\n",
    "\n",
    "the_df = df # df.sample(n=100, random_state=42)\n",
    "\n",
    "columns_to_save = ['STANDARDIZED_NAME', 'NAME', 'PROVIDERID',\n",
    "           'APPROVINGAGENCYID', 'CIPCODE']\n",
    "\n",
    "\"\"\"\n",
    "# regex from start of string up to and excluding first dash character\n",
    "regex_pattern = r'\\A([^-]+)\\s?'\n",
    "\n",
    "the_df['STANDARDIZED_NAME'] =\\\n",
    "    the_df.NAME.str.extract(pat=regex_pattern)\n",
    "the_df['STANDARDIZED_NAME'] =\\\n",
    "    the_df['STANDARDIZED_NAME'].str.rstrip() # can't easily get that trailing space out from regex\n",
    "\"\"\"\n",
    "\n",
    "the_df['STANDARDIZED_NAME'] =\\\n",
    "    the_df.NAME.str.split(\" - \", n=1)[0]\n",
    "\n",
    "\n",
    "# So the regex r'\\A([^-]+)\\s? almost completely works but\n",
    "# fails in cases of ABC-DEF - NJ and it is more straightforward\n",
    "# to split on \" - \" and get take the first result.\n",
    "\n",
    "\n",
    "\n",
    "# copy over null matches\n",
    "index = the_df.STANDARDIZED_NAME.isna()\n",
    "the_df[index].STANDARDIZED_NAME = the_df[index].NAME\n",
    "\"\"\"\n",
    "the_df.to_csv(rootpath + processedpath + \"{}\".format(content_is),\n",
    "              index = False,\n",
    "              chunksize = 10000,\n",
    "              columns=columns_to_save)\n",
    "              \"\"\"\n",
    "print('done')"
   ]
  },
  {
   "cell_type": "code",
   "execution_count": 126,
   "metadata": {
    "tags": []
   },
   "outputs": [
    {
     "output_type": "execute_result",
     "data": {
      "text/plain": "                                        STANDARDIZEDNAME  \\\n21169                           County College of Morris   \n18582       Sullivan and Cogliano Training Centers, Inc.   \n21                        Geo-Tech PC & Electronic Inst.   \n10344                               NetCom Learning, Inc   \n4039                                    Campus Education   \n18497                                Alliance Plus, Inc.   \n10381                       Bluedata International, Inc.   \n17398  NJIT Division of Continuing Professional Educa...   \n2421                     EAI Consulting & Training, Inc.   \n8322                         Lincoln Technical Institute   \n4874                         Compucom Computer Institute   \n3799                    Amtech Computer Training Centers   \n24113                   Raritan Valley Community College   \n653                 Human Resource Development Institute   \n236                             Building An Empire, Inc.   \n17599                              Camden County College   \n16707                         Master Driving School Inc.   \n24320                   First Class Home Health Care,Inc   \n18894                               Union County College   \n14539                               Ocean County College   \n21182                   Raritan Valley Community College   \n10909                                    Omega Institute   \n9692          UMDNJ-School of Health Related Professions   \n6042                                NetCom Learning, Inc   \n12801                Lehigh Career & Technical Institute   \n21127                         New Jersey City University   \n20592                                Workforce Advantage   \n20649                     Fairleigh Dickinson University   \n5502                            KeySkills Learning, Inc.   \n9603                   Superior Tractor Trailer Training   \n17659                     Wizard of Paws Grooming School   \n18860                    Mercer County Community College   \n4258                    Amtech Computer Training Centers   \n3760                               Camden County College   \n15004                                        CleanEdison   \n11742      New Horizons of Central and Northern NJ, Inc.   \n16023                              Camden County College   \n12994  Rutgers Center for Continuing Professional Dev...   \n6059                 Netcom Information Technology, Inc.   \n6312                              Katherine Gibbs School   \n17335                          LTC Career Training, Inc.   \n15241                               Bar PC Training, LLC   \n20159                               Ocean County College   \n17013           American Health and Technology Institute   \n5475                         Ace Institute of Technology   \n12652                      Northampton Community College   \n9683                     Atlantic Cape Community College   \n23712                         Network Learning Institute   \n14240          Burlington County Institute of Technology   \n22642                               Dara's Test Provider   \n10222                    Hudson County Community College   \n11967                               Ocean County College   \n17936                                  The Career Center   \n7890                          Eagles View Aviation, Inc.   \n4516       New Horizons of Central and Northern NJ, Inc.   \n1887      Literacy New Jersey, Middlesex County Programs   \n11809                                            Rutgers   \n14549                                   Eastwick College   \n13775                                         ACECS Inc.   \n17935  International Communication Solutions T/A Work...   \n12006                               Ocean County College   \n902                             Bergen Community College   \n6016                                NetCom Learning, Inc   \n1049       Cumberland County Technical Education Center    \n3940   Passaic County Community College Continuing Ed...   \n19683       Samuel Morris Career Institute of New Jersey   \n16609  William Paterson University, School of Continu...   \n22928  Passaic County Community College Continuing Ed...   \n2424                    Raritan Valley Community College   \n8958                                    Berkeley College   \n16438                                        ACECS, Inc.   \n7301                                 Bloomfield College    \n3253                       SAM Consulting Services, Inc.   \n15710                        Brookdale Community College   \n351                      Bergen County Technical Schools   \n20848                      SAM Consulting Services, Inc.   \n4092                   Crossroads Career Institute, Inc.   \n8468                     Sussex County Community College   \n13533  Medical Construction Industrial Training Cente...   \n12640          First Occupational Center of New Jersey     \n10902  Rutgers Center for Continuing Professional Dev...   \n11564                        Lincoln Technical Institute   \n18118                        Future Media Concepts, Inc.   \n1269                            Bergen Community College   \n17058  NJIT Division of Continuing Professional Educa...   \n15313                                    Pace University   \n17731                                Star Career Academy   \n15261                    Mercer County Community College   \n20308                        American School of Business   \n3876                               Camden County College   \n15162             National Security Training & Placement   \n22275                      Ideal Institute of Technology   \n16514                    Mercer County Community College   \n3816                             Target Training Center    \n6786           Metropolitan Resurrection Learning Center   \n23436  William Paterson University, School of Continu...   \n20653                                Stockton University   \n22274                                   Berkeley College   \n2990           Ocean County Vocational Technical Schools   \n11124                           Express Driving Academy    \n\n                                                    NAME  \n21169                           County College of Morris  \n18582  Sullivan and Cogliano Training Centers, Inc. -...  \n21                        Geo-Tech PC & Electronic Inst.  \n10344                               NetCom Learning, Inc  \n4039                Campus Education - Jersey City - PCS  \n18497                          Alliance Plus, Inc. - PVS  \n10381                       Bluedata International, Inc.  \n17398  NJIT Division of Continuing Professional Educa...  \n2421                     EAI Consulting & Training, Inc.  \n8322          Lincoln Technical Institute - Iselin - PVS  \n4874                         Compucom Computer Institute  \n3799    Amtech Computer Training Centers - New Brunswick  \n24113      Raritan Valley Community College - Non Credit  \n653                 Human Resource Development Institute  \n236                             Building An Empire, Inc.  \n17599      Camden County College - Continuing Education   \n16707      Master Driving School Inc. - East Rutherford   \n24320                   First Class Home Health Care,Inc  \n18894  Union County College - Adult & Continuing ED./...  \n14539  Ocean County College - Continuing & Profession...  \n21182      Raritan Valley Community College - Non Credit  \n10909                                    Omega Institute  \n9692          UMDNJ-School of Health Related Professions  \n6042                                NetCom Learning, Inc  \n12801                Lehigh Career & Technical Institute  \n21127                         New Jersey City University  \n20592               Workforce Advantage - Paterson - PCS  \n20649  Fairleigh Dickinson University- Metropolitan C...  \n5502            KeySkills Learning, Inc. - Clifton - PVS  \n9603     Superior Tractor Trailer Training - Perth Amboy  \n17659               Wizard of Paws Grooming School - PVS  \n18860  Mercer County Community College - Certificate ...  \n4258    Amtech Computer Training Centers - New Brunswick  \n3760           Camden County College - Academic Programs  \n15004                                        CleanEdison  \n11742  New Horizons of Central and Northern NJ, Inc.-...  \n16023      Camden County College - Continuing Education   \n12994  Rutgers Center for Continuing Professional Dev...  \n6059   Netcom Information Technology, Inc. - Queens C...  \n6312   Katherine Gibbs School - Continuing Education ...  \n17335          LTC Career Training, Inc. - Neptune - PCS  \n15241                         Bar PC Training, LLC - PCS  \n20159  Ocean County College - Continuing & Profession...  \n17013  American Health and Technology Institute - Ise...  \n5475   Ace Institute of Technology - Forest Hills Loc...  \n12652                      Northampton Community College  \n9683                     Atlantic Cape Community College  \n23712                   Network Learning Institute - PCS  \n14240  Burlington County Institute of Technology - Ad...  \n22642                               Dara's Test Provider  \n10222                    Hudson County Community College  \n11967  Ocean County College - Continuing & Profession...  \n17936                                  The Career Center  \n7890                          Eagles View Aviation, Inc.  \n4516   New Horizons of Central and Northern NJ, Inc.-...  \n1887      Literacy New Jersey, Middlesex County Programs  \n11809                Rutgers - Div of Cont Ed & Outreach  \n14549                          Eastwick College - Ramsey  \n13775                                         ACECS Inc.  \n17935  International Communication Solutions T/A Work...  \n12006  Ocean County College - Continuing & Profession...  \n902    Bergen Community College - Ciarco Learning Center  \n6016                                NetCom Learning, Inc  \n1049       Cumberland County Technical Education Center   \n3940   Passaic County Community College Continuing Ed...  \n19683  Samuel Morris Career Institute of New Jersey -...  \n16609  William Paterson University, School of Continu...  \n22928  Passaic County Community College Continuing Ed...  \n2424       Raritan Valley Community College - Non Credit  \n8958                       Berkeley College - Woodbridge  \n16438                                  ACECS, Inc. - PCS  \n7301                                 Bloomfield College   \n3253                       SAM Consulting Services, Inc.  \n15710    Brookdale Community College - Academic Division  \n351    Bergen County Technical Schools - Hackensack- ...  \n20848                      SAM Consulting Services, Inc.  \n4092                   Crossroads Career Institute, Inc.  \n8468                     Sussex County Community College  \n13533  Medical Construction Industrial Training Cente...  \n12640  First Occupational Center of New Jersey (Orange)   \n10902  Rutgers Center for Continuing Professional Dev...  \n11564         Lincoln Technical Institute - Iselin - PVS  \n18118                        Future Media Concepts, Inc.  \n1269   Bergen Community College - Continuing Educatio...  \n17058  NJIT Division of Continuing Professional Educa...  \n15313                                    Pace University  \n17731                 Star Career Academy - Newark - PVS  \n15261  Mercer County Community College - Certificate ...  \n20308            American School of Business - Fairfield  \n3876           Camden County College - Academic Programs  \n15162             National Security Training & Placement  \n22275                Ideal Institute of Technology - PCS  \n16514  Mercer County Community College - Certificate ...  \n3816   Target Training Center  - Jersey City/Hudson C...  \n6786      Metropolitan Resurrection Learning Center - TP  \n23436  William Paterson University, School of Continu...  \n20653                                Stockton University  \n22274                      Berkeley College - Woodbridge  \n2990   Ocean County Vocational Technical Schools - To...  \n11124                     Express Driving Academy CLOSED  ",
      "text/html": "<div>\n<style scoped>\n    .dataframe tbody tr th:only-of-type {\n        vertical-align: middle;\n    }\n\n    .dataframe tbody tr th {\n        vertical-align: top;\n    }\n\n    .dataframe thead th {\n        text-align: right;\n    }\n</style>\n<table border=\"1\" class=\"dataframe\">\n  <thead>\n    <tr style=\"text-align: right;\">\n      <th></th>\n      <th>STANDARDIZEDNAME</th>\n      <th>NAME</th>\n    </tr>\n  </thead>\n  <tbody>\n    <tr>\n      <th>21169</th>\n      <td>County College of Morris</td>\n      <td>County College of Morris</td>\n    </tr>\n    <tr>\n      <th>18582</th>\n      <td>Sullivan and Cogliano Training Centers, Inc.</td>\n      <td>Sullivan and Cogliano Training Centers, Inc. -...</td>\n    </tr>\n    <tr>\n      <th>21</th>\n      <td>Geo-Tech PC &amp; Electronic Inst.</td>\n      <td>Geo-Tech PC &amp; Electronic Inst.</td>\n    </tr>\n    <tr>\n      <th>10344</th>\n      <td>NetCom Learning, Inc</td>\n      <td>NetCom Learning, Inc</td>\n    </tr>\n    <tr>\n      <th>4039</th>\n      <td>Campus Education</td>\n      <td>Campus Education - Jersey City - PCS</td>\n    </tr>\n    <tr>\n      <th>18497</th>\n      <td>Alliance Plus, Inc.</td>\n      <td>Alliance Plus, Inc. - PVS</td>\n    </tr>\n    <tr>\n      <th>10381</th>\n      <td>Bluedata International, Inc.</td>\n      <td>Bluedata International, Inc.</td>\n    </tr>\n    <tr>\n      <th>17398</th>\n      <td>NJIT Division of Continuing Professional Educa...</td>\n      <td>NJIT Division of Continuing Professional Educa...</td>\n    </tr>\n    <tr>\n      <th>2421</th>\n      <td>EAI Consulting &amp; Training, Inc.</td>\n      <td>EAI Consulting &amp; Training, Inc.</td>\n    </tr>\n    <tr>\n      <th>8322</th>\n      <td>Lincoln Technical Institute</td>\n      <td>Lincoln Technical Institute - Iselin - PVS</td>\n    </tr>\n    <tr>\n      <th>4874</th>\n      <td>Compucom Computer Institute</td>\n      <td>Compucom Computer Institute</td>\n    </tr>\n    <tr>\n      <th>3799</th>\n      <td>Amtech Computer Training Centers</td>\n      <td>Amtech Computer Training Centers - New Brunswick</td>\n    </tr>\n    <tr>\n      <th>24113</th>\n      <td>Raritan Valley Community College</td>\n      <td>Raritan Valley Community College - Non Credit</td>\n    </tr>\n    <tr>\n      <th>653</th>\n      <td>Human Resource Development Institute</td>\n      <td>Human Resource Development Institute</td>\n    </tr>\n    <tr>\n      <th>236</th>\n      <td>Building An Empire, Inc.</td>\n      <td>Building An Empire, Inc.</td>\n    </tr>\n    <tr>\n      <th>17599</th>\n      <td>Camden County College</td>\n      <td>Camden County College - Continuing Education</td>\n    </tr>\n    <tr>\n      <th>16707</th>\n      <td>Master Driving School Inc.</td>\n      <td>Master Driving School Inc. - East Rutherford</td>\n    </tr>\n    <tr>\n      <th>24320</th>\n      <td>First Class Home Health Care,Inc</td>\n      <td>First Class Home Health Care,Inc</td>\n    </tr>\n    <tr>\n      <th>18894</th>\n      <td>Union County College</td>\n      <td>Union County College - Adult &amp; Continuing ED./...</td>\n    </tr>\n    <tr>\n      <th>14539</th>\n      <td>Ocean County College</td>\n      <td>Ocean County College - Continuing &amp; Profession...</td>\n    </tr>\n    <tr>\n      <th>21182</th>\n      <td>Raritan Valley Community College</td>\n      <td>Raritan Valley Community College - Non Credit</td>\n    </tr>\n    <tr>\n      <th>10909</th>\n      <td>Omega Institute</td>\n      <td>Omega Institute</td>\n    </tr>\n    <tr>\n      <th>9692</th>\n      <td>UMDNJ-School of Health Related Professions</td>\n      <td>UMDNJ-School of Health Related Professions</td>\n    </tr>\n    <tr>\n      <th>6042</th>\n      <td>NetCom Learning, Inc</td>\n      <td>NetCom Learning, Inc</td>\n    </tr>\n    <tr>\n      <th>12801</th>\n      <td>Lehigh Career &amp; Technical Institute</td>\n      <td>Lehigh Career &amp; Technical Institute</td>\n    </tr>\n    <tr>\n      <th>21127</th>\n      <td>New Jersey City University</td>\n      <td>New Jersey City University</td>\n    </tr>\n    <tr>\n      <th>20592</th>\n      <td>Workforce Advantage</td>\n      <td>Workforce Advantage - Paterson - PCS</td>\n    </tr>\n    <tr>\n      <th>20649</th>\n      <td>Fairleigh Dickinson University</td>\n      <td>Fairleigh Dickinson University- Metropolitan C...</td>\n    </tr>\n    <tr>\n      <th>5502</th>\n      <td>KeySkills Learning, Inc.</td>\n      <td>KeySkills Learning, Inc. - Clifton - PVS</td>\n    </tr>\n    <tr>\n      <th>9603</th>\n      <td>Superior Tractor Trailer Training</td>\n      <td>Superior Tractor Trailer Training - Perth Amboy</td>\n    </tr>\n    <tr>\n      <th>17659</th>\n      <td>Wizard of Paws Grooming School</td>\n      <td>Wizard of Paws Grooming School - PVS</td>\n    </tr>\n    <tr>\n      <th>18860</th>\n      <td>Mercer County Community College</td>\n      <td>Mercer County Community College - Certificate ...</td>\n    </tr>\n    <tr>\n      <th>4258</th>\n      <td>Amtech Computer Training Centers</td>\n      <td>Amtech Computer Training Centers - New Brunswick</td>\n    </tr>\n    <tr>\n      <th>3760</th>\n      <td>Camden County College</td>\n      <td>Camden County College - Academic Programs</td>\n    </tr>\n    <tr>\n      <th>15004</th>\n      <td>CleanEdison</td>\n      <td>CleanEdison</td>\n    </tr>\n    <tr>\n      <th>11742</th>\n      <td>New Horizons of Central and Northern NJ, Inc.</td>\n      <td>New Horizons of Central and Northern NJ, Inc.-...</td>\n    </tr>\n    <tr>\n      <th>16023</th>\n      <td>Camden County College</td>\n      <td>Camden County College - Continuing Education</td>\n    </tr>\n    <tr>\n      <th>12994</th>\n      <td>Rutgers Center for Continuing Professional Dev...</td>\n      <td>Rutgers Center for Continuing Professional Dev...</td>\n    </tr>\n    <tr>\n      <th>6059</th>\n      <td>Netcom Information Technology, Inc.</td>\n      <td>Netcom Information Technology, Inc. - Queens C...</td>\n    </tr>\n    <tr>\n      <th>6312</th>\n      <td>Katherine Gibbs School</td>\n      <td>Katherine Gibbs School - Continuing Education ...</td>\n    </tr>\n    <tr>\n      <th>17335</th>\n      <td>LTC Career Training, Inc.</td>\n      <td>LTC Career Training, Inc. - Neptune - PCS</td>\n    </tr>\n    <tr>\n      <th>15241</th>\n      <td>Bar PC Training, LLC</td>\n      <td>Bar PC Training, LLC - PCS</td>\n    </tr>\n    <tr>\n      <th>20159</th>\n      <td>Ocean County College</td>\n      <td>Ocean County College - Continuing &amp; Profession...</td>\n    </tr>\n    <tr>\n      <th>17013</th>\n      <td>American Health and Technology Institute</td>\n      <td>American Health and Technology Institute - Ise...</td>\n    </tr>\n    <tr>\n      <th>5475</th>\n      <td>Ace Institute of Technology</td>\n      <td>Ace Institute of Technology - Forest Hills Loc...</td>\n    </tr>\n    <tr>\n      <th>12652</th>\n      <td>Northampton Community College</td>\n      <td>Northampton Community College</td>\n    </tr>\n    <tr>\n      <th>9683</th>\n      <td>Atlantic Cape Community College</td>\n      <td>Atlantic Cape Community College</td>\n    </tr>\n    <tr>\n      <th>23712</th>\n      <td>Network Learning Institute</td>\n      <td>Network Learning Institute - PCS</td>\n    </tr>\n    <tr>\n      <th>14240</th>\n      <td>Burlington County Institute of Technology</td>\n      <td>Burlington County Institute of Technology - Ad...</td>\n    </tr>\n    <tr>\n      <th>22642</th>\n      <td>Dara's Test Provider</td>\n      <td>Dara's Test Provider</td>\n    </tr>\n    <tr>\n      <th>10222</th>\n      <td>Hudson County Community College</td>\n      <td>Hudson County Community College</td>\n    </tr>\n    <tr>\n      <th>11967</th>\n      <td>Ocean County College</td>\n      <td>Ocean County College - Continuing &amp; Profession...</td>\n    </tr>\n    <tr>\n      <th>17936</th>\n      <td>The Career Center</td>\n      <td>The Career Center</td>\n    </tr>\n    <tr>\n      <th>7890</th>\n      <td>Eagles View Aviation, Inc.</td>\n      <td>Eagles View Aviation, Inc.</td>\n    </tr>\n    <tr>\n      <th>4516</th>\n      <td>New Horizons of Central and Northern NJ, Inc.</td>\n      <td>New Horizons of Central and Northern NJ, Inc.-...</td>\n    </tr>\n    <tr>\n      <th>1887</th>\n      <td>Literacy New Jersey, Middlesex County Programs</td>\n      <td>Literacy New Jersey, Middlesex County Programs</td>\n    </tr>\n    <tr>\n      <th>11809</th>\n      <td>Rutgers</td>\n      <td>Rutgers - Div of Cont Ed &amp; Outreach</td>\n    </tr>\n    <tr>\n      <th>14549</th>\n      <td>Eastwick College</td>\n      <td>Eastwick College - Ramsey</td>\n    </tr>\n    <tr>\n      <th>13775</th>\n      <td>ACECS Inc.</td>\n      <td>ACECS Inc.</td>\n    </tr>\n    <tr>\n      <th>17935</th>\n      <td>International Communication Solutions T/A Work...</td>\n      <td>International Communication Solutions T/A Work...</td>\n    </tr>\n    <tr>\n      <th>12006</th>\n      <td>Ocean County College</td>\n      <td>Ocean County College - Continuing &amp; Profession...</td>\n    </tr>\n    <tr>\n      <th>902</th>\n      <td>Bergen Community College</td>\n      <td>Bergen Community College - Ciarco Learning Center</td>\n    </tr>\n    <tr>\n      <th>6016</th>\n      <td>NetCom Learning, Inc</td>\n      <td>NetCom Learning, Inc</td>\n    </tr>\n    <tr>\n      <th>1049</th>\n      <td>Cumberland County Technical Education Center</td>\n      <td>Cumberland County Technical Education Center</td>\n    </tr>\n    <tr>\n      <th>3940</th>\n      <td>Passaic County Community College Continuing Ed...</td>\n      <td>Passaic County Community College Continuing Ed...</td>\n    </tr>\n    <tr>\n      <th>19683</th>\n      <td>Samuel Morris Career Institute of New Jersey</td>\n      <td>Samuel Morris Career Institute of New Jersey -...</td>\n    </tr>\n    <tr>\n      <th>16609</th>\n      <td>William Paterson University, School of Continu...</td>\n      <td>William Paterson University, School of Continu...</td>\n    </tr>\n    <tr>\n      <th>22928</th>\n      <td>Passaic County Community College Continuing Ed...</td>\n      <td>Passaic County Community College Continuing Ed...</td>\n    </tr>\n    <tr>\n      <th>2424</th>\n      <td>Raritan Valley Community College</td>\n      <td>Raritan Valley Community College - Non Credit</td>\n    </tr>\n    <tr>\n      <th>8958</th>\n      <td>Berkeley College</td>\n      <td>Berkeley College - Woodbridge</td>\n    </tr>\n    <tr>\n      <th>16438</th>\n      <td>ACECS, Inc.</td>\n      <td>ACECS, Inc. - PCS</td>\n    </tr>\n    <tr>\n      <th>7301</th>\n      <td>Bloomfield College</td>\n      <td>Bloomfield College</td>\n    </tr>\n    <tr>\n      <th>3253</th>\n      <td>SAM Consulting Services, Inc.</td>\n      <td>SAM Consulting Services, Inc.</td>\n    </tr>\n    <tr>\n      <th>15710</th>\n      <td>Brookdale Community College</td>\n      <td>Brookdale Community College - Academic Division</td>\n    </tr>\n    <tr>\n      <th>351</th>\n      <td>Bergen County Technical Schools</td>\n      <td>Bergen County Technical Schools - Hackensack- ...</td>\n    </tr>\n    <tr>\n      <th>20848</th>\n      <td>SAM Consulting Services, Inc.</td>\n      <td>SAM Consulting Services, Inc.</td>\n    </tr>\n    <tr>\n      <th>4092</th>\n      <td>Crossroads Career Institute, Inc.</td>\n      <td>Crossroads Career Institute, Inc.</td>\n    </tr>\n    <tr>\n      <th>8468</th>\n      <td>Sussex County Community College</td>\n      <td>Sussex County Community College</td>\n    </tr>\n    <tr>\n      <th>13533</th>\n      <td>Medical Construction Industrial Training Cente...</td>\n      <td>Medical Construction Industrial Training Cente...</td>\n    </tr>\n    <tr>\n      <th>12640</th>\n      <td>First Occupational Center of New Jersey</td>\n      <td>First Occupational Center of New Jersey (Orange)</td>\n    </tr>\n    <tr>\n      <th>10902</th>\n      <td>Rutgers Center for Continuing Professional Dev...</td>\n      <td>Rutgers Center for Continuing Professional Dev...</td>\n    </tr>\n    <tr>\n      <th>11564</th>\n      <td>Lincoln Technical Institute</td>\n      <td>Lincoln Technical Institute - Iselin - PVS</td>\n    </tr>\n    <tr>\n      <th>18118</th>\n      <td>Future Media Concepts, Inc.</td>\n      <td>Future Media Concepts, Inc.</td>\n    </tr>\n    <tr>\n      <th>1269</th>\n      <td>Bergen Community College</td>\n      <td>Bergen Community College - Continuing Educatio...</td>\n    </tr>\n    <tr>\n      <th>17058</th>\n      <td>NJIT Division of Continuing Professional Educa...</td>\n      <td>NJIT Division of Continuing Professional Educa...</td>\n    </tr>\n    <tr>\n      <th>15313</th>\n      <td>Pace University</td>\n      <td>Pace University</td>\n    </tr>\n    <tr>\n      <th>17731</th>\n      <td>Star Career Academy</td>\n      <td>Star Career Academy - Newark - PVS</td>\n    </tr>\n    <tr>\n      <th>15261</th>\n      <td>Mercer County Community College</td>\n      <td>Mercer County Community College - Certificate ...</td>\n    </tr>\n    <tr>\n      <th>20308</th>\n      <td>American School of Business</td>\n      <td>American School of Business - Fairfield</td>\n    </tr>\n    <tr>\n      <th>3876</th>\n      <td>Camden County College</td>\n      <td>Camden County College - Academic Programs</td>\n    </tr>\n    <tr>\n      <th>15162</th>\n      <td>National Security Training &amp; Placement</td>\n      <td>National Security Training &amp; Placement</td>\n    </tr>\n    <tr>\n      <th>22275</th>\n      <td>Ideal Institute of Technology</td>\n      <td>Ideal Institute of Technology - PCS</td>\n    </tr>\n    <tr>\n      <th>16514</th>\n      <td>Mercer County Community College</td>\n      <td>Mercer County Community College - Certificate ...</td>\n    </tr>\n    <tr>\n      <th>3816</th>\n      <td>Target Training Center</td>\n      <td>Target Training Center  - Jersey City/Hudson C...</td>\n    </tr>\n    <tr>\n      <th>6786</th>\n      <td>Metropolitan Resurrection Learning Center</td>\n      <td>Metropolitan Resurrection Learning Center - TP</td>\n    </tr>\n    <tr>\n      <th>23436</th>\n      <td>William Paterson University, School of Continu...</td>\n      <td>William Paterson University, School of Continu...</td>\n    </tr>\n    <tr>\n      <th>20653</th>\n      <td>Stockton University</td>\n      <td>Stockton University</td>\n    </tr>\n    <tr>\n      <th>22274</th>\n      <td>Berkeley College</td>\n      <td>Berkeley College - Woodbridge</td>\n    </tr>\n    <tr>\n      <th>2990</th>\n      <td>Ocean County Vocational Technical Schools</td>\n      <td>Ocean County Vocational Technical Schools - To...</td>\n    </tr>\n    <tr>\n      <th>11124</th>\n      <td>Express Driving Academy</td>\n      <td>Express Driving Academy CLOSED</td>\n    </tr>\n  </tbody>\n</table>\n</div>"
     },
     "metadata": {},
     "execution_count": 126
    }
   ],
   "source": [
    "pd.set_option('display.max_rows', None)\n",
    "the_df =  df.sample(n=100, random_state=12)\n",
    "# 1) we cover the simplest case of hyphenation\n",
    "the_df['STANDARDIZEDNAME'] = the_df.NAME.str.split(\" - \", n=1).str[0]\n",
    "\n",
    "# 2) then cover cases of 'X-'\n",
    "regex_pattern =r'^(.+?(?:(?!-\\s).)*)'\n",
    "\n",
    "'''\n",
    "^ # start from beginning\n",
    "(.+? # capture everything non-greedily ...\n",
    "    (?:(?!-\\s) # ... except for the '- '\n",
    "        .) # and continue to match any character\n",
    "*) # ... as many times as we can\n",
    "'''\n",
    "\n",
    "\n",
    "the_df.STANDARDIZEDNAME =\\\n",
    "    the_df.STANDARDIZEDNAME.str.extract(regex_pattern)\n",
    "\n",
    "# 3) Poeple like to put color, closed in the name of their name\n",
    "the_df.STANDARDIZEDNAME =\\\n",
    "    the_df.STANDARDIZEDNAME.str.replace(\"\\(orange\\)\",\"\", case=False)\n",
    "the_df.STANDARDIZEDNAME =\\\n",
    "    the_df.STANDARDIZEDNAME.str.replace(\"closed\",\"\", case=False)\n",
    "\n",
    "the_df[['STANDARDIZEDNAME', 'NAME']]"
   ]
  }
 ],
 "metadata": {
  "language_info": {
   "codemirror_mode": {
    "name": "ipython",
    "version": 3
   },
   "file_extension": ".py",
   "mimetype": "text/x-python",
   "name": "python",
   "nbconvert_exporter": "python",
   "pygments_lexer": "ipython3",
   "version": "3.7.2-final"
  },
  "orig_nbformat": 2,
  "kernelspec": {
   "name": "python37264bitd4adstandardizationpipenvcac7d9f4a0864f29b6353caf0213501a",
   "display_name": "Python 3.7.2 64-bit ('d4ad_standardization': pipenv)"
  }
 },
 "nbformat": 4,
 "nbformat_minor": 2
}