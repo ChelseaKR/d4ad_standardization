{
 "cells": [
  {
   "cell_type": "code",
   "execution_count": 131,
   "metadata": {},
   "outputs": [],
   "source": [
    "# Importing the libraries \n",
    "import pandas as pd\n",
    "import re"
   ]
  },
  {
   "cell_type": "code",
   "execution_count": 132,
   "metadata": {
    "tags": []
   },
   "outputs": [
    {
     "output_type": "stream",
     "name": "stdout",
     "text": "done\n"
    }
   ],
   "source": [
    "rootpath = \"/hdd/work/d4ad_standardization/\"\n",
    "filepath = \"./D4AD_Standardization/data/raw/etpl_all_programsJune3.xls\"\n",
    "\n",
    "columns = [\n",
    "    \"NAME\",\n",
    "    \"NAME_1\",\n",
    "    \"DESCRIPTION\",\n",
    "    \"PREREQUISITES\",\n",
    "    \"FEATURESDESCRIPTION\",\n",
    "    \"STREET1\",\n",
    "    \"CITY\",\n",
    "    \"STATE\",\n",
    "    \"ZIP\",\n",
    "    \"WEBSITE\",\n",
    "    \"COUNTY\",\n",
    "    \"NONGOVAPPROVAL\",\n",
    "    \"STATECOMMENTS\",\n",
    "    \"CIPCODE\",\n",
    "    \"PROVIDERID\",\n",
    "    \"APPROVINGAGENCYID\"\n",
    "]\n",
    "\n",
    "df = pd.read_excel(rootpath + filepath, usecols=columns)\n",
    "print('done')"
   ]
  },
  {
   "cell_type": "code",
   "execution_count": 140,
   "metadata": {
    "tags": []
   },
   "outputs": [
    {
     "output_type": "stream",
     "name": "stdout",
     "text": "done\n"
    }
   ],
   "source": [
    "# Set up columns to keep, fields, locations for writing\n",
    "processedpath = \"./D4AD_Standardization/data/processed/\"\n",
    "\n",
    "content_is = \"NAME_lookup.csv\"\n",
    "\n",
    "the_df = df # df.sample(n=100, random_state=42)\n",
    "\n",
    "columns_to_save = ['STANDARDIZEDNAME', 'NAME', 'PROVIDERID',\n",
    "                    'APPROVINGAGENCYID', 'CIPCODE']\n",
    "\"\"\"\n",
    "the_df['STANDARDIZED_NAME'] =\\\n",
    "    the_df.NAME.str.split(\" - \", n=1)[0]\n",
    "\n",
    "\n",
    "# So the regex r'\\A([^-]+)\\s? almost completely works but\n",
    "# fails in cases of ABC-DEF - NJ and it is more straightforward\n",
    "# to split on \" - \" and get take the first result.\n",
    "\n",
    "# copy over null matches\n",
    "index = the_df.STANDARDIZED_NAME.isna()\n",
    "the_df[index].STANDARDIZED_NAME = the_df[index].NAME\n",
    "\"\"\"\n",
    "\"\"\"\n",
    "the_df.to_csv(rootpath + processedpath + \"{}\".format(content_is),\n",
    "              index = False,\n",
    "              chunksize = 10000,\n",
    "              columns=columns_to_save)\n",
    "\"\"\"\n",
    "print('done')"
   ]
  },
  {
   "cell_type": "code",
   "execution_count": 135,
   "metadata": {
    "tags": []
   },
   "outputs": [
    {
     "output_type": "execute_result",
     "data": {
      "text/plain": "                                        STANDARDIZEDNAME  \\\n7272                    Raritan Valley Community College   \n18491                    Mercer County Community College   \n9037       New Horizons of Central and Northern NJ, Inc.   \n2708                     Mercer County Community College   \n4917                     C.D.E. Computer Learning Center   \n17997                              Camden County College   \n5012                                 T.H.E. Technologies   \n5876   American Training School for Medical Professio...   \n523                                    Cortiva Institute   \n9519      Southern NJ Chapter of the Appraisal Institute   \n10099      New Horizons of Central and Northern NJ, Inc.   \n230                      Hudson County Community College   \n3835                   Professional Dealers School, Inc.   \n20574                       Param Institute of Education   \n12868      New Horizons of Central and Northern NJ, Inc.   \n16717                     Thomas Edison State University   \n24265                      Ideal Institute of Technology   \n3022                   Monmouth County Vocational School   \n24042  William Paterson University, School of Continu...   \n6206                    ORI Medical Technology Institute   \n19038                                      E & S Academy   \n7779                      Fairleigh Dickinson University   \n12103                                   Anthem Institute   \n2133                                Union County College   \n4598                       The School of Court Reporting   \n7455       New Horizons of Central and Northern NJ, Inc.   \n6394                     Hudson County Community College   \n13935                                         ACECS Inc.   \n19179                New Educare Institute of Healthcare   \n14962                                Bloomfield College    \n21649                      SAM Consulting Services, Inc.   \n276                            Lamamal LLC, PCC Computer   \n15279  Brookdale Community College Business & Communi...   \n979            Ocean County Vocational Technical Schools   \n1542                 Community Options Enterprises, Inc.   \n24448                                Sky Language School   \n16457                    Windsor Institute of Technology   \n3979                                    Fortis Institute   \n10078                    Mercer County Community College   \n11649      New Horizons of Central and Northern NJ, Inc.   \n19659                           County College of Morris   \n1393                         Essex County College Credit   \n22655                           County College of Morris   \n6195                    Cape May County Technical School   \n1684      Work Opportunity Center of The Arc of Monmouth   \n23049                                 ManageAssist, Inc.   \n19577                                Alliance Plus, Inc.   \n16985  NJIT Division of Continuing Professional Educa...   \n18550                                Alliance Plus, Inc.   \n21420  William Paterson University, School of Continu...   \n6999                 Netcom Information Technology, Inc.   \n9796      HoHoKus School of Trade and Technical Sciences   \n3856                    Amtech Computer Training Centers   \n6816   Brookdale Community College Business & Communi...   \n15824  NJIT Division of Continuing Professional Educa...   \n8923                    Raritan Valley Community College   \n9615              The Institute for Continuing Education   \n5740                    Amtech Computer Training Centers   \n15551                                    Pace University   \n3944                              Dover Business College   \n19023                             Jumbool Driving School   \n19045                        Lincoln Technical Institute   \n13047                                    Omega Institute   \n17935  International Communication Solutions T/A Work...   \n5813                Hudson Institute of Medical Sciences   \n7412                        Career Empowerment Institute   \n11565                        Lincoln Technical Institute   \n8176                     IBEW Training Academy Local 164   \n5147                    Raritan Valley Community College   \n741                        Northampton Community College   \n17092                    Stevens Institute of Technology   \n8903                    Raritan Valley Community College   \n13465      New Horizons of Central and Northern NJ, Inc.   \n23484          Empowered! The Center for Personal Change   \n19134                            Princess Beauty Academy   \n15060                               Bar PC Training, LLC   \n12000                               Ocean County College   \n12723      New Horizons of Central and Northern NJ, Inc.   \n5491                              Katherine Gibbs School   \n24393          Associated Construction Contractors of NJ   \n16417                                    Pace University   \n10002                          Burlington County College   \n9183                                     Kean University   \n4411               Hudson Institute of Computer Sciences   \n9281                            Middlesex County College   \n11140                               Ocean County College   \n23898                                   Plenum Institute   \n5483                         Micropower Career Institute   \n1528   Perth Amboy Education Center Title II Grant Pr...   \n9283                                         MindLeaders   \n17874                        Lincoln Technical Institute   \n5791                         Impetus Systems and Careers   \n21460                           Mr. Driving School, Inc.   \n2373                     EAI Consulting & Training, Inc.   \n2807                                    Campus Education   \n2184                      Performance Training Institute   \n15348                                   Penn Foster Inc.   \n24239                           JR Truck Driving School    \n17350                    Mercer County Community College   \n14579                          New York Paralegal School   \n\n                                                    NAME  \n7272       Raritan Valley Community College - Non Credit  \n18491  Mercer County Community College - Certificate ...  \n9037   New Horizons of Central and Northern NJ, Inc.-...  \n2708   Mercer County Community College - Certificate ...  \n4917                     C.D.E. Computer Learning Center  \n17997      Camden County College - Continuing Education   \n5012                           T.H.E. Technologies - PCS  \n5876   American Training School for Medical Professio...  \n523                    Cortiva Institute - Hoboken - PCS  \n9519      Southern NJ Chapter of the Appraisal Institute  \n10099  New Horizons of Central and Northern NJ, Inc. ...  \n230    Hudson County Community College - Center for B...  \n3835                   Professional Dealers School, Inc.  \n20574                 Param Institute of Education - PCS  \n12868  New Horizons of Central and Northern NJ, Inc. ...  \n16717                     Thomas Edison State University  \n24265                Ideal Institute of Technology - PCS  \n3022   Monmouth County Vocational School - Adult Post...  \n24042  William Paterson University, School of Continu...  \n6206     ORI Medical Technology Institute - PVS (CLOSED)  \n19038                    E & S Academy - Elizabeth - PCS  \n7779   Fairleigh Dickinson University - Hackensack an...  \n12103               Anthem Institute - Jersey City - PVS  \n2133            Union County College - Academic Programs  \n4598                       The School of Court Reporting  \n7455   New Horizons of Central and Northern NJ, Inc. ...  \n6394   Hudson County Community College - Center for B...  \n13935                                         ACECS Inc.  \n19179          New Educare Institute of Healthcare - PVS  \n14962                                Bloomfield College   \n21649                      SAM Consulting Services, Inc.  \n276                            Lamamal LLC, PCC Computer  \n15279  Brookdale Community College Business & Communi...  \n979    Ocean County Vocational Technical Schools - To...  \n1542                 Community Options Enterprises, Inc.  \n24448                          Sky Language School - PCS  \n16457              Windsor Institute of Technology - PVS  \n3979   Fortis Institute - Wayne - PVS (Formerly Berda...  \n10078  Mercer County Community College - Certificate ...  \n11649  New Horizons of Central and Northern NJ, Inc.-...  \n19659                           County College of Morris  \n1393                         Essex County College Credit  \n22655                           County College of Morris  \n6195   Cape May County Technical School - Adult/Post ...  \n1684      Work Opportunity Center of The Arc of Monmouth  \n23049            ManageAssist, Inc. - Customized Trainer  \n19577                          Alliance Plus, Inc. - PVS  \n16985  NJIT Division of Continuing Professional Educa...  \n18550                          Alliance Plus, Inc. - PVS  \n21420  William Paterson University, School of Continu...  \n6999   Netcom Information Technology, Inc. - Queens C...  \n9796   HoHoKus School of Trade and Technical Sciences...  \n3856    Amtech Computer Training Centers - New Brunswick  \n6816   Brookdale Community College Business & Communi...  \n15824  NJIT Division of Continuing Professional Educa...  \n8923       Raritan Valley Community College - Non Credit  \n9615        The Institute for Continuing Education - PCS  \n5740       Amtech Computer Training Centers - Toms River  \n15551                                    Pace University  \n3944              Dover Business College - Clifton - PVS  \n19023               Jumbool Driving School - Dover - PVS  \n19045        Lincoln Technical Institute - Paramus - PCS  \n13047                                    Omega Institute  \n17935  International Communication Solutions T/A Work...  \n5813                Hudson Institute of Medical Sciences  \n7412                        Career Empowerment Institute  \n11565         Lincoln Technical Institute - Iselin - PVS  \n8176                     IBEW Training Academy Local 164  \n5147       Raritan Valley Community College - Non Credit  \n741                        Northampton Community College  \n17092                    Stevens Institute of Technology  \n8903                    Raritan Valley Community College  \n13465  New Horizons of Central and Northern NJ, Inc.-...  \n23484    Empowered! The Center for Personal Change - PCS  \n19134                      Princess Beauty Academy - PVS  \n15060                         Bar PC Training, LLC - PCS  \n12000  Ocean County College - Continuing & Profession...  \n12723  New Horizons of Central and Northern NJ, Inc.-...  \n5491   Katherine Gibbs School - Continuing Education ...  \n24393          Associated Construction Contractors of NJ  \n16417                                    Pace University  \n10002                          Burlington County College  \n9183                          Kean University - Academic  \n4411               Hudson Institute of Computer Sciences  \n9281          Middlesex County College - Credit Programs  \n11140  Ocean County College - Continuing & Profession...  \n23898                             Plenum Institute - PCS  \n5483                         Micropower Career Institute  \n1528   Perth Amboy Education Center Title II Grant Pr...  \n9283                                         MindLeaders  \n17874         Lincoln Technical Institute - Mahwah - PCS  \n5791                   Impetus Systems and Careers - PVS  \n21460               Mr. Driving School, Inc. - Middlesex  \n2373                     EAI Consulting & Training, Inc.  \n2807                Campus Education - Jersey City - PCS  \n2184                      Performance Training Institute  \n15348                                   Penn Foster Inc.  \n24239                           JR Truck Driving School   \n17350  Mercer County Community College - Certificate ...  \n14579                          New York Paralegal School  ",
      "text/html": "<div>\n<style scoped>\n    .dataframe tbody tr th:only-of-type {\n        vertical-align: middle;\n    }\n\n    .dataframe tbody tr th {\n        vertical-align: top;\n    }\n\n    .dataframe thead th {\n        text-align: right;\n    }\n</style>\n<table border=\"1\" class=\"dataframe\">\n  <thead>\n    <tr style=\"text-align: right;\">\n      <th></th>\n      <th>STANDARDIZEDNAME</th>\n      <th>NAME</th>\n    </tr>\n  </thead>\n  <tbody>\n    <tr>\n      <th>7272</th>\n      <td>Raritan Valley Community College</td>\n      <td>Raritan Valley Community College - Non Credit</td>\n    </tr>\n    <tr>\n      <th>18491</th>\n      <td>Mercer County Community College</td>\n      <td>Mercer County Community College - Certificate ...</td>\n    </tr>\n    <tr>\n      <th>9037</th>\n      <td>New Horizons of Central and Northern NJ, Inc.</td>\n      <td>New Horizons of Central and Northern NJ, Inc.-...</td>\n    </tr>\n    <tr>\n      <th>2708</th>\n      <td>Mercer County Community College</td>\n      <td>Mercer County Community College - Certificate ...</td>\n    </tr>\n    <tr>\n      <th>4917</th>\n      <td>C.D.E. Computer Learning Center</td>\n      <td>C.D.E. Computer Learning Center</td>\n    </tr>\n    <tr>\n      <th>17997</th>\n      <td>Camden County College</td>\n      <td>Camden County College - Continuing Education</td>\n    </tr>\n    <tr>\n      <th>5012</th>\n      <td>T.H.E. Technologies</td>\n      <td>T.H.E. Technologies - PCS</td>\n    </tr>\n    <tr>\n      <th>5876</th>\n      <td>American Training School for Medical Professio...</td>\n      <td>American Training School for Medical Professio...</td>\n    </tr>\n    <tr>\n      <th>523</th>\n      <td>Cortiva Institute</td>\n      <td>Cortiva Institute - Hoboken - PCS</td>\n    </tr>\n    <tr>\n      <th>9519</th>\n      <td>Southern NJ Chapter of the Appraisal Institute</td>\n      <td>Southern NJ Chapter of the Appraisal Institute</td>\n    </tr>\n    <tr>\n      <th>10099</th>\n      <td>New Horizons of Central and Northern NJ, Inc.</td>\n      <td>New Horizons of Central and Northern NJ, Inc. ...</td>\n    </tr>\n    <tr>\n      <th>230</th>\n      <td>Hudson County Community College</td>\n      <td>Hudson County Community College - Center for B...</td>\n    </tr>\n    <tr>\n      <th>3835</th>\n      <td>Professional Dealers School, Inc.</td>\n      <td>Professional Dealers School, Inc.</td>\n    </tr>\n    <tr>\n      <th>20574</th>\n      <td>Param Institute of Education</td>\n      <td>Param Institute of Education - PCS</td>\n    </tr>\n    <tr>\n      <th>12868</th>\n      <td>New Horizons of Central and Northern NJ, Inc.</td>\n      <td>New Horizons of Central and Northern NJ, Inc. ...</td>\n    </tr>\n    <tr>\n      <th>16717</th>\n      <td>Thomas Edison State University</td>\n      <td>Thomas Edison State University</td>\n    </tr>\n    <tr>\n      <th>24265</th>\n      <td>Ideal Institute of Technology</td>\n      <td>Ideal Institute of Technology - PCS</td>\n    </tr>\n    <tr>\n      <th>3022</th>\n      <td>Monmouth County Vocational School</td>\n      <td>Monmouth County Vocational School - Adult Post...</td>\n    </tr>\n    <tr>\n      <th>24042</th>\n      <td>William Paterson University, School of Continu...</td>\n      <td>William Paterson University, School of Continu...</td>\n    </tr>\n    <tr>\n      <th>6206</th>\n      <td>ORI Medical Technology Institute</td>\n      <td>ORI Medical Technology Institute - PVS (CLOSED)</td>\n    </tr>\n    <tr>\n      <th>19038</th>\n      <td>E &amp; S Academy</td>\n      <td>E &amp; S Academy - Elizabeth - PCS</td>\n    </tr>\n    <tr>\n      <th>7779</th>\n      <td>Fairleigh Dickinson University</td>\n      <td>Fairleigh Dickinson University - Hackensack an...</td>\n    </tr>\n    <tr>\n      <th>12103</th>\n      <td>Anthem Institute</td>\n      <td>Anthem Institute - Jersey City - PVS</td>\n    </tr>\n    <tr>\n      <th>2133</th>\n      <td>Union County College</td>\n      <td>Union County College - Academic Programs</td>\n    </tr>\n    <tr>\n      <th>4598</th>\n      <td>The School of Court Reporting</td>\n      <td>The School of Court Reporting</td>\n    </tr>\n    <tr>\n      <th>7455</th>\n      <td>New Horizons of Central and Northern NJ, Inc.</td>\n      <td>New Horizons of Central and Northern NJ, Inc. ...</td>\n    </tr>\n    <tr>\n      <th>6394</th>\n      <td>Hudson County Community College</td>\n      <td>Hudson County Community College - Center for B...</td>\n    </tr>\n    <tr>\n      <th>13935</th>\n      <td>ACECS Inc.</td>\n      <td>ACECS Inc.</td>\n    </tr>\n    <tr>\n      <th>19179</th>\n      <td>New Educare Institute of Healthcare</td>\n      <td>New Educare Institute of Healthcare - PVS</td>\n    </tr>\n    <tr>\n      <th>14962</th>\n      <td>Bloomfield College</td>\n      <td>Bloomfield College</td>\n    </tr>\n    <tr>\n      <th>21649</th>\n      <td>SAM Consulting Services, Inc.</td>\n      <td>SAM Consulting Services, Inc.</td>\n    </tr>\n    <tr>\n      <th>276</th>\n      <td>Lamamal LLC, PCC Computer</td>\n      <td>Lamamal LLC, PCC Computer</td>\n    </tr>\n    <tr>\n      <th>15279</th>\n      <td>Brookdale Community College Business &amp; Communi...</td>\n      <td>Brookdale Community College Business &amp; Communi...</td>\n    </tr>\n    <tr>\n      <th>979</th>\n      <td>Ocean County Vocational Technical Schools</td>\n      <td>Ocean County Vocational Technical Schools - To...</td>\n    </tr>\n    <tr>\n      <th>1542</th>\n      <td>Community Options Enterprises, Inc.</td>\n      <td>Community Options Enterprises, Inc.</td>\n    </tr>\n    <tr>\n      <th>24448</th>\n      <td>Sky Language School</td>\n      <td>Sky Language School - PCS</td>\n    </tr>\n    <tr>\n      <th>16457</th>\n      <td>Windsor Institute of Technology</td>\n      <td>Windsor Institute of Technology - PVS</td>\n    </tr>\n    <tr>\n      <th>3979</th>\n      <td>Fortis Institute</td>\n      <td>Fortis Institute - Wayne - PVS (Formerly Berda...</td>\n    </tr>\n    <tr>\n      <th>10078</th>\n      <td>Mercer County Community College</td>\n      <td>Mercer County Community College - Certificate ...</td>\n    </tr>\n    <tr>\n      <th>11649</th>\n      <td>New Horizons of Central and Northern NJ, Inc.</td>\n      <td>New Horizons of Central and Northern NJ, Inc.-...</td>\n    </tr>\n    <tr>\n      <th>19659</th>\n      <td>County College of Morris</td>\n      <td>County College of Morris</td>\n    </tr>\n    <tr>\n      <th>1393</th>\n      <td>Essex County College Credit</td>\n      <td>Essex County College Credit</td>\n    </tr>\n    <tr>\n      <th>22655</th>\n      <td>County College of Morris</td>\n      <td>County College of Morris</td>\n    </tr>\n    <tr>\n      <th>6195</th>\n      <td>Cape May County Technical School</td>\n      <td>Cape May County Technical School - Adult/Post ...</td>\n    </tr>\n    <tr>\n      <th>1684</th>\n      <td>Work Opportunity Center of The Arc of Monmouth</td>\n      <td>Work Opportunity Center of The Arc of Monmouth</td>\n    </tr>\n    <tr>\n      <th>23049</th>\n      <td>ManageAssist, Inc.</td>\n      <td>ManageAssist, Inc. - Customized Trainer</td>\n    </tr>\n    <tr>\n      <th>19577</th>\n      <td>Alliance Plus, Inc.</td>\n      <td>Alliance Plus, Inc. - PVS</td>\n    </tr>\n    <tr>\n      <th>16985</th>\n      <td>NJIT Division of Continuing Professional Educa...</td>\n      <td>NJIT Division of Continuing Professional Educa...</td>\n    </tr>\n    <tr>\n      <th>18550</th>\n      <td>Alliance Plus, Inc.</td>\n      <td>Alliance Plus, Inc. - PVS</td>\n    </tr>\n    <tr>\n      <th>21420</th>\n      <td>William Paterson University, School of Continu...</td>\n      <td>William Paterson University, School of Continu...</td>\n    </tr>\n    <tr>\n      <th>6999</th>\n      <td>Netcom Information Technology, Inc.</td>\n      <td>Netcom Information Technology, Inc. - Queens C...</td>\n    </tr>\n    <tr>\n      <th>9796</th>\n      <td>HoHoKus School of Trade and Technical Sciences</td>\n      <td>HoHoKus School of Trade and Technical Sciences...</td>\n    </tr>\n    <tr>\n      <th>3856</th>\n      <td>Amtech Computer Training Centers</td>\n      <td>Amtech Computer Training Centers - New Brunswick</td>\n    </tr>\n    <tr>\n      <th>6816</th>\n      <td>Brookdale Community College Business &amp; Communi...</td>\n      <td>Brookdale Community College Business &amp; Communi...</td>\n    </tr>\n    <tr>\n      <th>15824</th>\n      <td>NJIT Division of Continuing Professional Educa...</td>\n      <td>NJIT Division of Continuing Professional Educa...</td>\n    </tr>\n    <tr>\n      <th>8923</th>\n      <td>Raritan Valley Community College</td>\n      <td>Raritan Valley Community College - Non Credit</td>\n    </tr>\n    <tr>\n      <th>9615</th>\n      <td>The Institute for Continuing Education</td>\n      <td>The Institute for Continuing Education - PCS</td>\n    </tr>\n    <tr>\n      <th>5740</th>\n      <td>Amtech Computer Training Centers</td>\n      <td>Amtech Computer Training Centers - Toms River</td>\n    </tr>\n    <tr>\n      <th>15551</th>\n      <td>Pace University</td>\n      <td>Pace University</td>\n    </tr>\n    <tr>\n      <th>3944</th>\n      <td>Dover Business College</td>\n      <td>Dover Business College - Clifton - PVS</td>\n    </tr>\n    <tr>\n      <th>19023</th>\n      <td>Jumbool Driving School</td>\n      <td>Jumbool Driving School - Dover - PVS</td>\n    </tr>\n    <tr>\n      <th>19045</th>\n      <td>Lincoln Technical Institute</td>\n      <td>Lincoln Technical Institute - Paramus - PCS</td>\n    </tr>\n    <tr>\n      <th>13047</th>\n      <td>Omega Institute</td>\n      <td>Omega Institute</td>\n    </tr>\n    <tr>\n      <th>17935</th>\n      <td>International Communication Solutions T/A Work...</td>\n      <td>International Communication Solutions T/A Work...</td>\n    </tr>\n    <tr>\n      <th>5813</th>\n      <td>Hudson Institute of Medical Sciences</td>\n      <td>Hudson Institute of Medical Sciences</td>\n    </tr>\n    <tr>\n      <th>7412</th>\n      <td>Career Empowerment Institute</td>\n      <td>Career Empowerment Institute</td>\n    </tr>\n    <tr>\n      <th>11565</th>\n      <td>Lincoln Technical Institute</td>\n      <td>Lincoln Technical Institute - Iselin - PVS</td>\n    </tr>\n    <tr>\n      <th>8176</th>\n      <td>IBEW Training Academy Local 164</td>\n      <td>IBEW Training Academy Local 164</td>\n    </tr>\n    <tr>\n      <th>5147</th>\n      <td>Raritan Valley Community College</td>\n      <td>Raritan Valley Community College - Non Credit</td>\n    </tr>\n    <tr>\n      <th>741</th>\n      <td>Northampton Community College</td>\n      <td>Northampton Community College</td>\n    </tr>\n    <tr>\n      <th>17092</th>\n      <td>Stevens Institute of Technology</td>\n      <td>Stevens Institute of Technology</td>\n    </tr>\n    <tr>\n      <th>8903</th>\n      <td>Raritan Valley Community College</td>\n      <td>Raritan Valley Community College</td>\n    </tr>\n    <tr>\n      <th>13465</th>\n      <td>New Horizons of Central and Northern NJ, Inc.</td>\n      <td>New Horizons of Central and Northern NJ, Inc.-...</td>\n    </tr>\n    <tr>\n      <th>23484</th>\n      <td>Empowered! The Center for Personal Change</td>\n      <td>Empowered! The Center for Personal Change - PCS</td>\n    </tr>\n    <tr>\n      <th>19134</th>\n      <td>Princess Beauty Academy</td>\n      <td>Princess Beauty Academy - PVS</td>\n    </tr>\n    <tr>\n      <th>15060</th>\n      <td>Bar PC Training, LLC</td>\n      <td>Bar PC Training, LLC - PCS</td>\n    </tr>\n    <tr>\n      <th>12000</th>\n      <td>Ocean County College</td>\n      <td>Ocean County College - Continuing &amp; Profession...</td>\n    </tr>\n    <tr>\n      <th>12723</th>\n      <td>New Horizons of Central and Northern NJ, Inc.</td>\n      <td>New Horizons of Central and Northern NJ, Inc.-...</td>\n    </tr>\n    <tr>\n      <th>5491</th>\n      <td>Katherine Gibbs School</td>\n      <td>Katherine Gibbs School - Continuing Education ...</td>\n    </tr>\n    <tr>\n      <th>24393</th>\n      <td>Associated Construction Contractors of NJ</td>\n      <td>Associated Construction Contractors of NJ</td>\n    </tr>\n    <tr>\n      <th>16417</th>\n      <td>Pace University</td>\n      <td>Pace University</td>\n    </tr>\n    <tr>\n      <th>10002</th>\n      <td>Burlington County College</td>\n      <td>Burlington County College</td>\n    </tr>\n    <tr>\n      <th>9183</th>\n      <td>Kean University</td>\n      <td>Kean University - Academic</td>\n    </tr>\n    <tr>\n      <th>4411</th>\n      <td>Hudson Institute of Computer Sciences</td>\n      <td>Hudson Institute of Computer Sciences</td>\n    </tr>\n    <tr>\n      <th>9281</th>\n      <td>Middlesex County College</td>\n      <td>Middlesex County College - Credit Programs</td>\n    </tr>\n    <tr>\n      <th>11140</th>\n      <td>Ocean County College</td>\n      <td>Ocean County College - Continuing &amp; Profession...</td>\n    </tr>\n    <tr>\n      <th>23898</th>\n      <td>Plenum Institute</td>\n      <td>Plenum Institute - PCS</td>\n    </tr>\n    <tr>\n      <th>5483</th>\n      <td>Micropower Career Institute</td>\n      <td>Micropower Career Institute</td>\n    </tr>\n    <tr>\n      <th>1528</th>\n      <td>Perth Amboy Education Center Title II Grant Pr...</td>\n      <td>Perth Amboy Education Center Title II Grant Pr...</td>\n    </tr>\n    <tr>\n      <th>9283</th>\n      <td>MindLeaders</td>\n      <td>MindLeaders</td>\n    </tr>\n    <tr>\n      <th>17874</th>\n      <td>Lincoln Technical Institute</td>\n      <td>Lincoln Technical Institute - Mahwah - PCS</td>\n    </tr>\n    <tr>\n      <th>5791</th>\n      <td>Impetus Systems and Careers</td>\n      <td>Impetus Systems and Careers - PVS</td>\n    </tr>\n    <tr>\n      <th>21460</th>\n      <td>Mr. Driving School, Inc.</td>\n      <td>Mr. Driving School, Inc. - Middlesex</td>\n    </tr>\n    <tr>\n      <th>2373</th>\n      <td>EAI Consulting &amp; Training, Inc.</td>\n      <td>EAI Consulting &amp; Training, Inc.</td>\n    </tr>\n    <tr>\n      <th>2807</th>\n      <td>Campus Education</td>\n      <td>Campus Education - Jersey City - PCS</td>\n    </tr>\n    <tr>\n      <th>2184</th>\n      <td>Performance Training Institute</td>\n      <td>Performance Training Institute</td>\n    </tr>\n    <tr>\n      <th>15348</th>\n      <td>Penn Foster Inc.</td>\n      <td>Penn Foster Inc.</td>\n    </tr>\n    <tr>\n      <th>24239</th>\n      <td>JR Truck Driving School</td>\n      <td>JR Truck Driving School</td>\n    </tr>\n    <tr>\n      <th>17350</th>\n      <td>Mercer County Community College</td>\n      <td>Mercer County Community College - Certificate ...</td>\n    </tr>\n    <tr>\n      <th>14579</th>\n      <td>New York Paralegal School</td>\n      <td>New York Paralegal School</td>\n    </tr>\n  </tbody>\n</table>\n</div>"
     },
     "metadata": {},
     "execution_count": 135
    }
   ],
   "source": [
    "# Let's transform this column into a final version...\n",
    "\n",
    "# 1) we cover the simplest case of hyphenation\n",
    "the_df['STANDARDIZEDNAME'] = the_df.NAME.str.split(\" - \", n=1).str[0]\n",
    "\n",
    "# 2) then cover cases of 'X-'\n",
    "regex_pattern = '''\n",
    "                ^                   # start from beginning\n",
    "                (.+?                # capture everything non-greedily ...\n",
    "                    (?:(?!-\\s)      # ... except for the '- ', if it's there\n",
    "                        .)          # and continue to match any character\n",
    "                *)                  # ... as many times as we can\n",
    "                '''\n",
    "\n",
    "the_df.STANDARDIZEDNAME =\\\n",
    "    the_df.STANDARDIZEDNAME.str.extract(regex_pattern, flags=re.VERBOSE)\n",
    "\n",
    "# 3) Then go after odd static patterns that are commeon\n",
    "# ... people like to put the color orange, closed in the name of the provider\n",
    "the_df.STANDARDIZEDNAME =\\\n",
    "    the_df.STANDARDIZEDNAME.str.replace(\"\\(orange\\)\",\"\", case=False)\n",
    "the_df.STANDARDIZEDNAME =\\\n",
    "    the_df.STANDARDIZEDNAME.str.replace(\"closed\",\"\", case=False)\n",
    "\n",
    "# # todo: check the data, maybe 200 cases to get the Jeffrey's interval here\n",
    "# pd.set_option('display.max_rows', None)\n",
    "# the_df.sample(n=100)[['STANDARDIZEDNAME', 'NAME']] # see some rows"
   ]
  },
  {
   "cell_type": "code",
   "execution_count": 142,
   "metadata": {},
   "outputs": [],
   "source": [
    "# ... finally we can write this out as our first complete lookup table\n",
    "# for the NAME field\n",
    "the_df.to_csv(rootpath + processedpath + \"{}\".format(content_is),\n",
    "              index = False,\n",
    "              chunksize = 10000,\n",
    "              columns=columns_to_save)"
   ]
  }
 ],
 "metadata": {
  "language_info": {
   "codemirror_mode": {
    "name": "ipython",
    "version": 3
   },
   "file_extension": ".py",
   "mimetype": "text/x-python",
   "name": "python",
   "nbconvert_exporter": "python",
   "pygments_lexer": "ipython3",
   "version": "3.7.2-final"
  },
  "orig_nbformat": 2,
  "kernelspec": {
   "name": "python37264bitd4adstandardizationpipenvcac7d9f4a0864f29b6353caf0213501a",
   "display_name": "Python 3.7.2 64-bit ('d4ad_standardization': pipenv)"
  }
 },
 "nbformat": 4,
 "nbformat_minor": 2
}