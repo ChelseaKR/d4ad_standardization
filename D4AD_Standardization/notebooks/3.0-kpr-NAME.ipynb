{
 "cells": [
  {
   "cell_type": "code",
   "execution_count": 1,
   "metadata": {},
   "outputs": [],
   "source": [
    "# Importing the libraries \n",
    "import pandas as pd"
   ]
  },
  {
   "cell_type": "code",
   "execution_count": 2,
   "metadata": {
    "tags": []
   },
   "outputs": [
    {
     "output_type": "stream",
     "name": "stdout",
     "text": "done\n"
    }
   ],
   "source": [
    "rootpath = \"/hdd/work/d4ad_standardization/\"\n",
    "filepath = \"./D4AD_Standardization/data/raw/etpl_all_programsJune3.xls\"\n",
    "\n",
    "columns = [\n",
    "    \"NAME\",\n",
    "    \"NAME_1\",\n",
    "    \"DESCRIPTION\",\n",
    "    \"PREREQUISITES\",\n",
    "    \"FEATURESDESCRIPTION\",\n",
    "    \"STREET1\",\n",
    "    \"CITY\",\n",
    "    \"STATE\",\n",
    "    \"ZIP\",\n",
    "    \"WEBSITE\",\n",
    "    \"COUNTY\",\n",
    "    \"NONGOVAPPROVAL\",\n",
    "    \"STATECOMMENTS\",\n",
    "    \"CIPCODE\",\n",
    "    \"PROVIDERID\",\n",
    "    \"APPROVINGAGENCYID\"\n",
    "]\n",
    "\n",
    "df = pd.read_excel(rootpath + filepath, usecols=columns)\n",
    "print('done')"
   ]
  },
  {
   "cell_type": "code",
   "execution_count": 81,
   "metadata": {
    "tags": []
   },
   "outputs": [
    {
     "output_type": "stream",
     "name": "stdout",
     "text": "done\n"
    }
   ],
   "source": [
    "processedpath = \"./D4AD_Standardization/data/processed/\"\n",
    "\n",
    "content_is = \"NAME_lookup.csv\"\n",
    "\n",
    "the_df = df # df.sample(n=100, random_state=42)\n",
    "\n",
    "columns_to_save = ['STANDARDIZED_NAME', 'NAME', 'PROVIDERID',\n",
    "           'APPROVINGAGENCYID', 'CIPCODE']\n",
    "\n",
    "\"\"\"\n",
    "# regex from start of string up to and excluding first dash character\n",
    "regex_pattern = r'\\A([^-]+)\\s?'\n",
    "\n",
    "the_df['STANDARDIZED_NAME'] =\\\n",
    "    the_df.NAME.str.extract(pat=regex_pattern)\n",
    "the_df['STANDARDIZED_NAME'] =\\\n",
    "    the_df['STANDARDIZED_NAME'].str.rstrip() # can't easily get that trailing space out from regex\n",
    "\"\"\"\n",
    "\n",
    "the_df['STANDARDIZED_NAME'] =\\\n",
    "    the_df.NAME.str.split(\" - \", n=1)[0]\n",
    "\n",
    "\n",
    "# So the regex r'\\A([^-]+)\\s? almost completely works but\n",
    "# fails in cases of ABC-DEF - NJ and it is more straightforward\n",
    "# to split on \" - \" and get take the first result.\n",
    "\n",
    "\n",
    "\n",
    "# copy over null matches\n",
    "index = the_df.STANDARDIZED_NAME.isna()\n",
    "the_df[index].STANDARDIZED_NAME = the_df[index].NAME\n",
    "\"\"\"\n",
    "the_df.to_csv(rootpath + processedpath + \"{}\".format(content_is),\n",
    "              index = False,\n",
    "              chunksize = 10000,\n",
    "              columns=columns_to_save)\n",
    "              \"\"\"\n",
    "print('done')"
   ]
  },
  {
   "cell_type": "code",
   "execution_count": 96,
   "metadata": {
    "tags": []
   },
   "outputs": [
    {
     "output_type": "execute_result",
     "data": {
      "text/plain": "3494              [Star Technical Institute, Edison - PVS]\n14560    [New Horizons of Central and Northern NJ, Inc....\n5535                   [KeySkills Learning, Inc., Maywood]\n20964                                   [Beyond Today, TP]\n17769            [Rutgers Center for Innovation Education]\n22724               [North Jersey Massage Training Center]\n4720                         [Essex County College Credit]\n12570    [Rowan College at Gloucester County Division o...\n4186        [Raritan Valley Community College, Non Credit]\n2270              [Newark Business Training Institute, TP]\n16161                                   [ACECS, Inc., PCS]\n4043      [Rowan College at Burlington County, Non-credit]\n23850    [Universal Technical Institute Northeast, LLC,...\n23293    [The New York Code and Design Academy- Jersey ...\n16700    [CDM Technical Training Institute, Inc., Phill...\n17700          [1st Security Preparation & Placement, PVS]\n2174             [Union County College, Academic Programs]\n7901                 [Anthem Institute, Jersey City - PVS]\n13522    [Union County College, Adult & Continuing ED./...\n17735       [Raritan Valley Community College, Non Credit]\n4844                    [South Jersey Career Center, Inc.]\n3350                               [Rizzieri Aveda School]\n15460    [Mercer County Technical Schools, Adult Evenin...\n14962                                [Bloomfield College ]\n640                            [Cumberland County College]\n6649                            [T.H.E. Technologies, PCS]\n20894                                     [FBIG, Inc., TP]\n7551                        [Sanford-Brown Institute, PVS]\n11193    [New Horizons of Central and Northern NJ, Inc....\n7185                     [Sussex County Community College]\n536                            [Hi-Tec Training Institute]\n8351     [Union County College, Adult & Continuing ED./...\n18679                             [Elite Healthcare Inc. ]\n2266              [Newark Business Training Institute, TP]\n11961    [Ocean County College, Continuing & Profession...\n19985    [Project Literacy of Greater Bergen County, Inc.]\n19748                        [360training.com DBA Meditec]\n24175    [William Paterson University, School of Contin...\n1056     [Southern New Jersey Technical School, William...\n3643                 [Harrison Career Institute, Deptford]\n6293                     [EAI Consulting & Training, Inc.]\n10984        [C & C Nurse Aide Training School, Inc., PVS]\n15551                                    [Pace University]\n23367         [Lincoln Technical Institute, Paramus - PCS]\n23663                                   [DeVry University]\n12037    [Ocean County College, Continuing & Profession...\n21864         [PC AGE Career Institute, Jersey City - PCS]\n4235         [Computer Insight Learning Center, Eatontown]\n23975                          [Cumberland County College]\n5516     [Ocean County College, Continuing & Profession...\n13476                        [New York Business Institute]\n6405                 [Anthem Institute, Jersey City - PVS]\n15075    [Middlesex County College, Professional and Co...\n17729    [Mercer County Community College, Certificate ...\n20339    [Ocean County College, Continuing & Profession...\n6225     [Amtech Computer Training Centers, New Brunswick]\n4574     [New Horizons of Central and Northern NJ, Inc....\n2346               [County College of Morris, old account]\n21363                           [Einstein Learning Center]\n11428             [Ideal Driving School, Inc., Union City]\nName: NAME, dtype: object"
     },
     "metadata": {},
     "execution_count": 96
    }
   ],
   "source": [
    "the_df =  df.sample(n=100, random_state=42)\n",
    "the_df.iloc[0:60].NAME.str.split(\" - \", n=1)\n"
   ]
  },
  {
   "cell_type": "code",
   "execution_count": 93,
   "metadata": {},
   "outputs": [
    {
     "output_type": "execute_result",
     "data": {
      "text/plain": "3494               Star Technical Institute - Edison - PVS\n14560    New Horizons of Central and Northern NJ, Inc. ...\n5535                    KeySkills Learning, Inc. - Maywood\n20964                                    Beyond Today - TP\n17769              Rutgers Center for Innovation Education\n                               ...                        \n14546              Rutgers Center for Innovation Education\n8231     Lincoln Technical Institute - S. Plainfield - PCS\n17598                          Future Media Concepts, Inc.\n13871                       American College of Technology\n2714     Newark Business Training Institute -Title II G...\nName: NAME, Length: 100, dtype: object"
     },
     "metadata": {},
     "execution_count": 93
    }
   ],
   "source": [
    "the_df.NAME"
   ]
  },
  {
   "cell_type": "markdown",
   "metadata": {},
   "source": [
    "The above does not work in cases where:\n",
    "* There is not match (empty)\n",
    "* When there is no dash, ([^-])+ greedily matches up to the last space, often dropping the end of the name"
   ]
  }
 ],
 "metadata": {
  "language_info": {
   "codemirror_mode": {
    "name": "ipython",
    "version": 3
   },
   "file_extension": ".py",
   "mimetype": "text/x-python",
   "name": "python",
   "nbconvert_exporter": "python",
   "pygments_lexer": "ipython3",
   "version": "3.7.2-final"
  },
  "orig_nbformat": 2,
  "kernelspec": {
   "name": "python37264bitd4adstandardizationpipenvcac7d9f4a0864f29b6353caf0213501a",
   "display_name": "Python 3.7.2 64-bit ('d4ad_standardization': pipenv)"
  }
 },
 "nbformat": 4,
 "nbformat_minor": 2
}